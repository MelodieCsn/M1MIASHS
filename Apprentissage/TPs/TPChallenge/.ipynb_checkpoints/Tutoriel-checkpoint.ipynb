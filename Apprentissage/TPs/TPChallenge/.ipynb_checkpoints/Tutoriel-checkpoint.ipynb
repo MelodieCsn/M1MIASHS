{
 "cells": [
  {
   "cell_type": "markdown",
   "metadata": {},
   "source": [
    "# Tutoriel Python"
   ]
  },
  {
   "cell_type": "markdown",
   "metadata": {},
   "source": [
    "* Import des donnees\n",
    "* Analyse descriptive\n",
    "* Preparation des donnees\n",
    "* Creation d’un modele en cross validation\n",
    "* Calcul des predictions et soumission"
   ]
  },
  {
   "cell_type": "markdown",
   "metadata": {},
   "source": [
    "# Import des données"
   ]
  },
  {
   "cell_type": "markdown",
   "metadata": {},
   "source": [
    "Avant de rentrer dans le vif du sujet, importons quelques packages necessaires pour ce tutoriel :"
   ]
  },
  {
   "cell_type": "code",
   "execution_count": 1,
   "metadata": {},
   "outputs": [],
   "source": [
    "import pandas as pd\n",
    "import numpy as np\n",
    "from sklearn.preprocessing import LabelEncoder\n",
    "from sklearn.model_selection import train_test_split\n",
    "from sklearn.ensemble import RandomForestRegressor\n",
    "import matplotlib.pyplot as plt\n",
    "import seaborn as sns\n",
    "%config InlineBackend.figure_format = 'retina'\n",
    "%matplotlib inline"
   ]
  },
  {
   "cell_type": "code",
   "execution_count": 2,
   "metadata": {},
   "outputs": [],
   "source": [
    "train = pd.read_csv('./challenge_miashs_train.csv', encoding='utf-8')\n",
    "test = pd.read_csv('./challenge_miashs_test.csv', encoding='utf-8')"
   ]
  },
  {
   "cell_type": "code",
   "execution_count": 3,
   "metadata": {},
   "outputs": [
    {
     "data": {
      "text/html": [
       "<div>\n",
       "<style scoped>\n",
       "    .dataframe tbody tr th:only-of-type {\n",
       "        vertical-align: middle;\n",
       "    }\n",
       "\n",
       "    .dataframe tbody tr th {\n",
       "        vertical-align: top;\n",
       "    }\n",
       "\n",
       "    .dataframe thead th {\n",
       "        text-align: right;\n",
       "    }\n",
       "</style>\n",
       "<table border=\"1\" class=\"dataframe\">\n",
       "  <thead>\n",
       "    <tr style=\"text-align: right;\">\n",
       "      <th></th>\n",
       "      <th>libelle</th>\n",
       "      <th>libelle_plaquette</th>\n",
       "      <th>libelle_ampoule</th>\n",
       "      <th>libelle_flacon</th>\n",
       "      <th>libelle_tube</th>\n",
       "      <th>libelle_stylo</th>\n",
       "      <th>libelle_seringue</th>\n",
       "      <th>libelle_pilulier</th>\n",
       "      <th>libelle_sachet</th>\n",
       "      <th>libelle_comprime</th>\n",
       "      <th>libelle_gelule</th>\n",
       "      <th>libelle_film</th>\n",
       "      <th>libelle_poche</th>\n",
       "      <th>libelle_capsule</th>\n",
       "      <th>nb_plaquette</th>\n",
       "      <th>nb_ampoule</th>\n",
       "      <th>nb_flacon</th>\n",
       "      <th>nb_tube</th>\n",
       "      <th>nb_stylo</th>\n",
       "      <th>nb_seringue</th>\n",
       "      <th>nb_pilulier</th>\n",
       "      <th>nb_sachet</th>\n",
       "      <th>nb_comprime</th>\n",
       "      <th>nb_gelule</th>\n",
       "      <th>nb_film</th>\n",
       "      <th>nb_poche</th>\n",
       "      <th>nb_capsule</th>\n",
       "      <th>nb_ml</th>\n",
       "      <th>statut</th>\n",
       "      <th>etat commerc</th>\n",
       "      <th>agrement col</th>\n",
       "      <th>tx rembours</th>\n",
       "      <th>forme pharma</th>\n",
       "      <th>voies admin</th>\n",
       "      <th>statut admin</th>\n",
       "      <th>date declar annee</th>\n",
       "      <th>date amm annee</th>\n",
       "      <th>type proc</th>\n",
       "      <th>titulaires</th>\n",
       "      <th>substances</th>\n",
       "      <th>prix</th>\n",
       "    </tr>\n",
       "  </thead>\n",
       "  <tbody>\n",
       "    <tr>\n",
       "      <th>0</th>\n",
       "      <td>plaquette(s) thermoformée(s) PVC PVDC aluminiu...</td>\n",
       "      <td>1</td>\n",
       "      <td>0</td>\n",
       "      <td>0</td>\n",
       "      <td>0</td>\n",
       "      <td>0</td>\n",
       "      <td>0</td>\n",
       "      <td>0</td>\n",
       "      <td>0</td>\n",
       "      <td>1</td>\n",
       "      <td>0</td>\n",
       "      <td>0</td>\n",
       "      <td>0</td>\n",
       "      <td>0</td>\n",
       "      <td>0</td>\n",
       "      <td>0</td>\n",
       "      <td>0</td>\n",
       "      <td>0</td>\n",
       "      <td>0</td>\n",
       "      <td>0</td>\n",
       "      <td>0</td>\n",
       "      <td>0</td>\n",
       "      <td>15</td>\n",
       "      <td>0</td>\n",
       "      <td>0</td>\n",
       "      <td>0</td>\n",
       "      <td>0</td>\n",
       "      <td>0.0</td>\n",
       "      <td>Présentation active</td>\n",
       "      <td>Déclaration de commercialisation</td>\n",
       "      <td>oui</td>\n",
       "      <td>30%</td>\n",
       "      <td>comprimé pelliculé</td>\n",
       "      <td>orale</td>\n",
       "      <td>Autorisation active</td>\n",
       "      <td>2010</td>\n",
       "      <td>2008</td>\n",
       "      <td>Procédure de reconnaissance mutuelle</td>\n",
       "      <td>BIOGARAN</td>\n",
       "      <td>CHLORHYDRATE DE FEXOFÉNADINE, FEXOFÉNADINE BASE</td>\n",
       "      <td>2.24</td>\n",
       "    </tr>\n",
       "    <tr>\n",
       "      <th>1</th>\n",
       "      <td>plaquette(s) thermoformée(s) PVC-aluminium de ...</td>\n",
       "      <td>1</td>\n",
       "      <td>0</td>\n",
       "      <td>0</td>\n",
       "      <td>0</td>\n",
       "      <td>0</td>\n",
       "      <td>0</td>\n",
       "      <td>0</td>\n",
       "      <td>0</td>\n",
       "      <td>0</td>\n",
       "      <td>1</td>\n",
       "      <td>0</td>\n",
       "      <td>0</td>\n",
       "      <td>0</td>\n",
       "      <td>0</td>\n",
       "      <td>0</td>\n",
       "      <td>0</td>\n",
       "      <td>0</td>\n",
       "      <td>0</td>\n",
       "      <td>0</td>\n",
       "      <td>0</td>\n",
       "      <td>0</td>\n",
       "      <td>0</td>\n",
       "      <td>20</td>\n",
       "      <td>0</td>\n",
       "      <td>0</td>\n",
       "      <td>0</td>\n",
       "      <td>0.0</td>\n",
       "      <td>Présentation active</td>\n",
       "      <td>Déclaration de commercialisation</td>\n",
       "      <td>oui</td>\n",
       "      <td>30%</td>\n",
       "      <td>gélule</td>\n",
       "      <td>orale</td>\n",
       "      <td>Autorisation active</td>\n",
       "      <td>1976</td>\n",
       "      <td>1990</td>\n",
       "      <td>Procédure nationale</td>\n",
       "      <td>JANSSEN CILAG</td>\n",
       "      <td>LOPÉRAMIDE (CHLORHYDRATE DE), LOPÉRAMIDE BASE</td>\n",
       "      <td>2.32</td>\n",
       "    </tr>\n",
       "    <tr>\n",
       "      <th>2</th>\n",
       "      <td>plaquette(s) thermoformée(s) PVC-Aluminium de ...</td>\n",
       "      <td>1</td>\n",
       "      <td>0</td>\n",
       "      <td>0</td>\n",
       "      <td>0</td>\n",
       "      <td>0</td>\n",
       "      <td>0</td>\n",
       "      <td>0</td>\n",
       "      <td>0</td>\n",
       "      <td>0</td>\n",
       "      <td>1</td>\n",
       "      <td>0</td>\n",
       "      <td>0</td>\n",
       "      <td>0</td>\n",
       "      <td>0</td>\n",
       "      <td>0</td>\n",
       "      <td>0</td>\n",
       "      <td>0</td>\n",
       "      <td>0</td>\n",
       "      <td>0</td>\n",
       "      <td>0</td>\n",
       "      <td>0</td>\n",
       "      <td>0</td>\n",
       "      <td>16</td>\n",
       "      <td>0</td>\n",
       "      <td>0</td>\n",
       "      <td>0</td>\n",
       "      <td>0.0</td>\n",
       "      <td>Présentation active</td>\n",
       "      <td>Déclaration de commercialisation</td>\n",
       "      <td>oui</td>\n",
       "      <td>65%</td>\n",
       "      <td>gélule</td>\n",
       "      <td>orale</td>\n",
       "      <td>Autorisation active</td>\n",
       "      <td>1998</td>\n",
       "      <td>1986</td>\n",
       "      <td>Procédure nationale</td>\n",
       "      <td>BIOGARAN</td>\n",
       "      <td>PARACÉTAMOL</td>\n",
       "      <td>1.08</td>\n",
       "    </tr>\n",
       "  </tbody>\n",
       "</table>\n",
       "</div>"
      ],
      "text/plain": [
       "                                             libelle  libelle_plaquette  \\\n",
       "0  plaquette(s) thermoformée(s) PVC PVDC aluminiu...                  1   \n",
       "1  plaquette(s) thermoformée(s) PVC-aluminium de ...                  1   \n",
       "2  plaquette(s) thermoformée(s) PVC-Aluminium de ...                  1   \n",
       "\n",
       "   libelle_ampoule  libelle_flacon  libelle_tube  libelle_stylo  \\\n",
       "0                0               0             0              0   \n",
       "1                0               0             0              0   \n",
       "2                0               0             0              0   \n",
       "\n",
       "   libelle_seringue  libelle_pilulier  libelle_sachet  libelle_comprime  \\\n",
       "0                 0                 0               0                 1   \n",
       "1                 0                 0               0                 0   \n",
       "2                 0                 0               0                 0   \n",
       "\n",
       "   libelle_gelule  libelle_film  libelle_poche  libelle_capsule  nb_plaquette  \\\n",
       "0               0             0              0                0             0   \n",
       "1               1             0              0                0             0   \n",
       "2               1             0              0                0             0   \n",
       "\n",
       "   nb_ampoule  nb_flacon  nb_tube  nb_stylo  nb_seringue  nb_pilulier  \\\n",
       "0           0          0        0         0            0            0   \n",
       "1           0          0        0         0            0            0   \n",
       "2           0          0        0         0            0            0   \n",
       "\n",
       "   nb_sachet  nb_comprime  nb_gelule  nb_film  nb_poche  nb_capsule  nb_ml  \\\n",
       "0          0           15          0        0         0           0    0.0   \n",
       "1          0            0         20        0         0           0    0.0   \n",
       "2          0            0         16        0         0           0    0.0   \n",
       "\n",
       "                statut                      etat commerc agrement col  \\\n",
       "0  Présentation active  Déclaration de commercialisation          oui   \n",
       "1  Présentation active  Déclaration de commercialisation          oui   \n",
       "2  Présentation active  Déclaration de commercialisation          oui   \n",
       "\n",
       "  tx rembours        forme pharma voies admin         statut admin  \\\n",
       "0         30%  comprimé pelliculé       orale  Autorisation active   \n",
       "1         30%              gélule       orale  Autorisation active   \n",
       "2         65%              gélule       orale  Autorisation active   \n",
       "\n",
       "   date declar annee  date amm annee                             type proc  \\\n",
       "0               2010            2008  Procédure de reconnaissance mutuelle   \n",
       "1               1976            1990                   Procédure nationale   \n",
       "2               1998            1986                   Procédure nationale   \n",
       "\n",
       "       titulaires                                       substances  prix  \n",
       "0        BIOGARAN  CHLORHYDRATE DE FEXOFÉNADINE, FEXOFÉNADINE BASE  2.24  \n",
       "1   JANSSEN CILAG    LOPÉRAMIDE (CHLORHYDRATE DE), LOPÉRAMIDE BASE  2.32  \n",
       "2        BIOGARAN                                      PARACÉTAMOL  1.08  "
      ]
     },
     "execution_count": 3,
     "metadata": {},
     "output_type": "execute_result"
    }
   ],
   "source": [
    "pd.set_option(\"display.max_columns\", 9999) # permet de voir toutes les colonnes\n",
    "train.head(3)"
   ]
  },
  {
   "cell_type": "markdown",
   "metadata": {},
   "source": [
    "# Analyse descriptive"
   ]
  },
  {
   "cell_type": "markdown",
   "metadata": {},
   "source": [
    "### Structure des datasets\n",
    "\n",
    "Le dataset ```train``` comporte les caracteristiques et prix de ~6000 boites de medicaments. C'est ce dataset que nous allons utiliser pour creer un modele.\n",
    "Chaque boite de medicament est decrite par une observation de 41 variables. Ces variables sont decrites dans le fichier `Description.pdf` present dans la cle usb.\n",
    "\n",
    "Le dataset ```test``` comporte les caracteristiques des ~2000 boites de medicaments dont il faut predire le prix. A la difference de ```train```, le prix des boites de medicaments n'est bien sur pas inclus."
   ]
  },
  {
   "cell_type": "markdown",
   "metadata": {},
   "source": [
    "### Distribution des donnees\n",
    "\n",
    "Jetons maintenant un coup d'oeil a la distribution des donnees"
   ]
  },
  {
   "cell_type": "code",
   "execution_count": 4,
   "metadata": {},
   "outputs": [
    {
     "data": {
      "image/png": "[encoded data removed]",
      "text/plain": [
       "<Figure size 432x288 with 1 Axes>"
      ]
     },
     "metadata": {
      "image/png": {
       "height": 248,
       "width": 382
      },
      "needs_background": "light"
     },
     "output_type": "display_data"
    }
   ],
   "source": [
    "train['prix'].hist(bins=40);"
   ]
  },
  {
   "cell_type": "code",
   "execution_count": 5,
   "metadata": {},
   "outputs": [
    {
     "data": {
      "image/png": "[encoded data removed]",
      "text/plain": [
       "<Figure size 432x288 with 1 Axes>"
      ]
     },
     "metadata": {
      "image/png": {
       "height": 265,
       "width": 388
      },
      "needs_background": "light"
     },
     "output_type": "display_data"
    }
   ],
   "source": [
    "# Influence sur les prix de la feature \"tx rembours\"\n",
    "plt.ylim(0, 100)\n",
    "sns.violinplot(y=\"prix\", x=\"tx rembours\", data=train);"
   ]
  },
  {
   "cell_type": "code",
   "execution_count": 6,
   "metadata": {},
   "outputs": [
    {
     "data": {
      "image/png": "[encoded data removed]",
      "text/plain": [
       "<Figure size 432x288 with 1 Axes>"
      ]
     },
     "metadata": {
      "image/png": {
       "height": 266,
       "width": 388
      },
      "needs_background": "light"
     },
     "output_type": "display_data"
    }
   ],
   "source": [
    "# Influence sur les prix de la feature \"statut\"\n",
    "plt.ylim(0, 100)\n",
    "sns.boxplot(y=\"prix\", x=\"statut\", data=train);"
   ]
  },
  {
   "cell_type": "markdown",
   "metadata": {},
   "source": [
    "# Preparation des donnees"
   ]
  },
  {
   "cell_type": "code",
   "execution_count": 7,
   "metadata": {},
   "outputs": [
    {
     "data": {
      "text/html": [
       "<div>\n",
       "<style scoped>\n",
       "    .dataframe tbody tr th:only-of-type {\n",
       "        vertical-align: middle;\n",
       "    }\n",
       "\n",
       "    .dataframe tbody tr th {\n",
       "        vertical-align: top;\n",
       "    }\n",
       "\n",
       "    .dataframe thead th {\n",
       "        text-align: right;\n",
       "    }\n",
       "</style>\n",
       "<table border=\"1\" class=\"dataframe\">\n",
       "  <thead>\n",
       "    <tr style=\"text-align: right;\">\n",
       "      <th></th>\n",
       "      <th>libelle</th>\n",
       "      <th>libelle_plaquette</th>\n",
       "      <th>libelle_ampoule</th>\n",
       "      <th>libelle_flacon</th>\n",
       "      <th>libelle_tube</th>\n",
       "      <th>libelle_stylo</th>\n",
       "      <th>libelle_seringue</th>\n",
       "      <th>libelle_pilulier</th>\n",
       "      <th>libelle_sachet</th>\n",
       "      <th>libelle_comprime</th>\n",
       "      <th>libelle_gelule</th>\n",
       "      <th>libelle_film</th>\n",
       "      <th>libelle_poche</th>\n",
       "      <th>libelle_capsule</th>\n",
       "      <th>nb_plaquette</th>\n",
       "      <th>nb_ampoule</th>\n",
       "      <th>nb_flacon</th>\n",
       "      <th>nb_tube</th>\n",
       "      <th>nb_stylo</th>\n",
       "      <th>nb_seringue</th>\n",
       "      <th>nb_pilulier</th>\n",
       "      <th>nb_sachet</th>\n",
       "      <th>nb_comprime</th>\n",
       "      <th>nb_gelule</th>\n",
       "      <th>nb_film</th>\n",
       "      <th>nb_poche</th>\n",
       "      <th>nb_capsule</th>\n",
       "      <th>nb_ml</th>\n",
       "      <th>statut</th>\n",
       "      <th>etat commerc</th>\n",
       "      <th>agrement col</th>\n",
       "      <th>tx rembours</th>\n",
       "      <th>forme pharma</th>\n",
       "      <th>voies admin</th>\n",
       "      <th>statut admin</th>\n",
       "      <th>date declar annee</th>\n",
       "      <th>date amm annee</th>\n",
       "      <th>type proc</th>\n",
       "      <th>titulaires</th>\n",
       "      <th>substances</th>\n",
       "      <th>prix</th>\n",
       "    </tr>\n",
       "  </thead>\n",
       "  <tbody>\n",
       "    <tr>\n",
       "      <th>0</th>\n",
       "      <td>plaquette(s) thermoformée(s) PVC PVDC aluminiu...</td>\n",
       "      <td>1</td>\n",
       "      <td>0</td>\n",
       "      <td>0</td>\n",
       "      <td>0</td>\n",
       "      <td>0</td>\n",
       "      <td>0</td>\n",
       "      <td>0</td>\n",
       "      <td>0</td>\n",
       "      <td>1</td>\n",
       "      <td>0</td>\n",
       "      <td>0</td>\n",
       "      <td>0</td>\n",
       "      <td>0</td>\n",
       "      <td>0</td>\n",
       "      <td>0</td>\n",
       "      <td>0</td>\n",
       "      <td>0</td>\n",
       "      <td>0</td>\n",
       "      <td>0</td>\n",
       "      <td>0</td>\n",
       "      <td>0</td>\n",
       "      <td>15</td>\n",
       "      <td>0</td>\n",
       "      <td>0</td>\n",
       "      <td>0</td>\n",
       "      <td>0</td>\n",
       "      <td>0.0</td>\n",
       "      <td>Présentation active</td>\n",
       "      <td>Déclaration de commercialisation</td>\n",
       "      <td>oui</td>\n",
       "      <td>30%</td>\n",
       "      <td>comprimé pelliculé</td>\n",
       "      <td>orale</td>\n",
       "      <td>Autorisation active</td>\n",
       "      <td>2010</td>\n",
       "      <td>2008</td>\n",
       "      <td>Procédure de reconnaissance mutuelle</td>\n",
       "      <td>BIOGARAN</td>\n",
       "      <td>CHLORHYDRATE DE FEXOFÉNADINE, FEXOFÉNADINE BASE</td>\n",
       "      <td>2.24</td>\n",
       "    </tr>\n",
       "    <tr>\n",
       "      <th>1</th>\n",
       "      <td>plaquette(s) thermoformée(s) PVC-aluminium de ...</td>\n",
       "      <td>1</td>\n",
       "      <td>0</td>\n",
       "      <td>0</td>\n",
       "      <td>0</td>\n",
       "      <td>0</td>\n",
       "      <td>0</td>\n",
       "      <td>0</td>\n",
       "      <td>0</td>\n",
       "      <td>0</td>\n",
       "      <td>1</td>\n",
       "      <td>0</td>\n",
       "      <td>0</td>\n",
       "      <td>0</td>\n",
       "      <td>0</td>\n",
       "      <td>0</td>\n",
       "      <td>0</td>\n",
       "      <td>0</td>\n",
       "      <td>0</td>\n",
       "      <td>0</td>\n",
       "      <td>0</td>\n",
       "      <td>0</td>\n",
       "      <td>0</td>\n",
       "      <td>20</td>\n",
       "      <td>0</td>\n",
       "      <td>0</td>\n",
       "      <td>0</td>\n",
       "      <td>0.0</td>\n",
       "      <td>Présentation active</td>\n",
       "      <td>Déclaration de commercialisation</td>\n",
       "      <td>oui</td>\n",
       "      <td>30%</td>\n",
       "      <td>gélule</td>\n",
       "      <td>orale</td>\n",
       "      <td>Autorisation active</td>\n",
       "      <td>1976</td>\n",
       "      <td>1990</td>\n",
       "      <td>Procédure nationale</td>\n",
       "      <td>JANSSEN CILAG</td>\n",
       "      <td>LOPÉRAMIDE (CHLORHYDRATE DE), LOPÉRAMIDE BASE</td>\n",
       "      <td>2.32</td>\n",
       "    </tr>\n",
       "  </tbody>\n",
       "</table>\n",
       "</div>"
      ],
      "text/plain": [
       "                                             libelle  libelle_plaquette  \\\n",
       "0  plaquette(s) thermoformée(s) PVC PVDC aluminiu...                  1   \n",
       "1  plaquette(s) thermoformée(s) PVC-aluminium de ...                  1   \n",
       "\n",
       "   libelle_ampoule  libelle_flacon  libelle_tube  libelle_stylo  \\\n",
       "0                0               0             0              0   \n",
       "1                0               0             0              0   \n",
       "\n",
       "   libelle_seringue  libelle_pilulier  libelle_sachet  libelle_comprime  \\\n",
       "0                 0                 0               0                 1   \n",
       "1                 0                 0               0                 0   \n",
       "\n",
       "   libelle_gelule  libelle_film  libelle_poche  libelle_capsule  nb_plaquette  \\\n",
       "0               0             0              0                0             0   \n",
       "1               1             0              0                0             0   \n",
       "\n",
       "   nb_ampoule  nb_flacon  nb_tube  nb_stylo  nb_seringue  nb_pilulier  \\\n",
       "0           0          0        0         0            0            0   \n",
       "1           0          0        0         0            0            0   \n",
       "\n",
       "   nb_sachet  nb_comprime  nb_gelule  nb_film  nb_poche  nb_capsule  nb_ml  \\\n",
       "0          0           15          0        0         0           0    0.0   \n",
       "1          0            0         20        0         0           0    0.0   \n",
       "\n",
       "                statut                      etat commerc agrement col  \\\n",
       "0  Présentation active  Déclaration de commercialisation          oui   \n",
       "1  Présentation active  Déclaration de commercialisation          oui   \n",
       "\n",
       "  tx rembours        forme pharma voies admin         statut admin  \\\n",
       "0         30%  comprimé pelliculé       orale  Autorisation active   \n",
       "1         30%              gélule       orale  Autorisation active   \n",
       "\n",
       "   date declar annee  date amm annee                             type proc  \\\n",
       "0               2010            2008  Procédure de reconnaissance mutuelle   \n",
       "1               1976            1990                   Procédure nationale   \n",
       "\n",
       "       titulaires                                       substances  prix  \n",
       "0        BIOGARAN  CHLORHYDRATE DE FEXOFÉNADINE, FEXOFÉNADINE BASE  2.24  \n",
       "1   JANSSEN CILAG    LOPÉRAMIDE (CHLORHYDRATE DE), LOPÉRAMIDE BASE  2.32  "
      ]
     },
     "execution_count": 7,
     "metadata": {},
     "output_type": "execute_result"
    }
   ],
   "source": [
    "# On rassemble pour le feature engineering\n",
    "df = pd.concat([train,test])\n",
    "train.head(2)"
   ]
  },
  {
   "cell_type": "code",
   "execution_count": 8,
   "metadata": {},
   "outputs": [
    {
     "data": {
      "text/plain": [
       "libelle              0\n",
       "libelle_plaquette    0\n",
       "libelle_ampoule      0\n",
       "libelle_flacon       0\n",
       "libelle_tube         0\n",
       "libelle_stylo        0\n",
       "libelle_seringue     0\n",
       "libelle_pilulier     0\n",
       "libelle_sachet       0\n",
       "libelle_comprime     0\n",
       "libelle_gelule       0\n",
       "libelle_film         0\n",
       "libelle_poche        0\n",
       "libelle_capsule      0\n",
       "nb_plaquette         0\n",
       "nb_ampoule           0\n",
       "nb_flacon            0\n",
       "nb_tube              0\n",
       "nb_stylo             0\n",
       "nb_seringue          0\n",
       "nb_pilulier          0\n",
       "nb_sachet            0\n",
       "nb_comprime          0\n",
       "nb_gelule            0\n",
       "nb_film              0\n",
       "nb_poche             0\n",
       "nb_capsule           0\n",
       "nb_ml                0\n",
       "statut               0\n",
       "etat commerc         0\n",
       "agrement col         0\n",
       "tx rembours          0\n",
       "forme pharma         0\n",
       "voies admin          0\n",
       "statut admin         0\n",
       "date declar annee    0\n",
       "date amm annee       0\n",
       "type proc            0\n",
       "titulaires           0\n",
       "substances           0\n",
       "prix                 0\n",
       "dtype: int64"
      ]
     },
     "execution_count": 8,
     "metadata": {},
     "output_type": "execute_result"
    }
   ],
   "source": [
    "# Pas de valeur NaN a combler\n",
    "train.isna().sum()"
   ]
  },
  {
   "cell_type": "code",
   "execution_count": 9,
   "metadata": {},
   "outputs": [
    {
     "data": {
      "text/plain": [
       "libelle               object\n",
       "libelle_plaquette      int64\n",
       "libelle_ampoule        int64\n",
       "libelle_flacon         int64\n",
       "libelle_tube           int64\n",
       "libelle_stylo          int64\n",
       "libelle_seringue       int64\n",
       "libelle_pilulier       int64\n",
       "libelle_sachet         int64\n",
       "libelle_comprime       int64\n",
       "libelle_gelule         int64\n",
       "libelle_film           int64\n",
       "libelle_poche          int64\n",
       "libelle_capsule        int64\n",
       "nb_plaquette           int64\n",
       "nb_ampoule             int64\n",
       "nb_flacon              int64\n",
       "nb_tube                int64\n",
       "nb_stylo               int64\n",
       "nb_seringue            int64\n",
       "nb_pilulier            int64\n",
       "nb_sachet              int64\n",
       "nb_comprime            int64\n",
       "nb_gelule              int64\n",
       "nb_film                int64\n",
       "nb_poche               int64\n",
       "nb_capsule             int64\n",
       "nb_ml                float64\n",
       "statut                object\n",
       "etat commerc          object\n",
       "agrement col          object\n",
       "tx rembours           object\n",
       "forme pharma          object\n",
       "voies admin           object\n",
       "statut admin          object\n",
       "date declar annee      int64\n",
       "date amm annee         int64\n",
       "type proc             object\n",
       "titulaires            object\n",
       "substances            object\n",
       "prix                 float64\n",
       "dtype: object"
      ]
     },
     "execution_count": 9,
     "metadata": {},
     "output_type": "execute_result"
    }
   ],
   "source": [
    "# Concentrons nous pour le benchmark sur les variables deja au type numerique\n",
    "df.dtypes"
   ]
  },
  {
   "cell_type": "code",
   "execution_count": 10,
   "metadata": {},
   "outputs": [
    {
     "data": {
      "text/plain": [
       "Index(['libelle_plaquette', 'libelle_ampoule', 'libelle_flacon',\n",
       "       'libelle_tube', 'libelle_stylo', 'libelle_seringue', 'libelle_pilulier',\n",
       "       'libelle_sachet', 'libelle_comprime', 'libelle_gelule', 'libelle_film',\n",
       "       'libelle_poche', 'libelle_capsule', 'nb_plaquette', 'nb_ampoule',\n",
       "       'nb_flacon', 'nb_tube', 'nb_stylo', 'nb_seringue', 'nb_pilulier',\n",
       "       'nb_sachet', 'nb_comprime', 'nb_gelule', 'nb_film', 'nb_poche',\n",
       "       'nb_capsule', 'date declar annee', 'date amm annee'],\n",
       "      dtype='object')"
      ]
     },
     "execution_count": 10,
     "metadata": {},
     "output_type": "execute_result"
    }
   ],
   "source": [
    "numeric_var_list = df.dtypes[df.dtypes == 'int64'].index\n",
    "numeric_var_list"
   ]
  },
  {
   "cell_type": "markdown",
   "metadata": {},
   "source": [
    "# Feature Engineering"
   ]
  },
  {
   "cell_type": "code",
   "execution_count": 70,
   "metadata": {},
   "outputs": [],
   "source": [
    "# A vous de jouer"
   ]
  },
  {
   "cell_type": "markdown",
   "metadata": {},
   "source": [
    "# On separe a nouveau train et test"
   ]
  },
  {
   "cell_type": "code",
   "execution_count": 73,
   "metadata": {},
   "outputs": [],
   "source": [
    "df_train = df[:train.shape[0]]\n",
    "df_test = df[(df.shape[0] - test.shape[0]):]"
   ]
  },
  {
   "cell_type": "code",
   "execution_count": 74,
   "metadata": {},
   "outputs": [],
   "source": [
    "target_train = df_train.prix\n",
    "df_train = df_train[numeric_var_list]\n",
    "df_test = df_test[numeric_var_list]"
   ]
  },
  {
   "cell_type": "markdown",
   "metadata": {},
   "source": [
    "# Creation d'un modele"
   ]
  },
  {
   "cell_type": "markdown",
   "metadata": {},
   "source": [
    "### Métrique MAPE\n",
    "\n",
    "La métrique MAPE n'étant pas disponible dans scikit-learn, nous la codons"
   ]
  },
  {
   "cell_type": "code",
   "execution_count": 75,
   "metadata": {},
   "outputs": [],
   "source": [
    "# Mean Absolute Percentage Error\n",
    "def mape_error(y_true, y_pred): \n",
    "    return np.mean(np.abs((y_true - y_pred) / y_true)) * 100"
   ]
  },
  {
   "cell_type": "markdown",
   "metadata": {},
   "source": [
    "### Random Forest"
   ]
  },
  {
   "cell_type": "code",
   "execution_count": 83,
   "metadata": {},
   "outputs": [
    {
     "data": {
      "text/plain": [
       "188.11946606535378"
      ]
     },
     "execution_count": 83,
     "metadata": {},
     "output_type": "execute_result"
    }
   ],
   "source": [
    "X_train, X_test, y_train, y_test = train_test_split(df_train, target_train, test_size=0.2, random_state=42)\n",
    "rf = RandomForestRegressor(n_estimators=100, random_state=42, n_jobs=8)\n",
    "rf.fit(X_train, y_train)\n",
    "\n",
    "mape_error(y_test, rf.predict(X_test))"
   ]
  },
  {
   "cell_type": "markdown",
   "metadata": {},
   "source": [
    "Cela veut dire notre modele predit les prix des medicaments avec environ 188% d’erreur en moyenne. Par exemple, si un medicament vaut reellement 100€, notre prediction moyenne est de l'ordre de 288€."
   ]
  },
  {
   "cell_type": "code",
   "execution_count": 84,
   "metadata": {},
   "outputs": [
    {
     "data": {
      "image/png": "[encoded data removed]",
      "text/plain": [
       "<Figure size 360x432 with 1 Axes>"
      ]
     },
     "metadata": {
      "image/png": {
       "height": 357,
       "width": 391
      },
      "needs_background": "light"
     },
     "output_type": "display_data"
    }
   ],
   "source": [
    "# On visualise les variables importantes selon notre modèle random forest\n",
    "feat_imp = rf.feature_importances_\n",
    "df_feat = pd.DataFrame(data=feat_imp, index=X_train.columns)\n",
    "\n",
    "plt.figure(figsize=(5,6))\n",
    "feat = df_feat[0].sort_values(ascending=False)\n",
    "ax = feat.iloc[:30].plot(kind=\"barh\")\n",
    "ax.invert_yaxis()"
   ]
  },
  {
   "cell_type": "markdown",
   "metadata": {},
   "source": [
    "# Calcul des predictions et soumission"
   ]
  },
  {
   "cell_type": "code",
   "execution_count": null,
   "metadata": {},
   "outputs": [],
   "source": [
    "# A vous de jouer\n",
    "predictions = "
   ]
  },
  {
   "cell_type": "code",
   "execution_count": null,
   "metadata": {},
   "outputs": [],
   "source": [
    "assert predictions.shape[0] == 2141\n",
    "pd.DataFrame(predictions).to_csv('soumission.csv', header=['prix'], index=False)"
   ]
  },
  {
   "cell_type": "markdown",
   "metadata": {},
   "source": [
    "Faites parvenir votre soumission à Samuel pour qu'il vous donne le score."
   ]
  }
 ],
 "metadata": {
  "anaconda-cloud": {},
  "kernelspec": {
   "display_name": "Python 3",
   "language": "python",
   "name": "python3"
  },
  "language_info": {
   "codemirror_mode": {
    "name": "ipython",
    "version": 3
   },
   "file_extension": ".py",
   "mimetype": "text/x-python",
   "name": "python",
   "nbconvert_exporter": "python",
   "pygments_lexer": "ipython3",
   "version": "3.7.9"
  }
 },
 "nbformat": 4,
 "nbformat_minor": 1
}
