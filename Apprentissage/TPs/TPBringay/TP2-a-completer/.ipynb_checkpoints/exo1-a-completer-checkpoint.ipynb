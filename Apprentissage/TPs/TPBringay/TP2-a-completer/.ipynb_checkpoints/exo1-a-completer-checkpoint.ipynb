{
 "cells": [
  {
   "cell_type": "code",
   "execution_count": null,
   "metadata": {},
   "outputs": [],
   "source": [
    "'''Dans ce TP, vous apprendrez à utiliser Python pour effectuer un apprentissage supervisé. Vous\n",
    "apprendrez à construire des modèles prédictifs à partir de données réelles, à régler les\n",
    "paramètres et à déterminer comment ils fonctionneront sur de nouvelles données. Vous\n",
    "utiliserez scikit-learn.'''"
   ]
  },
  {
   "cell_type": "code",
   "execution_count": 1,
   "metadata": {},
   "outputs": [],
   "source": [
    "# Exploration des données\n",
    "# --------------------------------------------------\n",
    "# Vous allez travailler avec un jeu de données correspondant aux votes des congressistes de la\n",
    "# Chambre des représentants des États-Unis. \n",
    "# Votre objectif est de prédire l'affiliation du parti (« démocrate » ou « républicain ») \n",
    "# en fonction de la façon dont ils ont voté pour certaines questions clés.\n",
    "# Avant de penser à appliquer des modèles d'apprentissage supervisés, une analyse exploratoire\n",
    "# des données est nécessaire pour bien comprendre la structure des données.\n",
    "\n",
    "#QUESTION : Après chargement du dataframe, explorer cet ensemble de données avec les\n",
    "# méthodes .shape(), .head(), .tail(),  .info(), et .describe().\n",
    "\n",
    "# Import pandas\n",
    "import pandas as pd\n",
    "\n",
    "# Read the file into a DataFrame: df\n",
    "df = pd.read_csv('house_vote_84_clean.csv', sep=\";\")\n"
   ]
  },
  {
   "cell_type": "code",
   "execution_count": 2,
   "metadata": {},
   "outputs": [
    {
     "name": "stdout",
     "output_type": "stream",
     "text": [
      "(435, 17)\n"
     ]
    }
   ],
   "source": [
    "# Affiche les dimensions\n",
    "print(df.shape)"
   ]
  },
  {
   "cell_type": "code",
   "execution_count": 3,
   "metadata": {},
   "outputs": [
    {
     "name": "stdout",
     "output_type": "stream",
     "text": [
      "   Class Name handicapped-infants water-project-cost-sharing  \\\n",
      "0  republican                   n                          y   \n",
      "1  republican                   n                          y   \n",
      "2    democrat                   ?                          y   \n",
      "3    democrat                   n                          y   \n",
      "4    democrat                   y                          y   \n",
      "\n",
      "  adoption-of-the-budget-resolution physician-fee-freeze el-salvador-aid  \\\n",
      "0                                 n                    y               y   \n",
      "1                                 n                    y               y   \n",
      "2                                 y                    ?               y   \n",
      "3                                 y                    n               ?   \n",
      "4                                 y                    n               y   \n",
      "\n",
      "  religious-groups-in-schools anti-satellite-test-ban  \\\n",
      "0                           y                       n   \n",
      "1                           y                       n   \n",
      "2                           y                       n   \n",
      "3                           y                       n   \n",
      "4                           y                       n   \n",
      "\n",
      "  aid-to-nicaraguan-contras mx-missile immigration  \\\n",
      "0                         n          n           y   \n",
      "1                         n          n           n   \n",
      "2                         n          n           n   \n",
      "3                         n          n           n   \n",
      "4                         n          n           n   \n",
      "\n",
      "  synfuels-corporation-cutback education-spending superfund-right-to-sue  \\\n",
      "0                            ?                  y                      y   \n",
      "1                            n                  y                      y   \n",
      "2                            y                  n                      y   \n",
      "3                            y                  n                      y   \n",
      "4                            y                  ?                      y   \n",
      "\n",
      "  crime duty-free-exports export-administration-act-south-africa  \n",
      "0     y                 n                                      y  \n",
      "1     y                 n                                      ?  \n",
      "2     y                 n                                      n  \n",
      "3     n                 n                                      y  \n",
      "4     y                 y                                      y  \n"
     ]
    }
   ],
   "source": [
    "\n",
    "# Affiche les premières lignes\n",
    "print(df.head())\n",
    "\n"
   ]
  },
  {
   "cell_type": "code",
   "execution_count": 4,
   "metadata": {},
   "outputs": [
    {
     "name": "stdout",
     "output_type": "stream",
     "text": [
      "     Class Name handicapped-infants water-project-cost-sharing  \\\n",
      "430  republican                   n                          n   \n",
      "431    democrat                   n                          n   \n",
      "432  republican                   n                          ?   \n",
      "433  republican                   n                          n   \n",
      "434  republican                   n                          y   \n",
      "\n",
      "    adoption-of-the-budget-resolution physician-fee-freeze el-salvador-aid  \\\n",
      "430                                 y                    y               y   \n",
      "431                                 y                    n               n   \n",
      "432                                 n                    y               y   \n",
      "433                                 n                    y               y   \n",
      "434                                 n                    y               y   \n",
      "\n",
      "    religious-groups-in-schools anti-satellite-test-ban  \\\n",
      "430                           y                       n   \n",
      "431                           n                       y   \n",
      "432                           y                       n   \n",
      "433                           y                       ?   \n",
      "434                           y                       n   \n",
      "\n",
      "    aid-to-nicaraguan-contras mx-missile immigration  \\\n",
      "430                         n          y           y   \n",
      "431                         y          y           y   \n",
      "432                         n          n           n   \n",
      "433                         ?          ?           ?   \n",
      "434                         n          n           y   \n",
      "\n",
      "    synfuels-corporation-cutback education-spending superfund-right-to-sue  \\\n",
      "430                            n                  y                      y   \n",
      "431                            n                  n                      n   \n",
      "432                            y                  y                      y   \n",
      "433                            n                  y                      y   \n",
      "434                            n                  y                      y   \n",
      "\n",
      "    crime duty-free-exports export-administration-act-south-africa  \n",
      "430     y                 n                                      y  \n",
      "431     n                 n                                      y  \n",
      "432     y                 n                                      y  \n",
      "433     y                 n                                      y  \n",
      "434     y                 ?                                      n  \n"
     ]
    }
   ],
   "source": [
    "# Affiche les dernières lignes\n",
    "print(df.tail())\n",
    "\n"
   ]
  },
  {
   "cell_type": "code",
   "execution_count": 5,
   "metadata": {},
   "outputs": [
    {
     "name": "stdout",
     "output_type": "stream",
     "text": [
      "<class 'pandas.core.frame.DataFrame'>\n",
      "RangeIndex: 435 entries, 0 to 434\n",
      "Data columns (total 17 columns):\n",
      "Class Name                                435 non-null object\n",
      "handicapped-infants                       435 non-null object\n",
      "water-project-cost-sharing                435 non-null object\n",
      "adoption-of-the-budget-resolution         435 non-null object\n",
      "physician-fee-freeze                      435 non-null object\n",
      "el-salvador-aid                           435 non-null object\n",
      "religious-groups-in-schools               435 non-null object\n",
      "anti-satellite-test-ban                   435 non-null object\n",
      "aid-to-nicaraguan-contras                 435 non-null object\n",
      "mx-missile                                435 non-null object\n",
      "immigration                               435 non-null object\n",
      "synfuels-corporation-cutback              435 non-null object\n",
      "education-spending                        435 non-null object\n",
      "superfund-right-to-sue                    435 non-null object\n",
      "crime                                     435 non-null object\n",
      "duty-free-exports                         435 non-null object\n",
      "export-administration-act-south-africa    435 non-null object\n",
      "dtypes: object(17)\n",
      "memory usage: 57.9+ KB\n",
      "None\n"
     ]
    }
   ],
   "source": [
    "# Affiche les types des attributs\n",
    "\n",
    "print(df.info())\n",
    "\n"
   ]
  },
  {
   "cell_type": "code",
   "execution_count": 6,
   "metadata": {},
   "outputs": [
    {
     "name": "stdout",
     "output_type": "stream",
     "text": [
      "       Class Name handicapped-infants water-project-cost-sharing  \\\n",
      "count         435                 435                        435   \n",
      "unique          2                   3                          3   \n",
      "top      democrat                   n                          y   \n",
      "freq          267                 236                        195   \n",
      "\n",
      "       adoption-of-the-budget-resolution physician-fee-freeze el-salvador-aid  \\\n",
      "count                                435                  435             435   \n",
      "unique                                 3                    3               3   \n",
      "top                                    y                    n               y   \n",
      "freq                                 253                  247             212   \n",
      "\n",
      "       religious-groups-in-schools anti-satellite-test-ban  \\\n",
      "count                          435                     435   \n",
      "unique                           3                       3   \n",
      "top                              y                       y   \n",
      "freq                           272                     239   \n",
      "\n",
      "       aid-to-nicaraguan-contras mx-missile immigration  \\\n",
      "count                        435        435         435   \n",
      "unique                         3          3           3   \n",
      "top                            y          y           y   \n",
      "freq                         242        207         216   \n",
      "\n",
      "       synfuels-corporation-cutback education-spending superfund-right-to-sue  \\\n",
      "count                           435                435                    435   \n",
      "unique                            3                  3                      3   \n",
      "top                               n                  n                      y   \n",
      "freq                            264                233                    209   \n",
      "\n",
      "       crime duty-free-exports export-administration-act-south-africa  \n",
      "count    435               435                                    435  \n",
      "unique     3                 3                                      3  \n",
      "top        y                 n                                      y  \n",
      "freq     248               233                                    269  \n"
     ]
    }
   ],
   "source": [
    "# Affiche des statistiques sur les colonnes\n",
    "print(df.describe())\n",
    "\n"
   ]
  },
  {
   "cell_type": "code",
   "execution_count": 7,
   "metadata": {},
   "outputs": [
    {
     "name": "stdout",
     "output_type": "stream",
     "text": [
      "Index(['Class Name', 'handicapped-infants', 'water-project-cost-sharing',\n",
      "       'adoption-of-the-budget-resolution', 'physician-fee-freeze',\n",
      "       'el-salvador-aid', 'religious-groups-in-schools',\n",
      "       'anti-satellite-test-ban', 'aid-to-nicaraguan-contras', 'mx-missile',\n",
      "       'immigration', 'synfuels-corporation-cutback', 'education-spending',\n",
      "       'superfund-right-to-sue', 'crime', 'duty-free-exports',\n",
      "       'export-administration-act-south-africa'],\n",
      "      dtype='object')\n"
     ]
    }
   ],
   "source": [
    "# A ffiche les noms des colonnes\n",
    "print(df.columns)"
   ]
  },
  {
   "cell_type": "code",
   "execution_count": null,
   "metadata": {},
   "outputs": [],
   "source": [
    "# QUESTION : Quelle est la variable cible à prédire ?\n",
    "# REPONSE : La variable à prédire est \"être démocrate\" ou \"être républicain\""
   ]
  },
  {
   "cell_type": "code",
   "execution_count": 11,
   "metadata": {},
   "outputs": [
    {
     "data": {
      "image/png": "[encoded data removed]",
      "text/plain": [
       "<Figure size 432x288 with 1 Axes>"
      ]
     },
     "metadata": {
      "needs_background": "light"
     },
     "output_type": "display_data"
    }
   ],
   "source": [
    "# Nous allons utiliser la méthode .countplot (), pour afficher des comptages. \n",
    "# L’abscisse correspond aux valeurs de la colonne ‘education-spending’\n",
    "# et la couleur au 'Class Name' qui est la variable cible. \n",
    "# Les républicains sont représentés en rouge et les démocrates en bleu.\n",
    "\n",
    "import matplotlib.pyplot as plt\n",
    "import seaborn as sns\n",
    "\n",
    "#Afficher le countplot pour education-spending\n",
    "plt.figure()\n",
    "sns.countplot(x='anti-satellite-test-ban', hue='Class Name', data=df, palette='RdBu')\n",
    "plt.show()\n",
    "\n",
    "# QUESTION : Expliquer ce que représente ce graphique. Qu’on voté les démocrates par rapport aux républicains ?\n",
    "# REPONSE : Les républicains sont beaucoup plus enclins à voter en faveur de la loi sur l'éducation que les démocrates"
   ]
  },
  {
   "cell_type": "code",
   "execution_count": null,
   "metadata": {},
   "outputs": [],
   "source": [
    "# QUESTION : Modifier le code précédent pour afficher le countplot pour mx-missile\n",
    "# REPONSE : Les démocrates sont beaucoup plus enclins à voter en faveur de la loi sur\n",
    "# les missiles que les républicains..."
   ]
  },
  {
   "cell_type": "code",
   "execution_count": null,
   "metadata": {},
   "outputs": [],
   "source": [
    "# QUESTION : Modifier le code précédent pour afficher le countplot pour anti-satellite-test-ban\n",
    "# REPONSE : Les démocrates sont beaucoup plus enclins à voter en faveur de la loi sur\n",
    "# les tests anti-satellites que les républicains...\n",
    "\n",
    "#C'est le genre d'informations que notre modèle d'apprentissage cherchera à apprendre lorsque\n",
    "#nous essayons de prédire l'affiliation du parti en fonction des votes. Un expert en politique des\n",
    "#États-Unis pourrait être en mesure de réaliser cet apprentissage de manière manuelle, mais\n",
    "#probablement pas instantanément - et certainement pas si nous avons affaire à des centaines\n",
    "#d’hommes politiques !"
   ]
  },
  {
   "cell_type": "code",
   "execution_count": null,
   "metadata": {},
   "outputs": [],
   "source": [
    "'''Nous allons construire un premier classificateur sur l'ensemble de données des votes. Il s’agit\n",
    "d’un classificateur appelé k-plus-proches-voisins.\n",
    "Attention ! Il faut vous assurer que vos données respectent le format requis par l'API scikitlearn.\n",
    "Les caractéristiques doivent être dans un tableau où chaque colonne est une caractéristique et\n",
    "chaque ligne un point d'observation différent. Dans notre exemple, l’ensemble des votes d’un\n",
    "député constitue un point. La cible correspond à une seule colonne avec le même nombre\n",
    "d'observations que de données décrites par les caractéristiques. Dans cet exercice, nous avons\n",
    "nommé le tableau de caractéristiques X et la variable cible y'''"
   ]
  },
  {
   "cell_type": "code",
   "execution_count": 12,
   "metadata": {},
   "outputs": [
    {
     "data": {
      "text/plain": [
       "array(['republican', 'republican', 'democrat', 'democrat', 'democrat',\n",
       "       'democrat', 'democrat', 'republican', 'republican', 'democrat',\n",
       "       'republican', 'republican', 'democrat', 'democrat', 'republican',\n",
       "       'republican', 'democrat', 'democrat', 'republican', 'democrat',\n",
       "       'democrat', 'democrat', 'democrat', 'democrat', 'democrat',\n",
       "       'democrat', 'democrat', 'democrat', 'republican', 'democrat',\n",
       "       'republican', 'democrat', 'democrat', 'republican', 'democrat',\n",
       "       'republican', 'republican', 'republican', 'republican', 'democrat',\n",
       "       'democrat', 'democrat', 'democrat', 'democrat', 'democrat',\n",
       "       'democrat', 'democrat', 'democrat', 'democrat', 'republican',\n",
       "       'democrat', 'republican', 'democrat', 'republican', 'democrat',\n",
       "       'republican', 'republican', 'republican', 'republican',\n",
       "       'republican', 'democrat', 'republican', 'democrat', 'democrat',\n",
       "       'democrat', 'republican', 'republican', 'republican', 'democrat',\n",
       "       'democrat', 'democrat', 'republican', 'democrat', 'republican',\n",
       "       'democrat', 'democrat', 'democrat', 'democrat', 'democrat',\n",
       "       'republican', 'democrat', 'democrat', 'republican', 'republican',\n",
       "       'republican', 'democrat', 'republican', 'republican', 'democrat',\n",
       "       'republican', 'democrat', 'democrat', 'democrat', 'democrat',\n",
       "       'democrat', 'democrat', 'democrat', 'democrat', 'democrat',\n",
       "       'republican', 'democrat', 'democrat', 'democrat', 'democrat',\n",
       "       'democrat', 'democrat', 'republican', 'republican', 'democrat',\n",
       "       'democrat', 'democrat', 'republican', 'democrat', 'republican',\n",
       "       'democrat', 'democrat', 'democrat', 'republican', 'democrat',\n",
       "       'republican', 'republican', 'republican', 'republican',\n",
       "       'republican', 'democrat', 'republican', 'republican', 'democrat',\n",
       "       'democrat', 'democrat', 'democrat', 'democrat', 'republican',\n",
       "       'republican', 'republican', 'republican', 'republican', 'democrat',\n",
       "       'democrat', 'democrat', 'republican', 'republican', 'republican',\n",
       "       'democrat', 'democrat', 'democrat', 'republican', 'democrat',\n",
       "       'republican', 'democrat', 'republican', 'democrat', 'democrat',\n",
       "       'democrat', 'republican', 'republican', 'republican', 'democrat',\n",
       "       'republican', 'democrat', 'democrat', 'democrat', 'democrat',\n",
       "       'republican', 'democrat', 'democrat', 'republican', 'republican',\n",
       "       'democrat', 'democrat', 'democrat', 'republican', 'democrat',\n",
       "       'democrat', 'democrat', 'democrat', 'republican', 'democrat',\n",
       "       'democrat', 'democrat', 'democrat', 'democrat', 'democrat',\n",
       "       'democrat', 'democrat', 'democrat', 'democrat', 'democrat',\n",
       "       'republican', 'democrat', 'republican', 'republican', 'democrat',\n",
       "       'democrat', 'democrat', 'republican', 'democrat', 'republican',\n",
       "       'democrat', 'democrat', 'democrat', 'democrat', 'democrat',\n",
       "       'democrat', 'republican', 'democrat', 'republican', 'republican',\n",
       "       'democrat', 'democrat', 'democrat', 'republican', 'democrat',\n",
       "       'democrat', 'republican', 'democrat', 'democrat', 'republican',\n",
       "       'democrat', 'democrat', 'democrat', 'democrat', 'democrat',\n",
       "       'republican', 'republican', 'republican', 'democrat', 'democrat',\n",
       "       'republican', 'republican', 'republican', 'republican', 'democrat',\n",
       "       'republican', 'democrat', 'republican', 'democrat', 'democrat',\n",
       "       'democrat', 'republican', 'republican', 'democrat', 'republican',\n",
       "       'democrat', 'democrat', 'democrat', 'democrat', 'republican',\n",
       "       'republican', 'democrat', 'republican', 'republican', 'democrat',\n",
       "       'republican', 'democrat', 'democrat', 'republican', 'republican',\n",
       "       'democrat', 'democrat', 'democrat', 'democrat', 'democrat',\n",
       "       'democrat', 'democrat', 'democrat', 'republican', 'republican',\n",
       "       'democrat', 'democrat', 'democrat', 'democrat', 'democrat',\n",
       "       'republican', 'republican', 'democrat', 'republican', 'republican',\n",
       "       'republican', 'republican', 'democrat', 'republican', 'republican',\n",
       "       'republican', 'democrat', 'democrat', 'democrat', 'democrat',\n",
       "       'democrat', 'democrat', 'democrat', 'democrat', 'democrat',\n",
       "       'democrat', 'democrat', 'republican', 'republican', 'democrat',\n",
       "       'democrat', 'democrat', 'republican', 'democrat', 'republican',\n",
       "       'republican', 'republican', 'republican', 'republican', 'democrat',\n",
       "       'republican', 'democrat', 'republican', 'democrat', 'democrat',\n",
       "       'republican', 'republican', 'republican', 'democrat', 'democrat',\n",
       "       'democrat', 'democrat', 'democrat', 'democrat', 'democrat',\n",
       "       'democrat', 'republican', 'democrat', 'democrat', 'republican',\n",
       "       'democrat', 'democrat', 'republican', 'democrat', 'democrat',\n",
       "       'democrat', 'democrat', 'republican', 'democrat', 'democrat',\n",
       "       'democrat', 'republican', 'republican', 'democrat', 'democrat',\n",
       "       'republican', 'democrat', 'republican', 'republican', 'republican',\n",
       "       'democrat', 'republican', 'democrat', 'republican', 'democrat',\n",
       "       'republican', 'democrat', 'republican', 'republican', 'republican',\n",
       "       'democrat', 'republican', 'democrat', 'democrat', 'democrat',\n",
       "       'republican', 'republican', 'democrat', 'democrat', 'democrat',\n",
       "       'democrat', 'republican', 'democrat', 'democrat', 'democrat',\n",
       "       'democrat', 'republican', 'democrat', 'democrat', 'republican',\n",
       "       'republican', 'republican', 'democrat', 'democrat', 'democrat',\n",
       "       'democrat', 'democrat', 'democrat', 'democrat', 'democrat',\n",
       "       'democrat', 'democrat', 'democrat', 'democrat', 'republican',\n",
       "       'republican', 'democrat', 'democrat', 'democrat', 'democrat',\n",
       "       'democrat', 'republican', 'republican', 'republican', 'republican',\n",
       "       'republican', 'republican', 'republican', 'democrat', 'democrat',\n",
       "       'democrat', 'republican', 'republican', 'democrat', 'republican',\n",
       "       'republican', 'democrat', 'democrat', 'republican', 'democrat',\n",
       "       'democrat', 'democrat', 'republican', 'democrat', 'democrat',\n",
       "       'democrat', 'democrat', 'democrat', 'democrat', 'republican',\n",
       "       'democrat', 'democrat', 'republican', 'democrat', 'republican',\n",
       "       'republican', 'republican'], dtype=object)"
      ]
     },
     "execution_count": 12,
     "metadata": {},
     "output_type": "execute_result"
    }
   ],
   "source": [
    "\n",
    "# Recharger df avec le fichier house_vote_84_clean2.csv dans lequel les valeurs manquantes ont été corrigées \n",
    "# les n remplacé par des 0 et les y par des 1\n",
    "df = pd.read_csv('house_vote_84_clean2.csv', sep=\";\")\n",
    "\n",
    "# Importer le classifieur KNeighborsClassifier \n",
    "from sklearn.neighbors import KNeighborsClassifier\n",
    "\n",
    "# Créer le tableau de la varaible cible\n",
    "y = df['Class Name'].values\n",
    "# On note la variable cible par un petit y car il s'agit d'un vecteur\n",
    "\n",
    "y"
   ]
  },
  {
   "cell_type": "code",
   "execution_count": 13,
   "metadata": {},
   "outputs": [
    {
     "data": {
      "text/plain": [
       "array([[0, 1, 0, ..., 1, 0, 1],\n",
       "       [0, 1, 0, ..., 1, 0, 0],\n",
       "       [0, 1, 1, ..., 1, 0, 0],\n",
       "       ...,\n",
       "       [0, 0, 0, ..., 1, 0, 1],\n",
       "       [0, 0, 0, ..., 1, 0, 1],\n",
       "       [0, 1, 0, ..., 1, 0, 0]], dtype=int64)"
      ]
     },
     "execution_count": 13,
     "metadata": {},
     "output_type": "execute_result"
    }
   ],
   "source": [
    "# Creer le tableau de caracteristiques (ne pas oublier d'enlever la variable cible !)\n",
    "X = df.drop('Class Name', axis=1).values\n",
    "# On note le tableau de caracteristiques par un grand X car il s'agit d'une matrice\n",
    "\n",
    "X\n",
    "\n"
   ]
  },
  {
   "cell_type": "code",
   "execution_count": 14,
   "metadata": {},
   "outputs": [
    {
     "name": "stdout",
     "output_type": "stream",
     "text": [
      "Prediction: ['republican' 'republican' 'democrat' 'democrat' 'democrat' 'democrat'\n",
      " 'republican' 'republican' 'republican' 'democrat' 'republican'\n",
      " 'republican' 'democrat' 'democrat' 'republican' 'republican' 'democrat'\n",
      " 'democrat' 'republican' 'democrat' 'democrat' 'democrat' 'democrat'\n",
      " 'democrat' 'democrat' 'democrat' 'democrat' 'democrat' 'republican'\n",
      " 'democrat' 'republican' 'democrat' 'democrat' 'republican' 'democrat'\n",
      " 'republican' 'republican' 'republican' 'republican' 'democrat' 'democrat'\n",
      " 'democrat' 'democrat' 'democrat' 'democrat' 'democrat' 'democrat'\n",
      " 'democrat' 'democrat' 'republican' 'democrat' 'republican' 'democrat'\n",
      " 'republican' 'democrat' 'republican' 'republican' 'republican'\n",
      " 'republican' 'republican' 'democrat' 'republican' 'democrat' 'democrat'\n",
      " 'democrat' 'republican' 'republican' 'republican' 'democrat' 'democrat'\n",
      " 'democrat' 'democrat' 'democrat' 'republican' 'democrat' 'democrat'\n",
      " 'democrat' 'republican' 'democrat' 'republican' 'democrat' 'democrat'\n",
      " 'republican' 'republican' 'republican' 'democrat' 'republican'\n",
      " 'republican' 'democrat' 'republican' 'democrat' 'democrat' 'democrat'\n",
      " 'democrat' 'democrat' 'democrat' 'republican' 'democrat' 'democrat'\n",
      " 'republican' 'democrat' 'democrat' 'democrat' 'democrat' 'democrat'\n",
      " 'democrat' 'republican' 'democrat' 'democrat' 'democrat' 'democrat'\n",
      " 'republican' 'democrat' 'republican' 'democrat' 'democrat' 'democrat'\n",
      " 'republican' 'democrat' 'republican' 'republican' 'republican'\n",
      " 'republican' 'republican' 'democrat' 'republican' 'republican' 'democrat'\n",
      " 'democrat' 'democrat' 'democrat' 'democrat' 'republican' 'republican'\n",
      " 'republican' 'republican' 'republican' 'democrat' 'democrat' 'democrat'\n",
      " 'republican' 'republican' 'republican' 'democrat' 'democrat' 'democrat'\n",
      " 'republican' 'democrat' 'republican' 'democrat' 'republican' 'republican'\n",
      " 'democrat' 'democrat' 'republican' 'republican' 'republican' 'democrat'\n",
      " 'republican' 'democrat' 'democrat' 'republican' 'democrat' 'republican'\n",
      " 'republican' 'democrat' 'republican' 'democrat' 'republican' 'democrat'\n",
      " 'democrat' 'republican' 'democrat' 'democrat' 'democrat' 'democrat'\n",
      " 'democrat' 'democrat' 'democrat' 'democrat' 'democrat' 'democrat'\n",
      " 'democrat' 'democrat' 'democrat' 'democrat' 'democrat' 'democrat'\n",
      " 'republican' 'democrat' 'republican' 'republican' 'democrat' 'democrat'\n",
      " 'democrat' 'republican' 'democrat' 'republican' 'democrat' 'democrat'\n",
      " 'democrat' 'democrat' 'democrat' 'democrat' 'republican' 'democrat'\n",
      " 'republican' 'republican' 'democrat' 'democrat' 'democrat' 'republican'\n",
      " 'democrat' 'democrat' 'republican' 'democrat' 'democrat' 'republican'\n",
      " 'democrat' 'democrat' 'democrat' 'democrat' 'democrat' 'republican'\n",
      " 'republican' 'republican' 'democrat' 'democrat' 'republican' 'republican'\n",
      " 'republican' 'republican' 'democrat' 'republican' 'democrat' 'republican'\n",
      " 'democrat' 'democrat' 'democrat' 'republican' 'republican' 'democrat'\n",
      " 'democrat' 'democrat' 'democrat' 'democrat' 'democrat' 'republican'\n",
      " 'democrat' 'democrat' 'republican' 'republican' 'democrat' 'republican'\n",
      " 'democrat' 'democrat' 'republican' 'republican' 'democrat' 'democrat'\n",
      " 'democrat' 'democrat' 'democrat' 'democrat' 'democrat' 'democrat'\n",
      " 'republican' 'democrat' 'democrat' 'democrat' 'democrat' 'democrat'\n",
      " 'democrat' 'republican' 'republican' 'democrat' 'republican' 'republican'\n",
      " 'republican' 'republican' 'democrat' 'republican' 'republican'\n",
      " 'republican' 'democrat' 'democrat' 'democrat' 'democrat' 'democrat'\n",
      " 'democrat' 'democrat' 'democrat' 'democrat' 'democrat' 'democrat'\n",
      " 'republican' 'republican' 'democrat' 'democrat' 'democrat' 'republican'\n",
      " 'democrat' 'republican' 'republican' 'republican' 'republican'\n",
      " 'republican' 'democrat' 'republican' 'democrat' 'republican' 'democrat'\n",
      " 'democrat' 'republican' 'republican' 'republican' 'democrat' 'democrat'\n",
      " 'democrat' 'democrat' 'democrat' 'democrat' 'democrat' 'democrat'\n",
      " 'republican' 'republican' 'democrat' 'republican' 'democrat' 'democrat'\n",
      " 'republican' 'democrat' 'democrat' 'democrat' 'democrat' 'republican'\n",
      " 'democrat' 'democrat' 'democrat' 'republican' 'republican' 'democrat'\n",
      " 'democrat' 'republican' 'democrat' 'republican' 'republican' 'republican'\n",
      " 'democrat' 'republican' 'democrat' 'republican' 'democrat' 'republican'\n",
      " 'democrat' 'democrat' 'republican' 'republican' 'democrat' 'republican'\n",
      " 'democrat' 'democrat' 'democrat' 'republican' 'republican' 'democrat'\n",
      " 'democrat' 'democrat' 'democrat' 'republican' 'democrat' 'democrat'\n",
      " 'democrat' 'democrat' 'republican' 'republican' 'democrat' 'republican'\n",
      " 'republican' 'republican' 'democrat' 'democrat' 'republican' 'democrat'\n",
      " 'democrat' 'democrat' 'democrat' 'democrat' 'republican' 'democrat'\n",
      " 'democrat' 'democrat' 'republican' 'democrat' 'democrat' 'democrat'\n",
      " 'democrat' 'democrat' 'democrat' 'republican' 'republican' 'republican'\n",
      " 'democrat' 'republican' 'republican' 'republican' 'democrat' 'republican'\n",
      " 'democrat' 'republican' 'republican' 'democrat' 'republican' 'republican'\n",
      " 'democrat' 'democrat' 'republican' 'democrat' 'democrat' 'democrat'\n",
      " 'republican' 'democrat' 'democrat' 'democrat' 'democrat' 'democrat'\n",
      " 'democrat' 'republican' 'democrat' 'democrat' 'republican' 'democrat'\n",
      " 'republican' 'republican' 'republican']\n"
     ]
    }
   ],
   "source": [
    "# Créer le classifier k-NN avec 6 voisins\n",
    "knn = KNeighborsClassifier(n_neighbors=6)\n",
    "\n",
    "# Lancer l'apprentissage \n",
    "knn.fit(X,y)\n",
    "\n",
    "# Affiche les prédictions réalisées à partir du jeu d'apprentissage  X\n",
    "y_pred = knn.predict(X)\n",
    "\n",
    "print(\"Prediction: {}\".format(y_pred))"
   ]
  },
  {
   "cell_type": "code",
   "execution_count": 24,
   "metadata": {},
   "outputs": [
    {
     "ename": "NotFittedError",
     "evalue": "Must fit neighbors before querying.",
     "output_type": "error",
     "traceback": [
      "\u001b[1;31m---------------------------------------------------------------------------\u001b[0m",
      "\u001b[1;31mNotFittedError\u001b[0m                            Traceback (most recent call last)",
      "\u001b[1;32m<ipython-input-24-0e5d646a149d>\u001b[0m in \u001b[0;36m<module>\u001b[1;34m()\u001b[0m\n\u001b[0;32m      1\u001b[0m \u001b[1;31m# Affiche l'accuracy\u001b[0m\u001b[1;33m\u001b[0m\u001b[1;33m\u001b[0m\u001b[0m\n\u001b[1;32m----> 2\u001b[1;33m \u001b[0mprint\u001b[0m\u001b[1;33m(\u001b[0m\u001b[0mknn\u001b[0m\u001b[1;33m.\u001b[0m\u001b[0mscore\u001b[0m\u001b[1;33m(\u001b[0m\u001b[0mX\u001b[0m\u001b[1;33m,\u001b[0m \u001b[0my\u001b[0m\u001b[1;33m)\u001b[0m\u001b[1;33m)\u001b[0m\u001b[1;33m\u001b[0m\u001b[0m\n\u001b[0m\u001b[0;32m      3\u001b[0m \u001b[1;33m\u001b[0m\u001b[0m\n\u001b[0;32m      4\u001b[0m \u001b[1;31m#L'utilisation de .predict () sur X générera 435 prédictions: 1 pour chaque points.\u001b[0m\u001b[1;33m\u001b[0m\u001b[1;33m\u001b[0m\u001b[0m\n\u001b[0;32m      5\u001b[0m \u001b[1;33m\u001b[0m\u001b[0m\n",
      "\u001b[1;32mC:\\ProgramData\\Anaconda3\\lib\\site-packages\\sklearn\\base.py\u001b[0m in \u001b[0;36mscore\u001b[1;34m(self, X, y, sample_weight)\u001b[0m\n\u001b[0;32m    347\u001b[0m         \"\"\"\n\u001b[0;32m    348\u001b[0m         \u001b[1;32mfrom\u001b[0m \u001b[1;33m.\u001b[0m\u001b[0mmetrics\u001b[0m \u001b[1;32mimport\u001b[0m \u001b[0maccuracy_score\u001b[0m\u001b[1;33m\u001b[0m\u001b[0m\n\u001b[1;32m--> 349\u001b[1;33m         \u001b[1;32mreturn\u001b[0m \u001b[0maccuracy_score\u001b[0m\u001b[1;33m(\u001b[0m\u001b[0my\u001b[0m\u001b[1;33m,\u001b[0m \u001b[0mself\u001b[0m\u001b[1;33m.\u001b[0m\u001b[0mpredict\u001b[0m\u001b[1;33m(\u001b[0m\u001b[0mX\u001b[0m\u001b[1;33m)\u001b[0m\u001b[1;33m,\u001b[0m \u001b[0msample_weight\u001b[0m\u001b[1;33m=\u001b[0m\u001b[0msample_weight\u001b[0m\u001b[1;33m)\u001b[0m\u001b[1;33m\u001b[0m\u001b[0m\n\u001b[0m\u001b[0;32m    350\u001b[0m \u001b[1;33m\u001b[0m\u001b[0m\n\u001b[0;32m    351\u001b[0m \u001b[1;33m\u001b[0m\u001b[0m\n",
      "\u001b[1;32mC:\\ProgramData\\Anaconda3\\lib\\site-packages\\sklearn\\neighbors\\classification.py\u001b[0m in \u001b[0;36mpredict\u001b[1;34m(self, X)\u001b[0m\n\u001b[0;32m    143\u001b[0m         \u001b[0mX\u001b[0m \u001b[1;33m=\u001b[0m \u001b[0mcheck_array\u001b[0m\u001b[1;33m(\u001b[0m\u001b[0mX\u001b[0m\u001b[1;33m,\u001b[0m \u001b[0maccept_sparse\u001b[0m\u001b[1;33m=\u001b[0m\u001b[1;34m'csr'\u001b[0m\u001b[1;33m)\u001b[0m\u001b[1;33m\u001b[0m\u001b[0m\n\u001b[0;32m    144\u001b[0m \u001b[1;33m\u001b[0m\u001b[0m\n\u001b[1;32m--> 145\u001b[1;33m         \u001b[0mneigh_dist\u001b[0m\u001b[1;33m,\u001b[0m \u001b[0mneigh_ind\u001b[0m \u001b[1;33m=\u001b[0m \u001b[0mself\u001b[0m\u001b[1;33m.\u001b[0m\u001b[0mkneighbors\u001b[0m\u001b[1;33m(\u001b[0m\u001b[0mX\u001b[0m\u001b[1;33m)\u001b[0m\u001b[1;33m\u001b[0m\u001b[0m\n\u001b[0m\u001b[0;32m    146\u001b[0m \u001b[1;33m\u001b[0m\u001b[0m\n\u001b[0;32m    147\u001b[0m         \u001b[0mclasses_\u001b[0m \u001b[1;33m=\u001b[0m \u001b[0mself\u001b[0m\u001b[1;33m.\u001b[0m\u001b[0mclasses_\u001b[0m\u001b[1;33m\u001b[0m\u001b[0m\n",
      "\u001b[1;32mC:\\ProgramData\\Anaconda3\\lib\\site-packages\\sklearn\\neighbors\\base.py\u001b[0m in \u001b[0;36mkneighbors\u001b[1;34m(self, X, n_neighbors, return_distance)\u001b[0m\n\u001b[0;32m    325\u001b[0m         \"\"\"\n\u001b[0;32m    326\u001b[0m         \u001b[1;32mif\u001b[0m \u001b[0mself\u001b[0m\u001b[1;33m.\u001b[0m\u001b[0m_fit_method\u001b[0m \u001b[1;32mis\u001b[0m \u001b[1;32mNone\u001b[0m\u001b[1;33m:\u001b[0m\u001b[1;33m\u001b[0m\u001b[0m\n\u001b[1;32m--> 327\u001b[1;33m             \u001b[1;32mraise\u001b[0m \u001b[0mNotFittedError\u001b[0m\u001b[1;33m(\u001b[0m\u001b[1;34m\"Must fit neighbors before querying.\"\u001b[0m\u001b[1;33m)\u001b[0m\u001b[1;33m\u001b[0m\u001b[0m\n\u001b[0m\u001b[0;32m    328\u001b[0m \u001b[1;33m\u001b[0m\u001b[0m\n\u001b[0;32m    329\u001b[0m         \u001b[1;32mif\u001b[0m \u001b[0mn_neighbors\u001b[0m \u001b[1;32mis\u001b[0m \u001b[1;32mNone\u001b[0m\u001b[1;33m:\u001b[0m\u001b[1;33m\u001b[0m\u001b[0m\n",
      "\u001b[1;31mNotFittedError\u001b[0m: Must fit neighbors before querying."
     ]
    }
   ],
   "source": [
    "# Affiche l'accuracy\n",
    "print(knn.score(X, y))\n",
    "\n",
    "#L'utilisation de .predict () sur X générera 435 prédictions: 1 pour chaque points.\n",
    "\n",
    "# QUESTION : que pensez vous de ce score ? Est il signe de qualité du modèle ?\n",
    "# REPONSE : C'est un bon score mais comme on a appris et testé sur le jeu de donnée entier cela ne veut \n",
    "# pas dire grand chose"
   ]
  },
  {
   "cell_type": "code",
   "execution_count": 16,
   "metadata": {},
   "outputs": [
    {
     "name": "stdout",
     "output_type": "stream",
     "text": [
      "Prediction: ['republican']\n"
     ]
    }
   ],
   "source": [
    "import numpy as np\n",
    "X_new =np.array([[0,1,0,1,1,1,0,0,0,1,0,1,1,1,0,1]])\n",
    "\n",
    "# Affiche les prédictions réalisées à partir du jeu d'apprentissage X_new\n",
    "new_prediction = knn.predict(X_new)\n",
    "print(\"Prediction: {}\".format(new_prediction))\n"
   ]
  },
  {
   "cell_type": "code",
   "execution_count": 18,
   "metadata": {},
   "outputs": [
    {
     "name": "stdout",
     "output_type": "stream",
     "text": [
      "0.9540229885057471\n"
     ]
    }
   ],
   "source": [
    "#import\n",
    "from sklearn.model_selection import train_test_split\n",
    "\n",
    "# Coupe en jeu de données d'apprentissage et de test\n",
    "X_train, X_test, y_train, y_test = train_test_split(X, y, test_size = 0.2, random_state=42, stratify=y)\n",
    "\n",
    "# Créer des ensembles d’entrainement et de test avec la proportion 0.2 pour le test\n",
    "# random_state est utilisé pour initialiser le générateur de nombres aléatoires, qui décidera des indices pour \n",
    "# fractionner des données en train et test.\n",
    "# Stratifier revient à réaliser la partition selon les étiquettes pour qu’elles soient distribués \n",
    "# dans l’ensemble d’apprentissage et de test comme elles le sont dans le dataset original.\n",
    "\n",
    "# Crée un classifieur k-NN avec 7 voisins\n",
    "knn = KNeighborsClassifier(n_neighbors=7)\n",
    "\n",
    "# Entraine le classifieur sur les données d'apprentissage\n",
    "knn.fit(X_train, y_train)\n",
    "\n",
    "# Affiche l'accuracy du modèle testé sur les données de test\n",
    "print(knn.score(X_test, y_test))\n",
    "\n",
    "# QUESTION : Que pensez de cette méthode de partitionnement ?\n",
    "# REPONSE : Cette méthode de partitionnement donne une meilleure accuracy , mais c'est surtout une meilleure méthode \n",
    "# pour attester de la qualité du modèle car il n'a jamais \"vu\" les données du jeu de test mais cela ne prend pas en \n",
    "# compte la non homogénéité des données de l'échantillon"
   ]
  },
  {
   "cell_type": "code",
   "execution_count": 26,
   "metadata": {},
   "outputs": [
    {
     "name": "stdout",
     "output_type": "stream",
     "text": [
      "k= 1   0.9655172413793104\n",
      "k= 2   0.9655172413793104\n",
      "k= 3   0.9770114942528736\n",
      "k= 4   0.9540229885057471\n",
      "k= 5   0.9655172413793104\n",
      "k= 6   0.9655172413793104\n",
      "k= 7   0.9540229885057471\n",
      "k= 8   0.9425287356321839\n",
      "k= 9   0.9540229885057471\n"
     ]
    }
   ],
   "source": [
    "# A votre avis quel est le meilleur k ?\n",
    "\n",
    "# QUESTION : Faire varier k de 1 à 10 et calculer pour chaque k l’accuracy. \n",
    "i = 1\n",
    "while i < 10:\n",
    "    # Créer un classifieur k-NN avec 7 voisins\n",
    "    knn = KNeighborsClassifier(n_neighbors=i)\n",
    "\n",
    "    # Entraine sur classifieur sur les données d'apprentissage\n",
    "    knn.fit(X_train, y_train)\n",
    "\n",
    "    # Affiche l'accuracy\n",
    "    print(\"k=\",i,\" \",knn.score(X_test, y_test))\n",
    "    i = i +1\n",
    "\n",
    "# REPONSE: Qu’en déduisez vous ?\n",
    "# On utilise la même méthode que précédemment mais on fait varier le nombre de voisins\n",
    "# il semblerait ici que le meilleur nombre de voisins est 3 avec cette méthode d'évaluation"
   ]
  },
  {
   "cell_type": "code",
   "execution_count": 28,
   "metadata": {},
   "outputs": [
    {
     "name": "stdout",
     "output_type": "stream",
     "text": [
      "[0.91666667 0.94444444 1.         0.91666667 0.94117647 0.91176471\n",
      " 0.91176471 0.97058824 0.94117647 0.73529412]\n",
      "Accuracy moyenne  0.918954248366013\n"
     ]
    }
   ],
   "source": [
    "# Nous allons mainenant mettre en place un processus de validation croisée.\n",
    "# Cette technique est efficace pour mesurer les performances d’un modèle mais couteuse en temps de calcul. \n",
    "\n",
    "import numpy as np\n",
    "from sklearn.cross_validation import cross_val_score\n",
    "k=6\n",
    "knn = KNeighborsClassifier(n_neighbors=k)\n",
    "scores = cross_val_score(knn, X_train, y_train, cv=10, scoring='accuracy')\n",
    "print(scores)\n",
    "print(\"Accuracy moyenne \", np.mean(scores))\n",
    "\n",
    "# QUESTION : Que pensez de cette méthode de partitionnement ?\n",
    "# REPONSE : Il s'agit d'une validation croisée, on voit que l'accuracy est moins élevée qu'avec la méthode précédente\n",
    "# mais la méthode est meilleure"
   ]
  },
  {
   "cell_type": "code",
   "execution_count": 21,
   "metadata": {},
   "outputs": [
    {
     "name": "stdout",
     "output_type": "stream",
     "text": [
      "[0.9276143790849674, 0.9218954248366014, 0.9215686274509804, 0.9303921568627451, 0.9218954248366014, 0.918954248366013, 0.9102941176470587, 0.9132352941176471, 0.9104575163398693, 0.919281045751634, 0.9133986928104576, 0.9135620915032678, 0.9135620915032678, 0.9135620915032678, 0.9021241830065361, 0.9021241830065361, 0.9049019607843135, 0.9050653594771241, 0.9022875816993465, 0.9022875816993465, 0.8995098039215688, 0.9022875816993465, 0.8995098039215688, 0.9022875816993465, 0.9022875816993465, 0.9022875816993465, 0.9022875816993465, 0.9022875816993465, 0.9022875816993465, 0.9022875816993465, 0.8993464052287582, 0.9022875816993465, 0.9021241830065361, 0.9022875816993465, 0.8965686274509803, 0.8993464052287582, 0.8965686274509803, 0.8965686274509803, 0.8936274509803923, 0.8965686274509803, 0.8965686274509803, 0.8993464052287582, 0.8991830065359476, 0.8964052287581697, 0.8993464052287582, 0.8964052287581697, 0.8964052287581697, 0.8965686274509803, 0.8936274509803923]\n"
     ]
    }
   ],
   "source": [
    "# Pour finir, nous allons rechercher le meilleur k\n",
    "\n",
    "import numpy as np\n",
    "from sklearn.model_selection import train_test_split\n",
    "from sklearn.cross_validation import cross_val_score\n",
    "\n",
    "# Créer une liste de nombre de voisins\n",
    "neighbors = list(range(1,50))\n",
    "\n",
    "# vider la liste\n",
    "cv_scores = []\n",
    "\n",
    "# faire une validation croisée en 10 plies\n",
    "for k in neighbors:\n",
    "    knn = KNeighborsClassifier(n_neighbors=k)\n",
    "    scores = cross_val_score(knn, X_train, y_train, cv=10, scoring='accuracy')\n",
    "    cv_scores.append(scores.mean())\n",
    "\n",
    "print(cv_scores)\n"
   ]
  },
  {
   "cell_type": "code",
   "execution_count": 22,
   "metadata": {},
   "outputs": [
    {
     "name": "stdout",
     "output_type": "stream",
     "text": [
      "meilleur score  0.9303921568627451\n",
      "The optimal number of neighbors is  4\n"
     ]
    },
    {
     "data": {
      "image/png": "[encoded data removed]",
      "text/plain": [
       "<Figure size 432x288 with 1 Axes>"
      ]
     },
     "metadata": {
      "needs_background": "light"
     },
     "output_type": "display_data"
    }
   ],
   "source": [
    "# Déterminons le meilleur nombre de voisin k\n",
    "\n",
    "acc_max = max(cv_scores)\n",
    "print('meilleur score ',acc_max)\n",
    "\n",
    "optimal_k = neighbors[cv_scores.index(acc_max)]\n",
    "print (\"The optimal number of neighbors is \", optimal_k)\n",
    "\n",
    "# afficher l'accuracy en fonction du nombre de voisinsK\n",
    "plt.plot(neighbors, cv_scores)\n",
    "plt.xlabel('Number of Neighbors K')\n",
    "plt.ylabel('Accuracy')\n",
    "plt.show()\n",
    "\n",
    "# QUESTION : Quel k retenons nous ?\n",
    "# REPONSE : On retiens 4 comme meilleurs nombre de voisins car on l'a trouvé en utilisant la méthode de \n",
    "# validation croisée"
   ]
  },
  {
   "cell_type": "code",
   "execution_count": null,
   "metadata": {},
   "outputs": [],
   "source": []
  }
 ],
 "metadata": {
  "kernelspec": {
   "display_name": "Python 3",
   "language": "python",
   "name": "python3"
  },
  "language_info": {
   "codemirror_mode": {
    "name": "ipython",
    "version": 3
   },
   "file_extension": ".py",
   "mimetype": "text/x-python",
   "name": "python",
   "nbconvert_exporter": "python",
   "pygments_lexer": "ipython3",
   "version": "3.7.0"
  }
 },
 "nbformat": 4,
 "nbformat_minor": 2
}
