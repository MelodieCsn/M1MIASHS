{
 "cells": [
  {
   "cell_type": "code",
   "execution_count": null,
   "metadata": {},
   "outputs": [],
   "source": [
    "'''Nous allons travailler sur le jeu de données très classique iris pour faire de la classification non supervisée'''"
   ]
  },
  {
   "cell_type": "code",
   "execution_count": null,
   "metadata": {},
   "outputs": [],
   "source": [
    "#import des librairies l'environnement\n",
    "import pandas as pd\n",
    "import numpy as np\n",
    "import sklearn.metrics as sm\n",
    "import matplotlib.pyplot as plt\n",
    "from sklearn.cluster import KMeans\n",
    "from sklearn import datasets"
   ]
  },
  {
   "cell_type": "code",
   "execution_count": null,
   "metadata": {},
   "outputs": [],
   "source": [
    "#chargement de base de données iris\n",
    "iris = datasets.load_iris()\n",
    "\n",
    "# Le jeu de données Iris contient trois variantes de la fleur Iris. \n",
    "# Il contient 150 instances (ligne du jeu de donnée). \n",
    "# Chaque instance est composée de quatre attributs pour décrire une fleur d’Iris. \n",
    "# Le jeu de données est étiquetée par le type de fleur. \n",
    "# Ainsi pour quatre attributs décrivant une fleur d’Iris, on saura de quelle variante il s’agit."
   ]
  },
  {
   "cell_type": "code",
   "execution_count": null,
   "metadata": {},
   "outputs": [],
   "source": [
    "#affichage des données, vous permet de mieux comprendre le jeu de données (optionnel) \n",
    "print(iris)\n"
   ]
  },
  {
   "cell_type": "code",
   "execution_count": null,
   "metadata": {},
   "outputs": [],
   "source": [
    "print(iris.data)\n"
   ]
  },
  {
   "cell_type": "code",
   "execution_count": null,
   "metadata": {},
   "outputs": [],
   "source": [
    "print(iris.feature_names)\n"
   ]
  },
  {
   "cell_type": "code",
   "execution_count": null,
   "metadata": {},
   "outputs": [],
   "source": [
    "print(iris.target)\n"
   ]
  },
  {
   "cell_type": "code",
   "execution_count": null,
   "metadata": {},
   "outputs": [],
   "source": [
    "print(iris.target_names)"
   ]
  },
  {
   "cell_type": "code",
   "execution_count": null,
   "metadata": {},
   "outputs": [],
   "source": [
    "#Stocker les données en tant que DataFrame Pandas \n",
    "x=pd.DataFrame(iris.data)\n",
    "# définir les noms de colonnes\n",
    "x.columns=['Sepal_Length','Sepal_width','Petal_Length','Petal_width']\n",
    "y=pd.DataFrame(iris.target)\n",
    "y.columns=['Targets']"
   ]
  },
  {
   "cell_type": "code",
   "execution_count": null,
   "metadata": {},
   "outputs": [],
   "source": [
    "# Maintenant qu’on a mis les données dans le bon format (dans un Data Frame), \n",
    "# l’entrainement de K-Means est simple avec la librairie Scikit-Learn.\n",
    "# Il suffit d’instancier un objet de la classe kmeans en lui indiquant le nombre de clusters qu’on veut former. \n",
    "# Par la suite il faut appeler la méthode fit() pour calculer les clusters.\n",
    "\n",
    "#Cluster K-means\n",
    "model=KMeans(n_clusters=3)\n",
    "#Adapter le modèle de données\n",
    "model.fit(x)"
   ]
  },
  {
   "cell_type": "code",
   "execution_count": null,
   "metadata": {},
   "outputs": [],
   "source": [
    "# Le  code ci-dessous permet d’afficher le clustering fait par l’algorithme K-Means :\n",
    "print(model.labels_)\n",
    "# QUESTION : comment lire le résultat ?\n",
    "# REPONSE : "
   ]
  },
  {
   "cell_type": "code",
   "execution_count": null,
   "metadata": {},
   "outputs": [],
   "source": [
    "# un tableau de la sorte n’est pas très parlant. \n",
    "# Vu que notre jeu de données est relativement petit, \n",
    "# on peut visualiser graphiquement notre jeu de données pour observer les clusters formés.\n",
    "\n",
    "plt.scatter(x.Petal_Length, x.Petal_width)"
   ]
  },
  {
   "cell_type": "code",
   "execution_count": null,
   "metadata": {},
   "outputs": [],
   "source": [
    "# En nous basant sur la longueur et la largeur de chaque pétale, \n",
    "# on peut afficher, dans un plan 2D, les différentes fleurs de notre jeu de données. \n",
    "# Visuellement, on voit qu’il y a deux grands groupes qui se forment.\n",
    "#Ici, nous traçons la longueur et la largeur des pétales, \n",
    "# mais chaque tracé change les couleurs des points en utilisant soit  colormap [y.Targets] \n",
    "# pour la classe originale et colormap [model.labels_] pour la classe prédite.\n",
    "colormap=np.array(['Red','green','blue'])\n",
    "plt.scatter(x.Petal_Length, x.Petal_width,c=colormap[y.Targets],s=40)\n",
    "plt.scatter(x.Petal_Length, x.Petal_width,c=colormap[model.labels_],s=40)\n"
   ]
  },
  {
   "cell_type": "code",
   "execution_count": null,
   "metadata": {},
   "outputs": [],
   "source": [
    "# QUESTION : \n",
    "# comment interprétez vous le résultat de cette classification ?"
   ]
  },
  {
   "cell_type": "code",
   "execution_count": null,
   "metadata": {},
   "outputs": [],
   "source": []
  }
 ],
 "metadata": {
  "kernelspec": {
   "display_name": "Python 3",
   "language": "python",
   "name": "python3"
  },
  "language_info": {
   "codemirror_mode": {
    "name": "ipython",
    "version": 3
   },
   "file_extension": ".py",
   "mimetype": "text/x-python",
   "name": "python",
   "nbconvert_exporter": "python",
   "pygments_lexer": "ipython3",
   "version": "3.7.0"
  }
 },
 "nbformat": 4,
 "nbformat_minor": 2
}
