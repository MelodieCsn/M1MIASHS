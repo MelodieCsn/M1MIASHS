{
 "cells": [
  {
   "cell_type": "code",
   "execution_count": 1,
   "metadata": {},
   "outputs": [
    {
     "data": {
      "text/plain": [
       "\"Le problème de Monty Hall\\n\\nLe problème de Monty Hall est un casse-tête probabiliste librement inspiré du jeu télévisé américain Let's Make a Deal.\\nIl est simple dans son énoncé, mais non intuitif dans sa résolution. \\nIl porte le nom de celui qui a présenté ce jeu aux États-Unis pendant 13 ans, Monty Hall.\\n\\nLe jeu oppose un présentateur à un joueur. \\nLe joueur est placé devant trois portes fermées. \\nDerrière l'une d'elles se trouve une voiture et derrière les deux autres une chèvre. \\nLe joueur doit tout d'abord désigner une porte. \\nLe présentateur sait quelle est la bonne porte dès le début. Il  ouvre une porte qui n'est ni celle choisie par le candidat, ni celle cachant la voiture \\nLe candidat a  le droit d'ouvrir la porte qu'il a choisie initialement ou bien la troisième porte.\\n\\nQuelle est la meilleure stratégie pour le joueur pour gagner la voiture ?\""
      ]
     },
     "execution_count": 1,
     "metadata": {},
     "output_type": "execute_result"
    }
   ],
   "source": [
    "# Ce premier exercice a pour objectif de vous familariser avec les notebooks, le python\n",
    "# Les parties en vert sont des commentaire\n",
    "\n",
    "'''Le problème de Monty Hall\n",
    "\n",
    "Le problème de Monty Hall est un casse-tête probabiliste librement inspiré du jeu télévisé américain Let's Make a Deal.\n",
    "Il est simple dans son énoncé, mais non intuitif dans sa résolution. \n",
    "Il porte le nom de celui qui a présenté ce jeu aux États-Unis pendant 13 ans, Monty Hall.\n",
    "\n",
    "Le jeu oppose un présentateur à un joueur. \n",
    "Le joueur est placé devant trois portes fermées. \n",
    "Derrière l'une d'elles se trouve une voiture et derrière les deux autres une chèvre. \n",
    "Le joueur doit tout d'abord désigner une porte. \n",
    "Le présentateur sait quelle est la bonne porte dès le début. Il  ouvre une porte qui n'est ni celle choisie par le candidat, ni celle cachant la voiture \n",
    "Le candidat a  le droit d'ouvrir la porte qu'il a choisie initialement ou bien la troisième porte.\n",
    "\n",
    "Quelle est la meilleure stratégie pour le joueur pour gagner la voiture ?'''\n",
    "\n",
    "# Les parties en rouge sont également des commentaires longs.\n",
    "# Exécuter les cellules en cliquant sur \"Run\"\n"
   ]
  },
  {
   "cell_type": "code",
   "execution_count": 2,
   "metadata": {},
   "outputs": [],
   "source": [
    "# Dans cette cellule, nous préparons l'environnement de travail du notebook :\n",
    "\n",
    "# Pour afficher les graphiques dans la continuité du code, \n",
    "# et non pas dans une fenêtre à part:\n",
    "%matplotlib inline\n",
    "\n",
    "# Pour utiliser la fonction randint, qui génère des nombres\n",
    "# entiers de façon aléatoire:\n",
    "from random import randint, seed\n",
    "\n",
    "# Un Enum est une structure de données qui consiste en un \n",
    "# ensemble d'éléments nommés. Une variable de ce type prend\n",
    "# comme valeur un de ces éléments.\n",
    "from enum import Enum\n",
    "\n",
    "# Pour pouvoir afficher des graphiques:\n",
    "import matplotlib.pyplot as plt"
   ]
  },
  {
   "cell_type": "code",
   "execution_count": 3,
   "metadata": {},
   "outputs": [],
   "source": [
    "# Dans cette cellule, nous définissons une sous-classe de Enum, \n",
    "# qui listera les 2 stratégies possibles (changer de porte ou la garder)\n",
    "class Strategie(Enum):\n",
    "    CHANGER = 1\n",
    "    GARDER = 2\n",
    "    \n",
    "# QUESTION : Expliquer l'avantage d'utiliser une structure de données de type Enum \n",
    "# plutôt qu'un simple booléen ? Penser à chercher dans la documention !\n",
    "\n",
    "# REPONSE : Une énumération donne une information plus complète qu'un simple \"oui ou non\"\n",
    "# et donne la possibilité de rajouter des options de stratégies plus tard"
   ]
  },
  {
   "cell_type": "code",
   "execution_count": 6,
   "metadata": {},
   "outputs": [],
   "source": [
    "# Utilise l'horloge système pour initialiser le générateur de \n",
    "# nombres pseudo-aléatoires.\n",
    "seed()\n",
    "\n",
    "\n",
    "def play_game(strategie):\n",
    "    '''Simule une partie du jeu Monty Hall.\n",
    "    \n",
    "    Cette fonction simule le choix de la porte par le participant, \n",
    "    l'élimination d'une mauvaise porte par le présentateur, et le \n",
    "    choix final. Elle  retourne  le résultat de la partie (réussie ou non).\n",
    "    \n",
    "    Args:\n",
    "        strategie (Strategie): 1 ou 2\n",
    "        \n",
    "    Returns:\n",
    "        bool: 1 pour gagné, 0 pour perdu\n",
    "    '''\n",
    "# Le commentaire en plusieurs lignes après la déclaration du nom de la fonction est un docstring. \n",
    "# Par convention, il est utilisé pour générer une documentation. \n",
    "# C'est très important de toujours commenter vos fonctions. \n",
    "# Un bon commentaire  explique non seulement ce que la fonction fait, mais aussi pourquoi.\n",
    "# Notez la séparation entre la première ligne du docstring, qui contient une description abrégée, \n",
    "# et le reste, qui sert à décrire plus précisément la fonction. Dans la liste des arguments, \n",
    "# on peut définir le type attendu entre parenthèses.\n",
    "\n",
    "# QUESTION : Compléter les commentaires (XXXXXXXXX) relatifs aux arguments de la fonction et à la valeur retournée\n",
    "\n",
    "# REPONSE :     \n",
    "#    \n",
    "\n",
    "    portes = [0, 1, 2]\n",
    "    \n",
    "    bonne_porte = randint(0,2)\n",
    "    \n",
    "    # Choix du joueur\n",
    "    premier_choix = randint(0,2)\n",
    "    \n",
    "    # Il nous reste deux portes\n",
    "    portes.remove(premier_choix)\n",
    "    \n",
    "    # Le présentateur élimine une porte\n",
    "    if premier_choix == bonne_porte:\n",
    "        portes.remove(portes[randint(0,1)])\n",
    "    else:\n",
    "        portes = [bonne_porte]\n",
    "    \n",
    "    deuxieme_choix = 0\n",
    "\n",
    "    # Le deuxieme choix depend de la strategie\n",
    "    if strategie == Strategie.CHANGER:\n",
    "        deuxieme_choix = portes[0]\n",
    "    elif strategie == Strategie.GARDER:\n",
    "        deuxieme_choix = premier_choix\n",
    "    else:\n",
    "        raise ValueError(\"Stratégie non reconnue!\")\n",
    "    \n",
    "    return deuxieme_choix == bonne_porte\n",
    "\n",
    "# QUESTION : Compléter les arguments des différents appels de la fonction randint.  \n",
    "\n",
    "# REPONSE : \n"
   ]
  },
  {
   "cell_type": "code",
   "execution_count": 19,
   "metadata": {},
   "outputs": [
    {
     "data": {
      "text/plain": [
       "True"
      ]
     },
     "execution_count": 19,
     "metadata": {},
     "output_type": "execute_result"
    }
   ],
   "source": [
    "# Simulation de plusieurs parties\n",
    "\n",
    "play_game(Strategie.CHANGER)\n",
    "\n",
    "# QUESTION : exécuter au moins une dizaine de fois cette cellule. Que constatez vous ?\n",
    "\n",
    "# REPONSE : On perd 3 fois sur 10 et on gagne 7 fois sur 10 quand on choisit de changer de porte au milieu du jeu"
   ]
  },
  {
   "cell_type": "code",
   "execution_count": 20,
   "metadata": {},
   "outputs": [],
   "source": [
    "# Nous allons définir une fonction qui lancera le jeu autant de fois que nous le souhaitons, \n",
    "# et retournera le résultat de chaque partie dans une liste. \n",
    "# Pour pouvoir exécuter des calculs sur ces résultats, nous allons aussi les stocker \n",
    "# non plus comme des variables booléennes (Vrai ou Faux) \n",
    "# mais en terme du gain du joueur (1 s'il a gagné, 0 s'il a perdu).\n",
    "\n",
    "def play(strategie, nb_tours):\n",
    "    '''Simule une suite de tours du jeu.\n",
    "    \n",
    "    Cette fonction renvoie les résultats de nb_tours parties\n",
    "    du jeu sous forme d'une liste de gains par le joueur.\n",
    "    \n",
    "    Args:\n",
    "        strategie (Strategie): La strategie du joueur\n",
    "        nb_tours (int): Nombre de tours\n",
    "        \n",
    "    Returns:\n",
    "        list: liste des resultats de chaque partie, de taille nb_tours\n",
    "    '''\n",
    "    \n",
    "    return [1 if play_game(strategie) else 0 for i in range(nb_tours)]\n",
    "\n",
    "# QUESTION : Que retourne cette fonction ?\n",
    "\n",
    "# REPONSE : Elle retourne la liste des résultats pour chaque partie avec la stratégie donnée en paramètre, \n",
    "# cette liste est de taille nb_tours"
   ]
  },
  {
   "cell_type": "code",
   "execution_count": 23,
   "metadata": {},
   "outputs": [
    {
     "name": "stdout",
     "output_type": "stream",
     "text": [
      "En changeant de porte, le joueur a gagné 6563 sur 10000 parties.\n",
      "En gardant son choix initial, le joueur a gagné 3381 sur 10000 parties.\n"
     ]
    }
   ],
   "source": [
    "# QUESTION : Compléter le code ci-dessous pour calculer combien de fois le joueur à gagné sur 10 000 parties ?\n",
    "liChanger=play(Strategie.CHANGER,10000)\n",
    "cptchanger=0\n",
    "for i in range (len(liChanger)):\n",
    "    if liChanger[i]==1:\n",
    "        cptchanger+=1\n",
    "print(\"En changeant de porte, le joueur a gagné {} sur 10000 parties.\"\n",
    "      .format(cptchanger))\n",
    "\n",
    "liGarder=play(Strategie.GARDER,10000)\n",
    "cptgarder=0\n",
    "for i in range (len(liGarder)):\n",
    "    if liGarder[i]==1:\n",
    "        cptgarder+=1      \n",
    "print(\"En gardant son choix initial, le joueur a gagné {} sur 10000 parties.\"\n",
    "      .format(cptgarder))\n",
    "\n",
    "# REPONSE : en changeant : 6562/10000\n",
    "# en gardant : 3381/10000"
   ]
  },
  {
   "cell_type": "code",
   "execution_count": null,
   "metadata": {},
   "outputs": [],
   "source": [
    "# Le joueur qui a changé de porte a donc gagné approximativement deux fois plus souvent \n",
    "# que le joueur qui a conservé son choix initial. Vous y attendiez-vous ?"
   ]
  },
  {
   "cell_type": "code",
   "execution_count": 34,
   "metadata": {},
   "outputs": [
    {
     "data": {
      "image/png": "[encoded data removed]",
      "text/plain": [
       "<Figure size 432x288 with 1 Axes>"
      ]
     },
     "metadata": {
      "needs_background": "light"
     },
     "output_type": "display_data"
    }
   ],
   "source": [
    "# Visualisation\n",
    "# Il n'est pas possible de regarder les 10000 parties une par une, mais heureusement, \n",
    "# nous pouvons créer des graphiques grâce à Matplotlib. \n",
    "# Commençons par tester la fonction plot.\n",
    "\n",
    "# plot renvoie un objet, que l'on pourra manipuler plus tard pour personnaliser le graphique\n",
    "plot = plt.plot(play(Strategie.CHANGER, 100))\n",
    "\n",
    "# QUESTION : Que représente ce graphique ? \n",
    "# Essayez avec 10000 parties.\n",
    "# En quoi pose t'il problème ? \n",
    "\n",
    "# REPONSE : Ce graphique représente les résultats de la liste sous forme de grahique qui relie les parties par un \n",
    "# trait entre 0 et un. Quand on fait ce graphique pour 10000 parties on a un carré bleu car la forme du graphique \n",
    "# colle tous les traits bleus car ils sont trop nombreux et il ne permet pas de visualiser de façon cohérente le \n",
    "#phénomène"
   ]
  },
  {
   "cell_type": "code",
   "execution_count": 26,
   "metadata": {},
   "outputs": [
    {
     "data": {
      "image/png": "[encoded data removed]",
      "text/plain": [
       "<Figure size 432x288 with 1 Axes>"
      ]
     },
     "metadata": {
      "needs_background": "light"
     },
     "output_type": "display_data"
    }
   ],
   "source": [
    "# Testons maintenant la fonction scatter et bar\n",
    "plot = plt.scatter(range(100), play(Strategie.CHANGER, 100))"
   ]
  },
  {
   "cell_type": "code",
   "execution_count": 27,
   "metadata": {},
   "outputs": [
    {
     "data": {
      "image/png": "[encoded data removed]",
      "text/plain": [
       "<Figure size 432x288 with 1 Axes>"
      ]
     },
     "metadata": {
      "needs_background": "light"
     },
     "output_type": "display_data"
    }
   ],
   "source": [
    "# Testons maintenant la fonction  bar\n",
    "plot = plt.bar([1,2],[sum(play(Strategie.CHANGER, 10000)), \n",
    "               sum(play(Strategie.GARDER, 10000))], \n",
    "        tick_label=[\"Changer\",\"Garder\"])"
   ]
  },
  {
   "cell_type": "code",
   "execution_count": null,
   "metadata": {},
   "outputs": [],
   "source": [
    "# QUESTION : Quelle fonction vous parait la plus adaptée.\n",
    "\n",
    "# REPONSE : La fonction bar paraît clairement plus adaptée pour visualiser la proportion de parties gagnées et \n",
    "# celle des parties perdues\n"
   ]
  },
  {
   "cell_type": "code",
   "execution_count": 28,
   "metadata": {},
   "outputs": [],
   "source": [
    "# Nous souhaitons maintenant suivre l'évolution des gains des joueurs en fonction du nombre de parties ? \n",
    "# Nous pouvons vérifier que notre programme se comporte de manière raisonnable si nous détectons une relation \n",
    "# linéaire entre les gains des joueurs et le nombre de parties qu'ils ont joué. \n",
    "# Gagne t'on plus avec la stratégie CHANGER ou GARDER ?\n",
    "\n",
    "gains_changer = []\n",
    "gains_garder = []\n",
    "samples =  [1000, 10000, 20000, 50000, 80000, 100000]\n",
    "for tours in samples:\n",
    "    gains_changer.append(play(Strategie.CHANGER, tours))\n",
    "    gains_garder.append(play(Strategie.GARDER, tours))\n",
    "    \n",
    "# Nous avons maintenant deux listes. \n",
    "# L'une contenant les gains d'un joueur qui change de porte systématiquement après \n",
    "# 1000, 10000, 20000, 50000, 80000 et 100000 parties. \n",
    "# L'autre contient la même chose, mais pour un joueur qui ne change jamais de porte. \n"
   ]
  },
  {
   "cell_type": "code",
   "execution_count": 37,
   "metadata": {},
   "outputs": [
    {
     "data": {
      "image/png": "[encoded data removed]",
      "text/plain": [
       "<Figure size 432x288 with 1 Axes>"
      ]
     },
     "metadata": {
      "needs_background": "light"
     },
     "output_type": "display_data"
    }
   ],
   "source": [
    "figure = plt.figure()\n",
    "plot = plt.scatter(samples, [sum(i) for i in gains_changer])\n",
    "plot = plt.scatter(samples, [sum(i) for i in gains_garder])\n",
    "\n",
    "# Notez la fonction figure. Elle crée un graphique. \n",
    "# Les appels suivants aux fonctions telles que  scatter  et  plot  génèrent des courbes sur ce même graphique.\n",
    "\n",
    "# QUESTION : modifier le code précédent pour que, sur le même graphique, apparaissent  deux courbes \n",
    "# correspondant à ces listes  \n",
    "\n",
    "# REPONSE : \n"
   ]
  },
  {
   "cell_type": "code",
   "execution_count": 42,
   "metadata": {},
   "outputs": [
    {
     "data": {
      "image/png": "[encoded data removed]",
      "text/plain": [
       "<Figure size 432x288 with 1 Axes>"
      ]
     },
     "metadata": {
      "needs_background": "light"
     },
     "output_type": "display_data"
    }
   ],
   "source": [
    "# Regardons une autre donnée, la moyenne de gains de chaque stratégie par partie. \n",
    "# Il suffit pour cela de diviser la somme des gains par le nombre de parties. \n",
    "\n",
    "# QUESTION : Créer ce graphique et interpréter le \n",
    "\n",
    "\n",
    "figure = plt.figure()\n",
    "plot = plt.scatter(samples, [sum(i)/len(i) for i in gains_changer])\n",
    "plot = plt.scatter(samples, [sum(i)/len(i) for i in gains_garder])\n",
    "\n",
    "\n",
    "\n",
    "# REPONSE :"
   ]
  },
  {
   "cell_type": "code",
   "execution_count": null,
   "metadata": {},
   "outputs": [],
   "source": []
  }
 ],
 "metadata": {
  "kernelspec": {
   "display_name": "Python 3",
   "language": "python",
   "name": "python3"
  },
  "language_info": {
   "codemirror_mode": {
    "name": "ipython",
    "version": 3
   },
   "file_extension": ".py",
   "mimetype": "text/x-python",
   "name": "python",
   "nbconvert_exporter": "python",
   "pygments_lexer": "ipython3",
   "version": "3.7.0"
  }
 },
 "nbformat": 4,
 "nbformat_minor": 2
}
