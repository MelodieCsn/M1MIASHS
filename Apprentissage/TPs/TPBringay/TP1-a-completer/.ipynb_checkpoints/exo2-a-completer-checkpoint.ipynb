{
 "cells": [
  {
   "cell_type": "code",
   "execution_count": null,
   "metadata": {},
   "outputs": [],
   "source": [
    "'''\n",
    "Quelle que soit la nature des données, elles peuvent être généralement considérées comme des tableaux de nombres. \n",
    "Par exemple, une image est un tableau à 2 dimensions contenant l'intensité  d'un pixel. \n",
    "Il est fondamental de pouvoir manipuler efficacement ces tableaux. \n",
    "En python, on utilise pour cela Numpy (Numerical Python) qui fournit une interface pour stocker \n",
    "et effectuer des opérations sur les données de manière efficace, même sur les tableaux de large taille. \n",
    "\n",
    "Dans cet exerice, vous devrez compléter les commentaires XXXXXXXX\n",
    "\n",
    "'''"
   ]
  },
  {
   "cell_type": "code",
   "execution_count": 1,
   "metadata": {},
   "outputs": [],
   "source": [
    "# Commençons par importer Numpy.\n",
    "import numpy as np"
   ]
  },
  {
   "cell_type": "code",
   "execution_count": null,
   "metadata": {},
   "outputs": [],
   "source": [
    "# Les tableaux Numpy ne peuvent contenir des éléments  d'UN SEUL  type. \n",
    "# Le type est  déduit au moment de la création du tableau, et a un impact sur les opérations \n",
    "# qui y seront appliquées. On peut aussi spécifier le type manuellement. \n",
    "\n",
    "# COMMENTAIRE : On crée un vecteur d'entiers\n",
    "np.array([1, 4, 2, 5, 3])\n",
    "\n",
    "\n",
    "\n",
    "# COMMENTAIRE : On crée un vecteur de flottants\n",
    "np.array([3.14, 4, 2, 3])\n",
    "\n"
   ]
  },
  {
   "cell_type": "code",
   "execution_count": null,
   "metadata": {},
   "outputs": [],
   "source": [
    "# COMMENTAIRE : On crée un vecteur dont on force le type à flottants\n",
    "np.array([1, 2, 3, 4], dtype='float32')"
   ]
  },
  {
   "cell_type": "code",
   "execution_count": 5,
   "metadata": {},
   "outputs": [
    {
     "data": {
      "text/plain": [
       "array([[2, 3, 4],\n",
       "       [4, 5, 6],\n",
       "       [6, 7, 8]])"
      ]
     },
     "execution_count": 5,
     "metadata": {},
     "output_type": "execute_result"
    }
   ],
   "source": [
    "# Contrairement aux listes Python, les tableaux Numpy peuvent être explicitement multi-dimensionnels. \n",
    "# COMMENTAIRE : On crée une liste de dimension 3*3 qui la remplie avec i, i+1, i+2 (d'où le range)\n",
    "np.array([range(i, i + 3) for i in [2, 4, 6]])\n",
    "\n"
   ]
  },
  {
   "cell_type": "code",
   "execution_count": 6,
   "metadata": {},
   "outputs": [
    {
     "data": {
      "text/plain": [
       "array([0, 0, 0, 0, 0, 0, 0, 0, 0, 0])"
      ]
     },
     "execution_count": 6,
     "metadata": {},
     "output_type": "execute_result"
    }
   ],
   "source": [
    "# COMMENTAIRE : On crée un liste remplie de 10 0 de type int\n",
    "np.zeros(10, dtype=int)"
   ]
  },
  {
   "cell_type": "code",
   "execution_count": 7,
   "metadata": {},
   "outputs": [
    {
     "data": {
      "text/plain": [
       "array([[1., 1., 1., 1., 1.],\n",
       "       [1., 1., 1., 1., 1.],\n",
       "       [1., 1., 1., 1., 1.]])"
      ]
     },
     "execution_count": 7,
     "metadata": {},
     "output_type": "execute_result"
    }
   ],
   "source": [
    "# COMMENTAIRE : On crée une liste de flottants (ici 1) de dimension 3*5\n",
    "np.ones((3, 5), dtype=float)"
   ]
  },
  {
   "cell_type": "code",
   "execution_count": 8,
   "metadata": {},
   "outputs": [
    {
     "data": {
      "text/plain": [
       "array([[3.14, 3.14, 3.14, 3.14, 3.14],\n",
       "       [3.14, 3.14, 3.14, 3.14, 3.14],\n",
       "       [3.14, 3.14, 3.14, 3.14, 3.14]])"
      ]
     },
     "execution_count": 8,
     "metadata": {},
     "output_type": "execute_result"
    }
   ],
   "source": [
    "# COMMENTAIRE : On crée une liste de 3*5 remplie de 3.14\n",
    "np.full((3, 5), 3.14)"
   ]
  },
  {
   "cell_type": "code",
   "execution_count": 9,
   "metadata": {},
   "outputs": [
    {
     "data": {
      "text/plain": [
       "array([ 0,  2,  4,  6,  8, 10, 12, 14, 16, 18])"
      ]
     },
     "execution_count": 9,
     "metadata": {},
     "output_type": "execute_result"
    }
   ],
   "source": [
    "# COMMENTAIRE : On crée une liste qui va jusqu'à 20 de 2 en 2\n",
    "np.arange(0, 20, 2)"
   ]
  },
  {
   "cell_type": "code",
   "execution_count": 10,
   "metadata": {},
   "outputs": [
    {
     "data": {
      "text/plain": [
       "array([0.  , 0.25, 0.5 , 0.75, 1.  ])"
      ]
     },
     "execution_count": 10,
     "metadata": {},
     "output_type": "execute_result"
    }
   ],
   "source": [
    "# COMMENTAIRE : On crée une liste qui de 0 à 1 et qui découpe cet intervalle en 5 \n",
    "np.linspace(0, 1, 5)"
   ]
  },
  {
   "cell_type": "code",
   "execution_count": 11,
   "metadata": {},
   "outputs": [
    {
     "data": {
      "text/plain": [
       "array([[0.40164012, 0.05464914, 0.72309045],\n",
       "       [0.51885326, 0.56319868, 0.42639051],\n",
       "       [0.2423031 , 0.72776263, 0.37620403]])"
      ]
     },
     "execution_count": 11,
     "metadata": {},
     "output_type": "execute_result"
    }
   ],
   "source": [
    "# COMMENTAIRE : Crée une liste de 3*3 remplie avec des flottants aléatoires entre 0 et 1\n",
    "np.random.random((3, 3))"
   ]
  },
  {
   "cell_type": "code",
   "execution_count": 12,
   "metadata": {},
   "outputs": [
    {
     "data": {
      "text/plain": [
       "array([[1., 0., 0.],\n",
       "       [0., 1., 0.],\n",
       "       [0., 0., 1.]])"
      ]
     },
     "execution_count": 12,
     "metadata": {},
     "output_type": "execute_result"
    }
   ],
   "source": [
    "# COMMENTAIRE : Crée une liste de 3*3 avec des 1 dans les diagonales et des zéros partout ailleurs (matrice identité)\n",
    "np.eye(3)"
   ]
  },
  {
   "cell_type": "code",
   "execution_count": 13,
   "metadata": {},
   "outputs": [
    {
     "name": "stdout",
     "output_type": "stream",
     "text": [
      "[5 0 3 3 7 9]\n",
      "nombre de dimensions de x1:  1\n",
      "forme de x1:  (6,)\n",
      "taille de x1:  6\n",
      "type de x1:  int32\n"
     ]
    }
   ],
   "source": [
    "# COMMENTAIRE : Crée un tableau de classe numpy de 6 entiers aléatoires en 0 et 10 auquel on peut demander des paramètres particuliers\n",
    "# comme sa dimension, son type ou sa taille\n",
    "np.random.seed(0)\n",
    "x1 = np.random.randint(10, size=6)  \n",
    "print(x1)\n",
    "print(\"nombre de dimensions de x1: \", x1.ndim)\n",
    "print(\"forme de x1: \", x1.shape)\n",
    "print(\"taille de x1: \", x1.size)\n",
    "print(\"type de x1: \", x1.dtype)"
   ]
  },
  {
   "cell_type": "code",
   "execution_count": 14,
   "metadata": {},
   "outputs": [
    {
     "name": "stdout",
     "output_type": "stream",
     "text": [
      "[[0.6235637  0.38438171 0.29753461]\n",
      " [0.05671298 0.27265629 0.47766512]\n",
      " [0.81216873 0.47997717 0.3927848 ]]\n",
      "nombre de dimensions de x1:  2\n",
      "forme de x1:  (3, 3)\n",
      "taille de x1:  9\n",
      "type de x1:  float64\n"
     ]
    }
   ],
   "source": [
    "# COMMENTAIRE : Crée une liste de 3*3 de classe numpy remplie avec des flottants entre 0 et 1 auquel on peut demander certains \n",
    "# paramètres\n",
    "x1 = np.random.random((3, 3))\n",
    "print(x1)\n",
    "print(\"nombre de dimensions de x1: \", x1.ndim)\n",
    "print(\"forme de x1: \", x1.shape)\n",
    "print(\"taille de x1: \", x1.size)\n",
    "print(\"type de x1: \", x1.dtype)\n"
   ]
  },
  {
   "cell_type": "code",
   "execution_count": 15,
   "metadata": {},
   "outputs": [
    {
     "name": "stdout",
     "output_type": "stream",
     "text": [
      "[5 0 3 3 7 9]\n",
      "5\n"
     ]
    }
   ],
   "source": [
    "np.random.seed(0)\n",
    "x1 = np.random.randint(10, size=6)  # Tableau de dimension 1\n",
    "print(x1)\n",
    "# COMMENTAIRE :  Crée un tableau de 6 entiers entre 0 et 10 auquel on peut demander l'élément à une case d'indice donné\n",
    "print(x1[0])"
   ]
  },
  {
   "cell_type": "code",
   "execution_count": 16,
   "metadata": {},
   "outputs": [
    {
     "name": "stdout",
     "output_type": "stream",
     "text": [
      "9\n"
     ]
    }
   ],
   "source": [
    "# COMMENTAIRE : Ce tableau permet de le parcourir même avec des indices négatifs évitant les effet de bords\n",
    "print(x1[-1])"
   ]
  },
  {
   "cell_type": "code",
   "execution_count": 17,
   "metadata": {},
   "outputs": [
    {
     "name": "stdout",
     "output_type": "stream",
     "text": [
      "[[3 5 2 4]\n",
      " [7 6 8 8]\n",
      " [1 6 7 7]]\n",
      "5\n"
     ]
    }
   ],
   "source": [
    "x2 = np.random.randint(10, size=(3, 4))  # Tableau de dimension 2\n",
    "# COMMENTAIRE : Crée un tableau de dimension 3*4. On peut récupérer une valeur en ayant l'indice de la matrice\n",
    "print(x2)\n",
    "print(x2[0,1])"
   ]
  },
  {
   "cell_type": "code",
   "execution_count": 18,
   "metadata": {},
   "outputs": [
    {
     "name": "stdout",
     "output_type": "stream",
     "text": [
      "[   5 1000    3    3    7    9]\n",
      "[5 3 3 3 7 9]\n"
     ]
    }
   ],
   "source": [
    "# COMMENTAIRE : Permet de changer un valeur du tableau en donnant l'indice de la valeur à modifier en String mais \n",
    "# le constructeur doit le transformer en int par la suite car il faut que le String donné corresponde à un int pour\n",
    "# ne pas avoir d'erreur\n",
    "x1[1] = \"1000\"\n",
    "print(x1)\n",
    "\n",
    "# # COMMENTAIRE : Fonctionne mais transforme automatiquement les flottants en entiers\n",
    "x1[1] = 3.14\n",
    "print(x1)"
   ]
  },
  {
   "cell_type": "code",
   "execution_count": 20,
   "metadata": {},
   "outputs": [
    {
     "name": "stdout",
     "output_type": "stream",
     "text": [
      "[5 3 3 3 7 9]\n",
      "[5 3 3]\n",
      "[9]\n",
      "[5 3 7]\n"
     ]
    },
    {
     "data": {
      "text/plain": [
       "array([9, 7, 3, 3, 3, 5])"
      ]
     },
     "execution_count": 20,
     "metadata": {},
     "output_type": "execute_result"
    }
   ],
   "source": [
    "#Accéder à plusieurs éléments\n",
    "\n",
    "# De la même façon que nous pouvons indexer des éléments grâce à  [], nous pouvons accéder \n",
    "# à un ensemble d'éléments en combinant  []  et  :. \n",
    "# La syntaxe suit une règle simple :  x[début:fin:pas].\n",
    "# Le début peut être omis si on veut commencer au début de la liste (c'est à dire si début = 0). \n",
    "# La fin peut être omise si on veut aller jusqu'au bout de la liste (c'est à dire fin = -1 ou fin = len(liste) ). \n",
    "# Le pas, ainsi que le dernier  :, peuvent être omis si le pas est de 1 (-1 si la fin est inférieure au début). \n",
    "\n",
    "print(x1)  \n",
    "\n",
    "# COMMENTAIRE : Affiche le tableau de l'indice 5 \n",
    "print(x1[:5])  \n",
    "\n",
    "# COMMENTAIRE : XXXXXXXXXXXXXXX\n",
    "print(x1[5:])  \n",
    "\n",
    "# COMMENTAIRE : v\n",
    "print(x1[::2])   \n",
    "\n",
    "# COMMENTAIRE : XXXXXXXXXXXXXXX\n",
    "x1[::-1]"
   ]
  },
  {
   "cell_type": "code",
   "execution_count": null,
   "metadata": {},
   "outputs": [],
   "source": [
    "# On peut accéder de la même façon aux éléments d'un tableau multi-dimensionnel. \n",
    "# Par exemple, on a souvent besoin d'accéder à une ligne ou une colonne d'une matrice.\n",
    "\n",
    "print(x2)\n",
    "# COMMENTAIRE : XXXXXXXXXXXXXXX\n",
    "x2[0,:] "
   ]
  },
  {
   "cell_type": "code",
   "execution_count": null,
   "metadata": {},
   "outputs": [],
   "source": [
    "#COMMENTAIRE : XXXXXXXXXXXXXXX\n",
    "x = np.array([1, 2, 3])\n",
    "y = np.array([3, 2, 1])\n",
    "np.concatenate([x, y])"
   ]
  },
  {
   "cell_type": "code",
   "execution_count": null,
   "metadata": {},
   "outputs": [],
   "source": [
    "# COMMENTAIRE : XXXXXXXXXXXXXXX\n",
    "x = np.array([1, 2, 3])\n",
    "grid = np.array([[9, 8, 7],\n",
    "                 [6, 5, 4]])\n",
    "\n",
    "np.vstack([x, grid])"
   ]
  },
  {
   "cell_type": "code",
   "execution_count": null,
   "metadata": {},
   "outputs": [],
   "source": [
    "# L'implémentation de référence de Python, encore appelée CPython, est très flexible, \n",
    "# mais cette flexibilité l'empêche d'utiliser toutes les optimisations possibles. \n",
    "# Par exemple, observez le temps d'exécution de ce morceau de code\n",
    "\n",
    "def calcul_inverse(values):\n",
    "    output = np.empty(len(values))\n",
    "    for i in range(len(values)):\n",
    "        output[i] = 1.0 / values[i]\n",
    "    return output\n",
    "        \n",
    "\n",
    "# Calcul sur un petit tableau\n",
    "values = np.random.randint(1, 10, size=5)\n",
    "print(calcul_inverse(values))\n",
    "%timeit calcul_inverse(values)\n",
    "\n",
    "# Calcul sur un grand tableau avec la fonction\n",
    "tableau_large = np.random.randint(1, 100, size=1000000)\n",
    "%timeit calcul_inverse(tableau_large)\n",
    "# Calcul sur un grand tableau avec la version optimisé\n",
    "%timeit (1.0 / tableau_large)\n",
    "\n",
    "# COMMENTAIRE : XXXXXXXXXXXXXXX"
   ]
  },
  {
   "cell_type": "code",
   "execution_count": null,
   "metadata": {},
   "outputs": [],
   "source": [
    "# COMMENTAIRE : # XXXXXXXXXXXXXXX\n",
    "x = np.arange(4)\n",
    "print(\"x     =\", x)\n",
    "print(\"x + 5 =\", x + 5)\n",
    "print(\"x - 5 =\", x - 5)\n",
    "print(\"x * 2 =\", x * 2)\n",
    "print(\"x / 2 =\", x / 2)\n",
    "print(\"x // 2 =\", x // 2)  # Division avec arronid"
   ]
  },
  {
   "cell_type": "code",
   "execution_count": null,
   "metadata": {},
   "outputs": [],
   "source": [
    "# COMMENTAIRE : # XXXXXXXXXXXXXXX\n",
    "x = [-2, -1, 1, 2]\n",
    "print(\"La valeur absolue: \", np.abs(x))\n",
    "print(\"Exponentielle: \", np.exp(x))\n",
    "print(\"Logarithme: \", np.log(np.abs(x)))"
   ]
  },
  {
   "cell_type": "code",
   "execution_count": null,
   "metadata": {},
   "outputs": [],
   "source": [
    "# COMMENTAIRE : # XXXXXXXXXXXXXXX\n",
    "x = np.random.rand(3,3)\n",
    "print(x)\n",
    "x > 0.5"
   ]
  },
  {
   "cell_type": "code",
   "execution_count": null,
   "metadata": {},
   "outputs": [],
   "source": [
    "# COMMENTAIRE : XXXXXXXXXXXXXXX\n",
    "np.where(x > 0.5)"
   ]
  },
  {
   "cell_type": "code",
   "execution_count": null,
   "metadata": {},
   "outputs": [],
   "source": [
    "# Très souvent, face à de larges quantités de données, la première chose à faire est de calculer \n",
    "# des statistiques sur nos données, comme la moyenne ou l'écart type. \n",
    "# Numpy a des fonctions pour calculer ces données sur ses tableaux.\n",
    "\n",
    "# COMMENTAIRE :  XXXXXXXXXXXXXXX\n",
    "%timeit sum(tableau_large)\n",
    "%timeit np.sum(tableau_large)"
   ]
  },
  {
   "cell_type": "code",
   "execution_count": null,
   "metadata": {},
   "outputs": [],
   "source": [
    "M = np.random.random((3, 4))\n",
    "print(M)\n",
    "# Notez la syntax variable.fonction au lieu de # np.fonction(variable). \n",
    "# Les deux sont possibles si la variable est un tableau Numpy.\n",
    "\n",
    "# COMMENTAIRE : XXXXXXXXXXXXXXX\n",
    "print(\"La somme de tous les éléments de M: \", M.sum())\n",
    "print(\"Les sommes des colonnes de M: \", M.sum(axis=0))"
   ]
  },
  {
   "cell_type": "code",
   "execution_count": null,
   "metadata": {},
   "outputs": [],
   "source": [
    "#Parmi les nombreuses fonctions disponibles, notons :\n",
    "#  np.std  pour calculer l'écart type\n",
    "#  np.argmin  pour trouver l'index de l'élément minimum\n",
    "#  np.percentile  pour calculer des statistiques sur les éléments."
   ]
  },
  {
   "cell_type": "code",
   "execution_count": null,
   "metadata": {},
   "outputs": [],
   "source": [
    "# Le broadcasting désigne un ensemble de règles pour appliquer une opération qui normalement ne s'applique \n",
    "# que sur une seule valeur à l'ensemble des membres d'un tableau Numpy. \n",
    "\n",
    "# COMMENTAIRE : XXXXXXXXXXXXXXX\n",
    "a = np.array([0, 1, 2])\n",
    "b = np.array([5, 5, 5])\n",
    "a + b\n"
   ]
  },
  {
   "cell_type": "code",
   "execution_count": null,
   "metadata": {},
   "outputs": [],
   "source": [
    "# COMMENTAIRE : XXXXXXXXXXXXXXX\n",
    "a + 5"
   ]
  },
  {
   "cell_type": "code",
   "execution_count": null,
   "metadata": {},
   "outputs": [],
   "source": [
    "# COMMENTAIRE : XXXXXXXXXXXXXXX\n",
    "M = np.ones((3, 3))\n",
    "print(\"M vaut: \\n\", M)\n",
    "print(\"M+a vaut: \\n\", M+a)"
   ]
  },
  {
   "cell_type": "code",
   "execution_count": null,
   "metadata": {},
   "outputs": [],
   "source": [
    "a = np.arange(3)\n",
    "# COMMENTAIRE : XXXXXXXXXXXXXXX\n",
    "b = np.arange(3)[:, np.newaxis]"
   ]
  },
  {
   "cell_type": "code",
   "execution_count": null,
   "metadata": {},
   "outputs": [],
   "source": [
    "print(a)\n",
    "print(b)\n",
    "a+b"
   ]
  }
 ],
 "metadata": {
  "kernelspec": {
   "display_name": "Python 3",
   "language": "python",
   "name": "python3"
  },
  "language_info": {
   "codemirror_mode": {
    "name": "ipython",
    "version": 3
   },
   "file_extension": ".py",
   "mimetype": "text/x-python",
   "name": "python",
   "nbconvert_exporter": "python",
   "pygments_lexer": "ipython3",
   "version": "3.7.0"
  }
 },
 "nbformat": 4,
 "nbformat_minor": 2
}
