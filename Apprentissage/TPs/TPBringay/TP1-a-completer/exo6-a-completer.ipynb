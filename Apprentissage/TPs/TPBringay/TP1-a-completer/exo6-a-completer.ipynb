{
 "cells": [
  {
   "cell_type": "code",
   "execution_count": 42,
   "metadata": {},
   "outputs": [],
   "source": [
    "# Dans cet exercice, nous allons explorer les opérations ensemblistes que nous pouvons appliquer \n",
    "# sur les dataframes\n",
    "# - La projection et la restriction\n",
    "# - Les opérations ensemblistes (union, différence, intersection)\n",
    "# - Le produit cartésien\n",
    "# - Les jointures\n",
    "# - L'agrégation"
   ]
  },
  {
   "cell_type": "code",
   "execution_count": 43,
   "metadata": {},
   "outputs": [
    {
     "data": {
      "text/html": [
       "<div>\n",
       "<style scoped>\n",
       "    .dataframe tbody tr th:only-of-type {\n",
       "        vertical-align: middle;\n",
       "    }\n",
       "\n",
       "    .dataframe tbody tr th {\n",
       "        vertical-align: top;\n",
       "    }\n",
       "\n",
       "    .dataframe thead th {\n",
       "        text-align: right;\n",
       "    }\n",
       "</style>\n",
       "<table border=\"1\" class=\"dataframe\">\n",
       "  <thead>\n",
       "    <tr style=\"text-align: right;\">\n",
       "      <th></th>\n",
       "      <th>Unnamed: 0</th>\n",
       "      <th>population</th>\n",
       "      <th>area</th>\n",
       "    </tr>\n",
       "  </thead>\n",
       "  <tbody>\n",
       "    <tr>\n",
       "      <th>0</th>\n",
       "      <td>California</td>\n",
       "      <td>38332521</td>\n",
       "      <td>423967</td>\n",
       "    </tr>\n",
       "    <tr>\n",
       "      <th>1</th>\n",
       "      <td>Texas</td>\n",
       "      <td>26448193</td>\n",
       "      <td>695662</td>\n",
       "    </tr>\n",
       "    <tr>\n",
       "      <th>2</th>\n",
       "      <td>New York</td>\n",
       "      <td>19651127</td>\n",
       "      <td>141297</td>\n",
       "    </tr>\n",
       "    <tr>\n",
       "      <th>3</th>\n",
       "      <td>Florida</td>\n",
       "      <td>19552860</td>\n",
       "      <td>170312</td>\n",
       "    </tr>\n",
       "    <tr>\n",
       "      <th>4</th>\n",
       "      <td>Illinois</td>\n",
       "      <td>12882135</td>\n",
       "      <td>149995</td>\n",
       "    </tr>\n",
       "  </tbody>\n",
       "</table>\n",
       "</div>"
      ],
      "text/plain": [
       "   Unnamed: 0  population    area\n",
       "0  California    38332521  423967\n",
       "1       Texas    26448193  695662\n",
       "2    New York    19651127  141297\n",
       "3     Florida    19552860  170312\n",
       "4    Illinois    12882135  149995"
      ]
     },
     "execution_count": 43,
     "metadata": {},
     "output_type": "execute_result"
    }
   ],
   "source": [
    "# QUESTION : Importer le fichier pays.csv\n",
    "# REPONSE : \n"
   ]
  },
  {
   "cell_type": "code",
   "execution_count": 44,
   "metadata": {},
   "outputs": [
    {
     "name": "stdout",
     "output_type": "stream",
     "text": [
      "   Unnamed: 0  population    area\n",
      "0  California    38332521  423967\n",
      "1       Texas    26448193  695662\n",
      "2    New York    19651127  141297\n",
      "3     Florida    19552860  170312\n",
      "4    Illinois    12882135  149995\n"
     ]
    },
    {
     "data": {
      "text/plain": [
       "0    423967\n",
       "1    695662\n",
       "2    141297\n",
       "3    170312\n",
       "4    149995\n",
       "Name: area, dtype: int64"
      ]
     },
     "execution_count": 44,
     "metadata": {},
     "output_type": "execute_result"
    }
   ],
   "source": [
    "# La projection et la restriction\n",
    "# ------------------------------------------------------\n",
    "# Commençons par 2 opérations de l'algèbre relationnelle : \n",
    "# - la projection est une sélection de certaines colonnes, \n",
    "# - la restriction est une sélection de certaines lignes.\n",
    "\n",
    "print(data)\n",
    "\n",
    "# QUESTION : faire une projection sur la colonne area\n",
    "# REPONSE\n"
   ]
  },
  {
   "cell_type": "code",
   "execution_count": 45,
   "metadata": {},
   "outputs": [
    {
     "name": "stdout",
     "output_type": "stream",
     "text": [
      "Unnamed: 0       Texas\n",
      "population    26448193\n",
      "area            695662\n",
      "Name: 1, dtype: object\n"
     ]
    }
   ],
   "source": [
    "# QUESTION : faire une restriction sur la ligne =1\n",
    "# REPONSE\n"
   ]
  },
  {
   "cell_type": "code",
   "execution_count": 46,
   "metadata": {},
   "outputs": [
    {
     "data": {
      "text/html": [
       "<div>\n",
       "<style scoped>\n",
       "    .dataframe tbody tr th:only-of-type {\n",
       "        vertical-align: middle;\n",
       "    }\n",
       "\n",
       "    .dataframe tbody tr th {\n",
       "        vertical-align: top;\n",
       "    }\n",
       "\n",
       "    .dataframe thead th {\n",
       "        text-align: right;\n",
       "    }\n",
       "</style>\n",
       "<table border=\"1\" class=\"dataframe\">\n",
       "  <thead>\n",
       "    <tr style=\"text-align: right;\">\n",
       "      <th></th>\n",
       "      <th>Unnamed: 0</th>\n",
       "      <th>population</th>\n",
       "      <th>area</th>\n",
       "    </tr>\n",
       "  </thead>\n",
       "  <tbody>\n",
       "    <tr>\n",
       "      <th>0</th>\n",
       "      <td>California</td>\n",
       "      <td>38332521</td>\n",
       "      <td>423967</td>\n",
       "    </tr>\n",
       "    <tr>\n",
       "      <th>1</th>\n",
       "      <td>Texas</td>\n",
       "      <td>26448193</td>\n",
       "      <td>695662</td>\n",
       "    </tr>\n",
       "    <tr>\n",
       "      <th>2</th>\n",
       "      <td>New York</td>\n",
       "      <td>19651127</td>\n",
       "      <td>141297</td>\n",
       "    </tr>\n",
       "    <tr>\n",
       "      <th>3</th>\n",
       "      <td>Florida</td>\n",
       "      <td>19552860</td>\n",
       "      <td>170312</td>\n",
       "    </tr>\n",
       "    <tr>\n",
       "      <th>4</th>\n",
       "      <td>Illinois</td>\n",
       "      <td>12882135</td>\n",
       "      <td>149995</td>\n",
       "    </tr>\n",
       "    <tr>\n",
       "      <th>0</th>\n",
       "      <td>Pennsylvanie</td>\n",
       "      <td>12281054</td>\n",
       "      <td>119283</td>\n",
       "    </tr>\n",
       "    <tr>\n",
       "      <th>1</th>\n",
       "      <td>Géorgie</td>\n",
       "      <td>8186453</td>\n",
       "      <td>149976</td>\n",
       "    </tr>\n",
       "  </tbody>\n",
       "</table>\n",
       "</div>"
      ],
      "text/plain": [
       "     Unnamed: 0  population    area\n",
       "0    California    38332521  423967\n",
       "1         Texas    26448193  695662\n",
       "2      New York    19651127  141297\n",
       "3       Florida    19552860  170312\n",
       "4      Illinois    12882135  149995\n",
       "0  Pennsylvanie    12281054  119283\n",
       "1       Géorgie     8186453  149976"
      ]
     },
     "execution_count": 46,
     "metadata": {},
     "output_type": "execute_result"
    }
   ],
   "source": [
    "# L'union\n",
    "# ------------------------------------------------------\n",
    "# L'union se fait grâce à la fonction pd.concat\n",
    "# Unir deux tableaux, c'est créer un troisième tableau qui contient toutes les lignes du premier et du second.\n",
    "\n",
    "# QUESTION : Importer le fichier pays2 et le concaténer avec pays1\n",
    "# REPONSE :\n",
    "\n",
    "# QUESTION : que pensez vous des indices ?\n",
    "# REPONSE :"
   ]
  },
  {
   "cell_type": "code",
   "execution_count": 47,
   "metadata": {},
   "outputs": [
    {
     "data": {
      "text/html": [
       "<div>\n",
       "<style scoped>\n",
       "    .dataframe tbody tr th:only-of-type {\n",
       "        vertical-align: middle;\n",
       "    }\n",
       "\n",
       "    .dataframe tbody tr th {\n",
       "        vertical-align: top;\n",
       "    }\n",
       "\n",
       "    .dataframe thead th {\n",
       "        text-align: right;\n",
       "    }\n",
       "</style>\n",
       "<table border=\"1\" class=\"dataframe\">\n",
       "  <thead>\n",
       "    <tr style=\"text-align: right;\">\n",
       "      <th></th>\n",
       "      <th>employee</th>\n",
       "      <th>date</th>\n",
       "    </tr>\n",
       "  </thead>\n",
       "  <tbody>\n",
       "    <tr>\n",
       "      <th>0</th>\n",
       "      <td>Lisa</td>\n",
       "      <td>2004</td>\n",
       "    </tr>\n",
       "    <tr>\n",
       "      <th>1</th>\n",
       "      <td>Bob</td>\n",
       "      <td>2008</td>\n",
       "    </tr>\n",
       "    <tr>\n",
       "      <th>2</th>\n",
       "      <td>Jake</td>\n",
       "      <td>2012</td>\n",
       "    </tr>\n",
       "    <tr>\n",
       "      <th>3</th>\n",
       "      <td>Sue</td>\n",
       "      <td>2014</td>\n",
       "    </tr>\n",
       "  </tbody>\n",
       "</table>\n",
       "</div>"
      ],
      "text/plain": [
       "  employee  date\n",
       "0     Lisa  2004\n",
       "1      Bob  2008\n",
       "2     Jake  2012\n",
       "3      Sue  2014"
      ]
     },
     "execution_count": 47,
     "metadata": {},
     "output_type": "execute_result"
    }
   ],
   "source": [
    "# La jointure\n",
    "# ------------------------------------------------------\n",
    "\n",
    "# Une autre fonction très utile pour manipuler les Dataframe est  pd.merge qui effectue une jointure.\n",
    "# Une jointure, c'est assembler les informations d'un tableau A avec celles d'un tableau B selon un  critère. \n",
    "# Ce critère s'appelle la condition de jointure. \n",
    "# Ce critère est composée de une ou plusieurs colonnes communes à A et B \n",
    "\n",
    "# Un petit exemple. Imaginons que nous disposons de deux Dataframes :\n",
    "# df1  contenant une liste d'employés et le nom des départements dans lequel ils travaillent,\n",
    "# df2  contenant la même liste d'employés et leurs dates d'entrée dans l'entreprise.\n",
    "\n",
    "# La fonction  pd.merge  nous permet de transformer ces deux Dataframes en un seul, contenant les deux informations.\n",
    "df1 = pd.DataFrame({'employee': ['Bob', 'Jake', 'Lisa', 'Sue'],\n",
    "                    'department': ['Accounting', 'Engineering', 'Engineering', 'HR']})\n",
    "df2 = pd.DataFrame({'employee': ['Lisa', 'Bob', 'Jake', 'Sue'],\n",
    "                    'date': [2004, 2008, 2012, 2014]})\n",
    "df3 = pd.merge(df1, df2)\n",
    "df2"
   ]
  },
  {
   "cell_type": "code",
   "execution_count": 48,
   "metadata": {},
   "outputs": [],
   "source": [
    "# La fonction  pd.merge  a automatiquement reconnu que la colonne employee était commune aux deux Dataframes, \n",
    "# et l'a utilisée comme condition de jointure.\n",
    "# Mais si ces 2 colonnes avaient eu des noms différents (par exemple employee sur df1 et emp_name sur df2), \n",
    "# alors il aurait fallu écrire ceci : df3 = pd.merge(df1, df2, left_on= \"employee\", right_on= \"emp_name\")"
   ]
  },
  {
   "cell_type": "code",
   "execution_count": 49,
   "metadata": {},
   "outputs": [],
   "source": [
    "# La cardinalité\n",
    "\n",
    "# Il y a 3 cardinalités différentes :\n",
    "# - Un-à-un  : une ligne  du tableau A correspond à une unique ligne du tableau B \n",
    "# et une ligne de B correspond à une unique ligne du tableau A.\n",
    "# - Un-à-plusieurs :  une ligne quelconque de A correspond à une ligne de B, \n",
    "# mais une ligne de B peut correspondre à plusieurs lignes de A.\n",
    "# - Plusieurs-à-plusieurs (many-to-many) :  une ligne de A peut correspondre à plusieurs lignes de B, \n",
    "# et une ligne de B peut correspondre à plusieurs lignes de A.\n",
    "\n",
    "# Selon la cardinalité, le comportement de la jointure ne sera pas le même\n"
   ]
  },
  {
   "cell_type": "code",
   "execution_count": 50,
   "metadata": {},
   "outputs": [],
   "source": [
    "# Cardinalité un-à-un\n",
    "# L'exemple que nous avons pris tout à l'heure correspond à une cardinalité un-à-un. \n",
    "# En effet, un employé ne travaille que dans un seul département, et n'a qu'une seule année d'embauche."
   ]
  },
  {
   "cell_type": "code",
   "execution_count": 51,
   "metadata": {},
   "outputs": [
    {
     "data": {
      "text/html": [
       "<div>\n",
       "<style scoped>\n",
       "    .dataframe tbody tr th:only-of-type {\n",
       "        vertical-align: middle;\n",
       "    }\n",
       "\n",
       "    .dataframe tbody tr th {\n",
       "        vertical-align: top;\n",
       "    }\n",
       "\n",
       "    .dataframe thead th {\n",
       "        text-align: right;\n",
       "    }\n",
       "</style>\n",
       "<table border=\"1\" class=\"dataframe\">\n",
       "  <thead>\n",
       "    <tr style=\"text-align: right;\">\n",
       "      <th></th>\n",
       "      <th>employee</th>\n",
       "      <th>department</th>\n",
       "      <th>date</th>\n",
       "      <th>supervisor</th>\n",
       "    </tr>\n",
       "  </thead>\n",
       "  <tbody>\n",
       "    <tr>\n",
       "      <th>0</th>\n",
       "      <td>Bob</td>\n",
       "      <td>Accounting</td>\n",
       "      <td>2008</td>\n",
       "      <td>Carly</td>\n",
       "    </tr>\n",
       "    <tr>\n",
       "      <th>1</th>\n",
       "      <td>Jake</td>\n",
       "      <td>Engineering</td>\n",
       "      <td>2012</td>\n",
       "      <td>Guido</td>\n",
       "    </tr>\n",
       "    <tr>\n",
       "      <th>2</th>\n",
       "      <td>Lisa</td>\n",
       "      <td>Engineering</td>\n",
       "      <td>2004</td>\n",
       "      <td>Guido</td>\n",
       "    </tr>\n",
       "    <tr>\n",
       "      <th>3</th>\n",
       "      <td>Sue</td>\n",
       "      <td>HR</td>\n",
       "      <td>2014</td>\n",
       "      <td>Steve</td>\n",
       "    </tr>\n",
       "  </tbody>\n",
       "</table>\n",
       "</div>"
      ],
      "text/plain": [
       "  employee   department  date supervisor\n",
       "0      Bob   Accounting  2008      Carly\n",
       "1     Jake  Engineering  2012      Guido\n",
       "2     Lisa  Engineering  2004      Guido\n",
       "3      Sue           HR  2014      Steve"
      ]
     },
     "execution_count": 51,
     "metadata": {},
     "output_type": "execute_result"
    }
   ],
   "source": [
    "# Cardinalité un-à-plusieurs (ou plusieurs-à-un)\n",
    "# Chaque département a désormais un un chef. \n",
    "# Un employé n'a qu'un seul chef, mais un chef peut diriger plusieurs empoyés.\n",
    "\n",
    "df4 = pd.DataFrame({'department': ['Accounting', 'Engineering', 'HR'],\n",
    "                    'supervisor': ['Carly', 'Guido', 'Steve']})\n",
    "pd.merge(df3, df4)\n",
    "\n",
    "# QUESTION : Que remarquez vous dans la colonne supervisor ?\n",
    "# REPONSE : "
   ]
  },
  {
   "cell_type": "code",
   "execution_count": 52,
   "metadata": {},
   "outputs": [
    {
     "data": {
      "text/html": [
       "<div>\n",
       "<style scoped>\n",
       "    .dataframe tbody tr th:only-of-type {\n",
       "        vertical-align: middle;\n",
       "    }\n",
       "\n",
       "    .dataframe tbody tr th {\n",
       "        vertical-align: top;\n",
       "    }\n",
       "\n",
       "    .dataframe thead th {\n",
       "        text-align: right;\n",
       "    }\n",
       "</style>\n",
       "<table border=\"1\" class=\"dataframe\">\n",
       "  <thead>\n",
       "    <tr style=\"text-align: right;\">\n",
       "      <th></th>\n",
       "      <th>employee</th>\n",
       "      <th>department</th>\n",
       "      <th>competence</th>\n",
       "    </tr>\n",
       "  </thead>\n",
       "  <tbody>\n",
       "    <tr>\n",
       "      <th>0</th>\n",
       "      <td>Bob</td>\n",
       "      <td>Accounting</td>\n",
       "      <td>math</td>\n",
       "    </tr>\n",
       "    <tr>\n",
       "      <th>1</th>\n",
       "      <td>Bob</td>\n",
       "      <td>Accounting</td>\n",
       "      <td>spreadsheets</td>\n",
       "    </tr>\n",
       "    <tr>\n",
       "      <th>2</th>\n",
       "      <td>Jake</td>\n",
       "      <td>Engineering</td>\n",
       "      <td>coding</td>\n",
       "    </tr>\n",
       "    <tr>\n",
       "      <th>3</th>\n",
       "      <td>Jake</td>\n",
       "      <td>Engineering</td>\n",
       "      <td>linux</td>\n",
       "    </tr>\n",
       "    <tr>\n",
       "      <th>4</th>\n",
       "      <td>Lisa</td>\n",
       "      <td>Engineering</td>\n",
       "      <td>coding</td>\n",
       "    </tr>\n",
       "    <tr>\n",
       "      <th>5</th>\n",
       "      <td>Lisa</td>\n",
       "      <td>Engineering</td>\n",
       "      <td>linux</td>\n",
       "    </tr>\n",
       "    <tr>\n",
       "      <th>6</th>\n",
       "      <td>Sue</td>\n",
       "      <td>HR</td>\n",
       "      <td>spreadsheets</td>\n",
       "    </tr>\n",
       "    <tr>\n",
       "      <th>7</th>\n",
       "      <td>Sue</td>\n",
       "      <td>HR</td>\n",
       "      <td>organization</td>\n",
       "    </tr>\n",
       "  </tbody>\n",
       "</table>\n",
       "</div>"
      ],
      "text/plain": [
       "  employee   department    competence\n",
       "0      Bob   Accounting          math\n",
       "1      Bob   Accounting  spreadsheets\n",
       "2     Jake  Engineering        coding\n",
       "3     Jake  Engineering         linux\n",
       "4     Lisa  Engineering        coding\n",
       "5     Lisa  Engineering         linux\n",
       "6      Sue           HR  spreadsheets\n",
       "7      Sue           HR  organization"
      ]
     },
     "execution_count": 52,
     "metadata": {},
     "output_type": "execute_result"
    }
   ],
   "source": [
    "# Cardinalité plusieurs-à-plusieurs\n",
    "# df5 contient les compétences nécessaires pour travailler dans chaque département :\n",
    "# Un employé a besoin de plusieurs compétences, et une compétence peut être partagée par plusieurs employés.\n",
    "\n",
    "df5 = pd.DataFrame({'department': ['Accounting', 'Accounting',\n",
    "                              'Engineering', 'Engineering', 'HR', 'HR'],\n",
    "                    'competence': ['math', 'spreadsheets', 'coding', 'linux',\n",
    "                               'spreadsheets', 'organization']})\n",
    "\n",
    "pd.merge(df1, df5)\n",
    "\n",
    "# QUESTION : Comment interprétez vous les nouvelles lignes.\n",
    "# REPONSE : \n"
   ]
  },
  {
   "cell_type": "code",
   "execution_count": 53,
   "metadata": {},
   "outputs": [
    {
     "name": "stdout",
     "output_type": "stream",
     "text": [
      "  key  data1  data2\n",
      "0   A      0     10\n",
      "1   B      1     11\n",
      "2   C      2     10\n",
      "3   A      3      9\n",
      "4   B      4     10\n",
      "5   C      5     10\n"
     ]
    }
   ],
   "source": [
    "# L'agrégation\n",
    "# ------------------------------------------------------\n",
    "# Pandas nous permet d'accomplir une agrégation par groupe, semblable à ce qu'on peut obtenir \n",
    "# en utilisant le mot clé  GROUP BY en SQL.\n",
    "df = pd.DataFrame({'key': ['A', 'B', 'C', 'A', 'B', 'C'],\n",
    "                   'data1': range(6),\n",
    "                   'data2': [10,11,10,9,10,10]})                  \n",
    "print(df)"
   ]
  },
  {
   "cell_type": "code",
   "execution_count": 54,
   "metadata": {},
   "outputs": [],
   "source": [
    "# Dans Pandas, cette opération se fait en deux étapes. \n",
    "# Nous allons d'abord créer un objet de type  DataFrameGroupBy  , que nous appelons  gb  :\n",
    "\n",
    "gb = df.groupby('key')\n",
    "# La (les) colonne(s) données dans groupby s'appelle(nt) l' (les) attribut(s) de partitionnement."
   ]
  },
  {
   "cell_type": "code",
   "execution_count": 55,
   "metadata": {},
   "outputs": [
    {
     "name": "stdout",
     "output_type": "stream",
     "text": [
      "     data1  data2\n",
      "key              \n",
      "A        3     19\n",
      "B        5     21\n",
      "C        7     20\n",
      "     data1  data2\n",
      "key              \n",
      "A      1.5    9.5\n",
      "B      2.5   10.5\n",
      "C      3.5   10.0\n"
     ]
    }
   ],
   "source": [
    "# Sur cet objet gb, on peut ensuite appliquer les fonctions d'agrégation :\n",
    "\n",
    "print(gb.sum())\n",
    "print(gb.mean())"
   ]
  },
  {
   "cell_type": "code",
   "execution_count": null,
   "metadata": {},
   "outputs": [],
   "source": []
  }
 ],
 "metadata": {
  "kernelspec": {
   "display_name": "Python 3",
   "language": "python",
   "name": "python3"
  },
  "language_info": {
   "codemirror_mode": {
    "name": "ipython",
    "version": 3
   },
   "file_extension": ".py",
   "mimetype": "text/x-python",
   "name": "python",
   "nbconvert_exporter": "python",
   "pygments_lexer": "ipython3",
   "version": "3.7.0"
  }
 },
 "nbformat": 4,
 "nbformat_minor": 2
}
