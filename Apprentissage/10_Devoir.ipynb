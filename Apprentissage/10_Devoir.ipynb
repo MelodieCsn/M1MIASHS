{
 "cells": [
  {
   "cell_type": "markdown",
   "metadata": {},
   "source": [
    "# Introduction\n",
    "\n",
    "Ce devoir est à rendre avant le 25/10 23h59.\n",
    "\n",
    "Il peut être fait par groupe de 2 maximum ou seul.\n",
    "\n",
    "Toute ressource peut être utilisée mais doit nécessairement être adaptée.\n",
    "\n",
    "L'exercice est avant tout un exercice créatif:\n",
    "    - Soyez imaginatifs dans la construction des indicateurs, modèles, fonctions de coût...\n",
    "    - N'hésitez pas à illustrer votre démarche par des plots\n",
    "    - Commentez votre démarche\n",
    "\n",
    "Notation:\n",
    "Cet exercice ne dispose pas d'un barême clairement défini, la notation se fera donc par classement des devoirs les uns par rapport aux autres par rapport à:\n",
    "    * clareté des propos\n",
    "    * Démarche data science d'exploration du jeu de données\n",
    "    * Raisonnement\n",
    "    * Choix de indicateurs et modèles\n",
    "    * Performances des modèles\n",
    "    * Pertinence de l'interprétation\n",
    "    * Perspectives\n",
    "    \n",
    "La notation se décomposera en 3 grandes parties : \n",
    "\n",
    " * Exploration/visualisation des données\n",
    " * Performance prédictive du modèle et démarche data science\n",
    " * Justification des choix et clareté des propos\n",
    "   \n",
    "\n",
    "/!\\ Notebook Non recevable si:\n",
    "    * Le notebook est allègrement copié sur un autre notebook du web ou d'un autre groupe\n",
    "    * Le notebook ne s'execute pas sans erreurs jusqu'au bout en faisant un restart & run all! Donc pensez à vérifier avant de l'envoyer."
   ]
  },
  {
   "cell_type": "markdown",
   "metadata": {},
   "source": [
    "# Objectif\n",
    "\n",
    "Prédire si la personne a un revenu annuel supérieur à 50K.\n",
    "\n",
    "Mettre en place une démarche Datascience rigoureuse pour répondre à la question"
   ]
  },
  {
   "cell_type": "markdown",
   "metadata": {},
   "source": [
    "# Imports"
   ]
  },
  {
   "cell_type": "code",
   "execution_count": null,
   "metadata": {},
   "outputs": [],
   "source": [
    "# importer ici les librairies dont vous aurez besoin"
   ]
  },
  {
   "cell_type": "markdown",
   "metadata": {},
   "source": [
    "# Description des variables du jeu de données"
   ]
  },
  {
   "cell_type": "markdown",
   "metadata": {},
   "source": [
    "Description des données : \n",
    "\n",
    "- age : Age des personnes\n",
    "- education : Niveau d'éducation\n",
    "- education-num : niveau d'éducation avec les correspondances suivantes\n",
    "    - 1\tPreschool\n",
    "    - 2\t1st-4th\n",
    "    - 3\t5th-6th\n",
    "    - 4\t7th-8th\n",
    "    - 5\t9th\n",
    "    - 6\t10th\n",
    "    - 7\t11th\n",
    "    - 8\t12th\n",
    "    - 9\tHS-grad\n",
    "    - 10\tSome-college\n",
    "    - 11\tAssoc-voc\n",
    "    - 12\tAssoc-acdm\n",
    "    - 13\tBachelors\n",
    "    - 14\tMasters\n",
    "    - 15\tProf-school\n",
    "    - 16\tDoctorate\n",
    "- marital-status : situation maritale\n",
    "- occupation : Domaine d'activité\n",
    "- race : Origine éthnique\n",
    "- sex : Sexe de la personne\n",
    "- hours-per-week : Nombre d'heures travaillées par semaine\n",
    "- native-country : Pays d'origine\n",
    "- work-in-private : Travaille dans le privé ou non (1: oui, 2: non)"
   ]
  },
  {
   "cell_type": "markdown",
   "metadata": {},
   "source": [
    "# Chargement du jeu de données"
   ]
  },
  {
   "cell_type": "code",
   "execution_count": null,
   "metadata": {},
   "outputs": [],
   "source": [
    "# Charger le fichier csv dans data/data_devoir.csv"
   ]
  },
  {
   "cell_type": "markdown",
   "metadata": {},
   "source": [
    "# Exploration du jeu de données"
   ]
  },
  {
   "cell_type": "code",
   "execution_count": null,
   "metadata": {},
   "outputs": [],
   "source": [
    "# trouver les particularités des données, visualiser, voir la qualité des données..."
   ]
  },
  {
   "cell_type": "markdown",
   "metadata": {},
   "source": [
    "# Construction des indicateurs"
   ]
  },
  {
   "cell_type": "code",
   "execution_count": null,
   "metadata": {},
   "outputs": [],
   "source": [
    "# construction des indicateurs qui seront donnés au modèle pour l'apprentissage"
   ]
  },
  {
   "cell_type": "markdown",
   "metadata": {},
   "source": [
    "# Construction du modèle"
   ]
  },
  {
   "cell_type": "markdown",
   "metadata": {},
   "source": [
    "## Selection du modèle"
   ]
  },
  {
   "cell_type": "code",
   "execution_count": null,
   "metadata": {},
   "outputs": [],
   "source": [
    "# Partie de construction et d'apprentissage du modèle\n",
    "# choix des paramètres\n",
    "# éviter le surapprentissage, favoriser la généralisation du modèle"
   ]
  },
  {
   "cell_type": "markdown",
   "metadata": {},
   "source": [
    "## Validation"
   ]
  },
  {
   "cell_type": "code",
   "execution_count": null,
   "metadata": {},
   "outputs": [],
   "source": [
    "# choix des mesures de validation du modèle à justifier"
   ]
  },
  {
   "cell_type": "markdown",
   "metadata": {},
   "source": [
    "## Interprétation des résultats"
   ]
  },
  {
   "cell_type": "code",
   "execution_count": null,
   "metadata": {},
   "outputs": [],
   "source": [
    "# Interprétation des résultats, comparaison des différents modèles\n",
    "# Variables explicatives ? (Quelles sont les variables qui influencent le plus ma prédiction ? Est-ce qu'elles influencent positivement ? négativement ?)"
   ]
  },
  {
   "cell_type": "markdown",
   "metadata": {},
   "source": [
    "# Perspectives"
   ]
  },
  {
   "cell_type": "code",
   "execution_count": null,
   "metadata": {},
   "outputs": [],
   "source": [
    "# Quelles nouvelles analyses pourraient être faites?, quels modèles, indicateurs, pistes d'améliorations...?"
   ]
  }
 ],
 "metadata": {
  "kernelspec": {
   "display_name": "Python 3",
   "language": "python",
   "name": "python3"
  },
  "language_info": {
   "codemirror_mode": {
    "name": "ipython",
    "version": 3
   },
   "file_extension": ".py",
   "mimetype": "text/x-python",
   "name": "python",
   "nbconvert_exporter": "python",
   "pygments_lexer": "ipython3",
   "version": "3.7.9"
  },
  "toc": {
   "base_numbering": 1,
   "nav_menu": {},
   "number_sections": true,
   "sideBar": true,
   "skip_h1_title": false,
   "title_cell": "Table of Contents",
   "title_sidebar": "Contents",
   "toc_cell": false,
   "toc_position": {},
   "toc_section_display": true,
   "toc_window_display": false
  },
  "varInspector": {
   "cols": {
    "lenName": 16,
    "lenType": 16,
    "lenVar": 40
   },
   "kernels_config": {
    "python": {
     "delete_cmd_postfix": "",
     "delete_cmd_prefix": "del ",
     "library": "var_list.py",
     "varRefreshCmd": "print(var_dic_list())"
    },
    "r": {
     "delete_cmd_postfix": ") ",
     "delete_cmd_prefix": "rm(",
     "library": "var_list.r",
     "varRefreshCmd": "cat(var_dic_list()) "
    }
   },
   "types_to_exclude": [
    "module",
    "function",
    "builtin_function_or_method",
    "instance",
    "_Feature"
   ],
   "window_display": false
  }
 },
 "nbformat": 4,
 "nbformat_minor": 2
}
