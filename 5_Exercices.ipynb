{
 "cells": [
  {
   "cell_type": "markdown",
   "metadata": {},
   "source": [
    "**Exercice :**\n",
    "1. Écrivez une fonction qui calcule la somme des éléments d'une liste **(pensez à documenter vos fonctions)** (Pensez à la consigne du cours d'utilisation du for et du while ; une seule de ces structures doit être utilisée ici)\n",
    "2. Testez votre fonction au moins sur les exemples suivants :\n",
    " * [  ] la liste vide\n",
    " * [3, 5, 2, -3] un exemple quelconque (mais dont le résultat peut être anticipé)\n",
    " * [3, \"rouge\", 1]\n",
    " * [3.5, 1.2, 2.3] un exemple avec des nombres flottants\n",
    "3. Placez votre fonction dans un fichier Python avec des instructions permettant de la tester (ces instructions ne seront pas exécutables lors d'un import). Testez un import de ce fichier et testez l'exécution de ce fichier.\n",
    "4. Il existe une fonction `sum` en Python. Testez-la (même si son usage n'est pas autorisée à l'examen, elle pourra vous être utile ultérieurement).\n",
    "\n",
    "**Remarque** Pour en savoir plus sur les listes, vous pouvez consulter la doc Python officielle : https://docs.python.org/3/tutorial/datastructures.html. Pour en savoir plus sur la fonction `sum` :\n",
    "https://docs.python.org/3.7/library/functions.html"
   ]
  },
  {
   "cell_type": "code",
   "execution_count": 17,
   "metadata": {},
   "outputs": [],
   "source": [
    "#On suppose que la liste ne contient que des entiers, des flottants ou la liste vide\n",
    "def sommeListe (li) :        \n",
    "    res=0\n",
    "    if li == []:\n",
    "        res = 0\n",
    "    else:\n",
    "        for i in range(0,len(li),1):\n",
    "            res= res +li[i]\n",
    "    return res"
   ]
  },
  {
   "cell_type": "code",
   "execution_count": 20,
   "metadata": {},
   "outputs": [
    {
     "data": {
      "text/plain": [
       "7.0"
      ]
     },
     "execution_count": 20,
     "metadata": {},
     "output_type": "execute_result"
    }
   ],
   "source": [
    "sommeListe ([3.5,1.2,2.3])"
   ]
  },
  {
   "cell_type": "markdown",
   "metadata": {},
   "source": [
    "**Exercice :**\n",
    "Ecrire un fonction permettant de vérifier que la somme des n premiers entiers impairs vaut n^2 pour tous les entiers n entre 0 et une valeur donnée en paramètre de la fonction.\n",
    "\n",
    "*Vous utiliserez la démarche suivante*: \n",
    "* Construisez une liste des n premiers entiers impairs (rappel : dans le cadre du cours, vous n'avez pas le droit d'utiliser le mécanisme de construction d'une liste par compréhension. Cela étant, rien ne vous empêche de vous demander comment il aurait pu être utilisé ici. Cela pourra vous être utile dans d'autre cadre que celui de ce cours).\n",
    "* Puis déduisez la liste des valeurs cumulées (par exemple en partant de [1, 3, 5] vous obtiendrez [1, 4, 9]).\n",
    "* Puis vérifiez que chaque entrée de cette deuxième liste correspond bien à un carré (la fonction renverra un booléen et s'arrêtera dès que possible - dans le respect des règles du cours).\n",
    "\n",
    "Votre fonction sera ainsi de complexité linéaire. \n",
    "\n",
    "Jusqu'à quelle valeur (à la louche), pouvez-vous tester avant que la réponse ne soit pas immédiate ?"
   ]
  },
  {
   "cell_type": "code",
   "execution_count": 7,
   "metadata": {},
   "outputs": [],
   "source": [
    "def nPremiersImpairs(n):\n",
    "    liImpairs = [1]\n",
    "    liImpairsCarre = [1]\n",
    "    cpt=liImpairsCarre[0]\n",
    "    for i in range(1,n,1):\n",
    "            liImpairs.append(2*i+1)\n",
    "    for i in range (1,n,1):\n",
    "            liImpairsCarre[i].append(cpt+liImpairs[i])\n",
    "            cpt=liImpairsCarre[i]\n",
    "    j=0\n",
    "    res=true\n",
    "    while j<=n and res==True:\n",
    "        if liImpairs[i] != i*i:\n",
    "            res=false\n",
    "        j+=1\n",
    "    return res\n",
    "    \n",
    "    "
   ]
  },
  {
   "cell_type": "code",
   "execution_count": 8,
   "metadata": {},
   "outputs": [
    {
     "ename": "IndexError",
     "evalue": "list index out of range",
     "output_type": "error",
     "traceback": [
      "\u001b[1;31m---------------------------------------------------------------------------\u001b[0m",
      "\u001b[1;31mIndexError\u001b[0m                                Traceback (most recent call last)",
      "\u001b[1;32m<ipython-input-8-46abe476dc3f>\u001b[0m in \u001b[0;36m<module>\u001b[1;34m()\u001b[0m\n\u001b[1;32m----> 1\u001b[1;33m \u001b[0mnPremiersImpairs\u001b[0m\u001b[1;33m(\u001b[0m\u001b[1;36m5\u001b[0m\u001b[1;33m)\u001b[0m\u001b[1;33m\u001b[0m\u001b[0m\n\u001b[0m",
      "\u001b[1;32m<ipython-input-7-6718903aca2c>\u001b[0m in \u001b[0;36mnPremiersImpairs\u001b[1;34m(n)\u001b[0m\n\u001b[0;32m      6\u001b[0m             \u001b[0mliImpairs\u001b[0m\u001b[1;33m.\u001b[0m\u001b[0mappend\u001b[0m\u001b[1;33m(\u001b[0m\u001b[1;36m2\u001b[0m\u001b[1;33m*\u001b[0m\u001b[0mi\u001b[0m\u001b[1;33m+\u001b[0m\u001b[1;36m1\u001b[0m\u001b[1;33m)\u001b[0m\u001b[1;33m\u001b[0m\u001b[0m\n\u001b[0;32m      7\u001b[0m     \u001b[1;32mfor\u001b[0m \u001b[0mi\u001b[0m \u001b[1;32min\u001b[0m \u001b[0mrange\u001b[0m \u001b[1;33m(\u001b[0m\u001b[1;36m1\u001b[0m\u001b[1;33m,\u001b[0m\u001b[0mn\u001b[0m\u001b[1;33m,\u001b[0m\u001b[1;36m1\u001b[0m\u001b[1;33m)\u001b[0m\u001b[1;33m:\u001b[0m\u001b[1;33m\u001b[0m\u001b[0m\n\u001b[1;32m----> 8\u001b[1;33m             \u001b[0mliImpairsCarre\u001b[0m\u001b[1;33m[\u001b[0m\u001b[0mi\u001b[0m\u001b[1;33m]\u001b[0m\u001b[1;33m.\u001b[0m\u001b[0mappend\u001b[0m\u001b[1;33m(\u001b[0m\u001b[0mcpt\u001b[0m\u001b[1;33m+\u001b[0m\u001b[0mliImpairs\u001b[0m\u001b[1;33m[\u001b[0m\u001b[0mi\u001b[0m\u001b[1;33m]\u001b[0m\u001b[1;33m)\u001b[0m\u001b[1;33m\u001b[0m\u001b[0m\n\u001b[0m\u001b[0;32m      9\u001b[0m             \u001b[0mcpt\u001b[0m\u001b[1;33m=\u001b[0m\u001b[0mliImpairsCarre\u001b[0m\u001b[1;33m[\u001b[0m\u001b[0mi\u001b[0m\u001b[1;33m]\u001b[0m\u001b[1;33m\u001b[0m\u001b[0m\n\u001b[0;32m     10\u001b[0m     \u001b[0mj\u001b[0m\u001b[1;33m=\u001b[0m\u001b[1;36m0\u001b[0m\u001b[1;33m\u001b[0m\u001b[0m\n",
      "\u001b[1;31mIndexError\u001b[0m: list index out of range"
     ]
    }
   ],
   "source": [
    "nPremiersImpairs(5)"
   ]
  },
  {
   "cell_type": "markdown",
   "metadata": {},
   "source": [
    "**Exercice** : Écrire une fonction permettant de vérifier qu'une liste est triée. La complexité de cette fonction devra être linéaire."
   ]
  },
  {
   "cell_type": "code",
   "execution_count": 36,
   "metadata": {},
   "outputs": [],
   "source": [
    "def estTriee (L):\n",
    "    elementPrecedent=L[0]\n",
    "    res= True\n",
    "    for element in L:\n",
    "        if elementPrecedent>element :\n",
    "            res = False\n",
    "        elementPrecedent=element   \n",
    "    return res"
   ]
  },
  {
   "cell_type": "code",
   "execution_count": 38,
   "metadata": {},
   "outputs": [
    {
     "data": {
      "text/plain": [
       "False"
      ]
     },
     "execution_count": 38,
     "metadata": {},
     "output_type": "execute_result"
    }
   ],
   "source": [
    "estTriee([1,7,3,4])"
   ]
  },
  {
   "cell_type": "markdown",
   "metadata": {},
   "source": [
    "**Exercice :**\n",
    "1. Écrire une fonction permettant d'insérer un nombre dans une liste de nombres supposée rangée en ordre croissant.\n",
    "2. En utilisant la fonction précédente, écrire une version de l'algorithme de tri par insertion.\n",
    "3. Sauvegardez ces fonctions dans le même module.\n",
    "3. L'objet liste possède une méthode de tri (`sort`). Il existe également une fonction `sorted`. Pourquoi (sauf si le contexte impose un autre algorithme) est-il préférable d'utiliser ces outils plutôt que la fonction de tri conçue précédemment ?"
   ]
  },
  {
   "cell_type": "code",
   "execution_count": 54,
   "metadata": {},
   "outputs": [],
   "source": [
    "def inserer(n,li):\n",
    "    lires=[]\n",
    "    for i in range(0,len(li),1):\n",
    "        if n < li[i]:\n",
    "            lires.append(n)\n",
    "            lires.append(li[i])\n",
    "        else:\n",
    "            lires.append(li[i])\n",
    "    return lires\n",
    "\n",
    "def triParInsertion(liNonTriee):\n",
    "    liTriee = [liNonTriee[0]]\n",
    "    for i in range(1,len(liNonTriee),1):\n",
    "        liTriee.append(inserer(liNonTriee[i],liTriee))\n",
    "    return liTriee\n",
    "    \n",
    "        "
   ]
  },
  {
   "cell_type": "code",
   "execution_count": 55,
   "metadata": {},
   "outputs": [
    {
     "ename": "TypeError",
     "evalue": "'<' not supported between instances of 'int' and 'list'",
     "output_type": "error",
     "traceback": [
      "\u001b[1;31m---------------------------------------------------------------------------\u001b[0m",
      "\u001b[1;31mTypeError\u001b[0m                                 Traceback (most recent call last)",
      "\u001b[1;32m<ipython-input-55-34cf4f45bc9d>\u001b[0m in \u001b[0;36m<module>\u001b[1;34m()\u001b[0m\n\u001b[1;32m----> 1\u001b[1;33m \u001b[0mtriParInsertion\u001b[0m\u001b[1;33m(\u001b[0m\u001b[1;33m[\u001b[0m\u001b[1;36m3\u001b[0m\u001b[1;33m,\u001b[0m\u001b[1;36m2\u001b[0m\u001b[1;33m,\u001b[0m\u001b[1;36m5\u001b[0m\u001b[1;33m,\u001b[0m\u001b[1;36m1\u001b[0m\u001b[1;33m]\u001b[0m\u001b[1;33m)\u001b[0m\u001b[1;33m\u001b[0m\u001b[0m\n\u001b[0m",
      "\u001b[1;32m<ipython-input-54-8e658f0110f3>\u001b[0m in \u001b[0;36mtriParInsertion\u001b[1;34m(liNonTriee)\u001b[0m\n\u001b[0;32m     12\u001b[0m     \u001b[0mliTriee\u001b[0m \u001b[1;33m=\u001b[0m \u001b[1;33m[\u001b[0m\u001b[0mliNonTriee\u001b[0m\u001b[1;33m[\u001b[0m\u001b[1;36m0\u001b[0m\u001b[1;33m]\u001b[0m\u001b[1;33m]\u001b[0m\u001b[1;33m\u001b[0m\u001b[0m\n\u001b[0;32m     13\u001b[0m     \u001b[1;32mfor\u001b[0m \u001b[0mi\u001b[0m \u001b[1;32min\u001b[0m \u001b[0mrange\u001b[0m\u001b[1;33m(\u001b[0m\u001b[1;36m1\u001b[0m\u001b[1;33m,\u001b[0m\u001b[0mlen\u001b[0m\u001b[1;33m(\u001b[0m\u001b[0mliNonTriee\u001b[0m\u001b[1;33m)\u001b[0m\u001b[1;33m,\u001b[0m\u001b[1;36m1\u001b[0m\u001b[1;33m)\u001b[0m\u001b[1;33m:\u001b[0m\u001b[1;33m\u001b[0m\u001b[0m\n\u001b[1;32m---> 14\u001b[1;33m         \u001b[0mliTriee\u001b[0m\u001b[1;33m.\u001b[0m\u001b[0mappend\u001b[0m\u001b[1;33m(\u001b[0m\u001b[0minserer\u001b[0m\u001b[1;33m(\u001b[0m\u001b[0mliNonTriee\u001b[0m\u001b[1;33m[\u001b[0m\u001b[0mi\u001b[0m\u001b[1;33m]\u001b[0m\u001b[1;33m,\u001b[0m\u001b[0mliTriee\u001b[0m\u001b[1;33m)\u001b[0m\u001b[1;33m)\u001b[0m\u001b[1;33m\u001b[0m\u001b[0m\n\u001b[0m\u001b[0;32m     15\u001b[0m     \u001b[1;32mreturn\u001b[0m \u001b[0mliTriee\u001b[0m\u001b[1;33m\u001b[0m\u001b[0m\n\u001b[0;32m     16\u001b[0m \u001b[1;33m\u001b[0m\u001b[0m\n",
      "\u001b[1;32m<ipython-input-54-8e658f0110f3>\u001b[0m in \u001b[0;36minserer\u001b[1;34m(n, li)\u001b[0m\n\u001b[0;32m      2\u001b[0m     \u001b[0mlires\u001b[0m\u001b[1;33m=\u001b[0m\u001b[1;33m[\u001b[0m\u001b[1;33m]\u001b[0m\u001b[1;33m\u001b[0m\u001b[0m\n\u001b[0;32m      3\u001b[0m     \u001b[1;32mfor\u001b[0m \u001b[0mi\u001b[0m \u001b[1;32min\u001b[0m \u001b[0mrange\u001b[0m\u001b[1;33m(\u001b[0m\u001b[1;36m0\u001b[0m\u001b[1;33m,\u001b[0m\u001b[0mlen\u001b[0m\u001b[1;33m(\u001b[0m\u001b[0mli\u001b[0m\u001b[1;33m)\u001b[0m\u001b[1;33m,\u001b[0m\u001b[1;36m1\u001b[0m\u001b[1;33m)\u001b[0m\u001b[1;33m:\u001b[0m\u001b[1;33m\u001b[0m\u001b[0m\n\u001b[1;32m----> 4\u001b[1;33m         \u001b[1;32mif\u001b[0m \u001b[0mn\u001b[0m \u001b[1;33m<\u001b[0m \u001b[0mli\u001b[0m\u001b[1;33m[\u001b[0m\u001b[0mi\u001b[0m\u001b[1;33m]\u001b[0m\u001b[1;33m:\u001b[0m\u001b[1;33m\u001b[0m\u001b[0m\n\u001b[0m\u001b[0;32m      5\u001b[0m             \u001b[0mlires\u001b[0m\u001b[1;33m.\u001b[0m\u001b[0mappend\u001b[0m\u001b[1;33m(\u001b[0m\u001b[0mn\u001b[0m\u001b[1;33m)\u001b[0m\u001b[1;33m\u001b[0m\u001b[0m\n\u001b[0;32m      6\u001b[0m             \u001b[0mlires\u001b[0m\u001b[1;33m.\u001b[0m\u001b[0mappend\u001b[0m\u001b[1;33m(\u001b[0m\u001b[0mli\u001b[0m\u001b[1;33m[\u001b[0m\u001b[0mi\u001b[0m\u001b[1;33m]\u001b[0m\u001b[1;33m)\u001b[0m\u001b[1;33m\u001b[0m\u001b[0m\n",
      "\u001b[1;31mTypeError\u001b[0m: '<' not supported between instances of 'int' and 'list'"
     ]
    }
   ],
   "source": [
    "triParInsertion([3,2,5,1])"
   ]
  },
  {
   "cell_type": "markdown",
   "metadata": {},
   "source": [
    "**Exercice** : Écrire une fonction permettant d'inverser une liste."
   ]
  },
  {
   "cell_type": "markdown",
   "metadata": {},
   "source": [
    "**Exercice** : Écrire une fonction permettant de tester si une liste est un palindrome."
   ]
  },
  {
   "cell_type": "markdown",
   "metadata": {},
   "source": [
    "**Exercice :** Écrire une fonction permettant de déterminer si deux listes contiennent les mêmes valeurs et en même nombre d'occurrences."
   ]
  }
 ],
 "metadata": {
  "kernelspec": {
   "display_name": "Python 3",
   "language": "python",
   "name": "python3"
  },
  "language_info": {
   "codemirror_mode": {
    "name": "ipython",
    "version": 3
   },
   "file_extension": ".py",
   "mimetype": "text/x-python",
   "name": "python",
   "nbconvert_exporter": "python",
   "pygments_lexer": "ipython3",
   "version": "3.7.0"
  }
 },
 "nbformat": 4,
 "nbformat_minor": 2
}
