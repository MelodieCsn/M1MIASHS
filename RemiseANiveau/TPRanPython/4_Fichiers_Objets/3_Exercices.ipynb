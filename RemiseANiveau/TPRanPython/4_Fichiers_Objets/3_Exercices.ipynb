{
 "cells": [
  {
   "cell_type": "markdown",
   "metadata": {},
   "source": [
    "# Exercices sur les listes d'objets"
   ]
  },
  {
   "cell_type": "markdown",
   "metadata": {},
   "source": [
    "**Exercice** \n",
    "1. Écrivez une classe Client telle que les attributs des objets de type Client correspondent aux champs de la table Client vue en TD de base de données.\n",
    "2. Écrivez une fonction permettant de lire un fichier CSV contenant des données sur des clients et de stocker les informations dans une liste d'instance de la classe Client. Vous pourrez utiliser le fichier Client.csv fourni ou en générer un par export à partir de votre gestionnaire de base de données.\n",
    "3. Écrivez une fonction permettant de déterminer s'il existe (retour booléen) un client avec un nom donné (à partir d'une liste de Client).\n",
    "4. Écrivez une fonction permettant d'afficher tous les clients avec un nom donné (à partir d'une liste de Client)."
   ]
  },
  {
   "cell_type": "code",
   "execution_count": 14,
   "metadata": {},
   "outputs": [],
   "source": [
    "class Client:\n",
    "    def __init__( self, numC, nom, prenom, adresse, nombre):\n",
    "        self.numC = numC\n",
    "        self.nom = nom\n",
    "        self.prenom = prenom\n",
    "        self.adresse = adresse\n",
    "        self.nombre = nombre\n",
    "        \n",
    "    def __str__( self ):\n",
    "        \"\"\"Méthode retournant une description pour pouvoir afficher un client\"\"\"\n",
    "        return \"Numéro = \" + self.numC + \", Nom = \"+ self.nom + \", prenom = \" + self.prenom +\", adresse = \"+ self.adresse+\", chiffre = \"+self.chiffre\n",
    "    "
   ]
  },
  {
   "cell_type": "code",
   "execution_count": 15,
   "metadata": {},
   "outputs": [],
   "source": [
    "import csv\n",
    "import sys\n",
    "def ListeInstanceClient(nomFichier, delim = \";\"):\n",
    "    \"\"\" fonction qui lit un csv contenant des informations des client et les stocke dans une liste d'instance de client\n",
    "    Données : - nom du fichier csv à traiter\n",
    "              - délimiteur, ici ; par défault\n",
    "    Résultat : - liste d'instances de Client\n",
    "    \"\"\"\n",
    "    try:\n",
    "        file_descriptor = open( nomFichier, \"r\", encoding=\"utf-8\" ) \n",
    "        csv_reader = csv.reader(file_descriptor, delimiter = delim)\n",
    "        li = []\n",
    "        liste_clients = []\n",
    "        for ligne in csv_reader:\n",
    "            li.append(ligne)\n",
    "            client = Client(li[i][0], li[i][1], li[i][2], li[i][3], li[i][4])\n",
    "            liste_clients.append( client )\n",
    "        file_descriptor.close()\n",
    "        return liste_livres\n",
    "    except:\n",
    "        print(\"Problème de fichier : \", sys.exc_info()[0])\n",
    "        return []\n",
    "    "
   ]
  },
  {
   "cell_type": "code",
   "execution_count": 18,
   "metadata": {},
   "outputs": [
    {
     "name": "stdout",
     "output_type": "stream",
     "text": [
      "Problème de fichier :  <class 'NameError'>\n"
     ]
    }
   ],
   "source": [
    "t = ListeInstanceClient(\"essai.csv\")"
   ]
  },
  {
   "cell_type": "code",
   "execution_count": 19,
   "metadata": {},
   "outputs": [
    {
     "data": {
      "text/plain": [
       "[]"
      ]
     },
     "execution_count": 19,
     "metadata": {},
     "output_type": "execute_result"
    }
   ],
   "source": [
    "t"
   ]
  },
  {
   "cell_type": "markdown",
   "metadata": {},
   "source": [
    "**Exercice** \n",
    "1. Écrivez une classe Produit telle que les attributs d'un objet de type Produit soient : un identifiant, un nom, une quantité, un prix.\n",
    "2. Écrivez une méthode permettant de calculer la valeur d'un stock représenté par une liste d'objets de type Produit (somme des multiplications *quantité* par *prix* des différents produts de la liste).\n",
    "3. Écrivez une fonction permettant de déterminer la liste des prix ayant le prix le plus élevé."
   ]
  },
  {
   "cell_type": "code",
   "execution_count": null,
   "metadata": {},
   "outputs": [],
   "source": []
  },
  {
   "cell_type": "markdown",
   "metadata": {},
   "source": [
    "# Exercices sur les listes de listes"
   ]
  },
  {
   "cell_type": "markdown",
   "metadata": {},
   "source": [
    "**Exercice**\n",
    "\n",
    "Écrivez une fonction permettant de déterminer si toutes les lignes d'une liste de listes sont de même longueur."
   ]
  },
  {
   "cell_type": "markdown",
   "metadata": {},
   "source": [
    "**Exercice**\n",
    "\n",
    "Écrivez une fonction pour calculer la somme d'une liste de listes d'entiers."
   ]
  },
  {
   "cell_type": "markdown",
   "metadata": {},
   "source": [
    "**Exercice**\n",
    "\n",
    "Écrivez une fonction déterminant si un entier est présent dans une liste de listes d'entiers.\n"
   ]
  }
 ],
 "metadata": {
  "kernelspec": {
   "display_name": "Python 3",
   "language": "python",
   "name": "python3"
  },
  "language_info": {
   "codemirror_mode": {
    "name": "ipython",
    "version": 3
   },
   "file_extension": ".py",
   "mimetype": "text/x-python",
   "name": "python",
   "nbconvert_exporter": "python",
   "pygments_lexer": "ipython3",
   "version": "3.7.0"
  }
 },
 "nbformat": 4,
 "nbformat_minor": 2
}
