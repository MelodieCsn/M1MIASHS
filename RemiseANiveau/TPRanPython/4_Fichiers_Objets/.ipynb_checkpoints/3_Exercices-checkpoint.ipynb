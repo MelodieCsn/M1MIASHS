{
 "cells": [
  {
   "cell_type": "markdown",
   "metadata": {},
   "source": [
    "# Exercices sur les listes d'objets"
   ]
  },
  {
   "cell_type": "markdown",
   "metadata": {},
   "source": [
    "**Exercice** \n",
    "1. Écrivez une classe Client telle que les attributs des objets de type Client correspondent aux champs de la table Client vue en TD de base de données.\n",
    "2. Écrivez une fonction permettant de lire un fichier CSV contenant des données sur des clients et de stocker les informations dans une liste d'instance de la classe Client. Vous pourrez utiliser le fichier Client.csv fourni ou en générer un par export à partir de votre gestionnaire de base de données.\n",
    "3. Écrivez une fonction permettant de déterminer s'il existe (retour booléen) un client avec un nom donné (à partir d'une liste de Client).\n",
    "4. Écrivez une fonction permettant d'afficher tous les clients avec un nom donné (à partir d'une liste de Client)."
   ]
  },
  {
   "cell_type": "markdown",
   "metadata": {},
   "source": [
    "**Exercice** \n",
    "1. Écrivez une classe Produit telle que les attributs d'un objet de type Produit soient : un identifiant, un nom, une quantité, un prix.\n",
    "2. Écrivez une méthode permettant de calculer la valeur d'un stock représenté par une liste d'objets de type Produit (somme des multiplications *quantité* par *prix* des différents produts de la liste).\n",
    "3. Écrivez une fonction permettant de déterminer la liste des prix ayant le prix le plus élevé."
   ]
  },
  {
   "cell_type": "markdown",
   "metadata": {},
   "source": [
    "# Exercices sur les listes de listes"
   ]
  },
  {
   "cell_type": "markdown",
   "metadata": {},
   "source": [
    "**Exercice**\n",
    "\n",
    "Écrivez une fonction permettant de déterminer si toutes les lignes d'une liste de listes sont de même longueur."
   ]
  },
  {
   "cell_type": "markdown",
   "metadata": {},
   "source": [
    "**Exercice**\n",
    "\n",
    "Écrivez une fonction pour calculer la somme d'une liste de listes d'entiers."
   ]
  },
  {
   "cell_type": "markdown",
   "metadata": {},
   "source": [
    "**Exercice**\n",
    "\n",
    "Écrivez une fonction déterminant si un entier est présent dans une liste de listes d'entiers.\n"
   ]
  }
 ],
 "metadata": {
  "kernelspec": {
   "display_name": "Python 3",
   "language": "python",
   "name": "python3"
  },
  "language_info": {
   "codemirror_mode": {
    "name": "ipython",
    "version": 3
   },
   "file_extension": ".py",
   "mimetype": "text/x-python",
   "name": "python",
   "nbconvert_exporter": "python",
   "pygments_lexer": "ipython3",
   "version": "3.7.0"
  }
 },
 "nbformat": 4,
 "nbformat_minor": 2
}
