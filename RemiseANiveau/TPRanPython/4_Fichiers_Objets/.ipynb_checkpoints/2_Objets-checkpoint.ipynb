{
 "cells": [
  {
   "cell_type": "markdown",
   "metadata": {},
   "source": [
    "# Un peu d'objet"
   ]
  },
  {
   "cell_type": "code",
   "execution_count": 12,
   "metadata": {},
   "outputs": [
    {
     "name": "stdout",
     "output_type": "stream",
     "text": [
      "['numL01', 'Titre 01', 'Auteur 1']\n",
      "['numL02', 'Titre 02', 'Auteur 1']\n",
      "['numL03', 'Titre 03', 'Auteur 1']\n",
      "['numL04', 'Titre 04', 'Auteur 2']\n",
      "['numL05', 'Titre 05', 'Auteur 2']\n",
      "['numL06', 'Titre 06', 'Auteur 3']\n",
      "['numL07', 'Titre 07', 'Auteur 4']\n",
      "['numL08', 'Titre 08', 'Auteur 5']\n",
      "['numL09', 'Titre 09', 'Auteur 5']\n",
      "['numL10', 'Titre 10', 'Auteur 5']\n",
      "['numL11', 'Titre 11', 'Auteur 6']\n",
      "['numL12', 'Titre 12', 'Auteur 6']\n",
      "['numL13', 'Titre 13', 'Auteur 6']\n",
      "['numL14', 'Titre 14', 'Auteur 6']\n",
      "['numL15', 'Titre 15', 'Auteur 6']\n",
      "['numL16', 'Titre 16', 'Auteur 7']\n",
      "['numL17', 'Titre 17', 'Auteur 8']\n",
      "['numL18', 'Titre 18', 'Auteur 9']\n",
      "['numL19', 'Titre 19', 'Auteur 9']\n",
      "['numL20', 'Titre 20', 'Auteur 10']\n"
     ]
    }
   ],
   "source": [
    "# Récupérons des données de notre base biblio (vue en partie BD)\n",
    "from manipulation_csv import *\n",
    "t = lire_fichier_csv(\"Livre.csv\")\n",
    "for ligne in t:\n",
    "    print(ligne)"
   ]
  },
  {
   "cell_type": "markdown",
   "metadata": {},
   "source": [
    "**Remarque** : cela est peu pratique car on perd le sens des données (colonne 1 = NumL, colonne 2 = titre, colonne 3 = Auteur). Plutôt que des listes de listes, il serait mieux d'avoir une liste d'instances d'objets (on pourrait aussi, dans cet exemple, utiliser des dictionnaires, une autre structure de Python très utile -- https://docs.python.org/3.7/tutorial/datastructures.html)"
   ]
  },
  {
   "cell_type": "code",
   "execution_count": 5,
   "metadata": {},
   "outputs": [],
   "source": [
    "class Livre:\n",
    "    def __init__( self, numL, titre, auteur):\n",
    "        self.numL = numL\n",
    "        self.titre = titre\n",
    "        self.auteur = auteur\n",
    "        \n",
    "    def __str__( self ):\n",
    "        \"\"\"Méthode retournant une description pour pouvoir afficher un livre\"\"\"\n",
    "        return \"Numéro = \" + self.numL + \", Titre = \"+ self.titre + \", auteur = \" + self.auteur"
   ]
  },
  {
   "cell_type": "code",
   "execution_count": 6,
   "metadata": {},
   "outputs": [
    {
     "name": "stdout",
     "output_type": "stream",
     "text": [
      "Numéro = 1, Titre = Jungle, auteur = Kipling\n"
     ]
    }
   ],
   "source": [
    "liv = Livre(\"1\",\"Jungle\", \"Kipling\")\n",
    "print(liv)"
   ]
  },
  {
   "cell_type": "markdown",
   "metadata": {},
   "source": [
    "De manière classique en programmation objet, on peut accéder aux attributs d'une instance (et on peut ajouter des méthodes sur le modèle de la méthode __str__"
   ]
  },
  {
   "cell_type": "code",
   "execution_count": 7,
   "metadata": {},
   "outputs": [
    {
     "name": "stdout",
     "output_type": "stream",
     "text": [
      "1\n",
      "Jungle\n",
      "Kipling\n",
      "Numéro = 1, Titre = Jungle, auteur = Rudyard Kipling\n"
     ]
    }
   ],
   "source": [
    "print(liv.numL)\n",
    "print(liv.titre)\n",
    "print(liv.auteur)\n",
    "liv.auteur = \"Rudyard Kipling\"\n",
    "print(liv)"
   ]
  },
  {
   "cell_type": "markdown",
   "metadata": {},
   "source": [
    "La fonction suivante permet de transformer une liste de listes en liste de Livres (sous condition)"
   ]
  },
  {
   "cell_type": "code",
   "execution_count": 21,
   "metadata": {},
   "outputs": [],
   "source": [
    "def listes2D_vers_liste_Livre( lis2D ):\n",
    "    \"\"\"\n",
    "    Transforme la liste lis2D en une liste de Livre\n",
    "    Précondition : toutes les listes de lis2D ont 3 éléments\n",
    "    Donnée : lis2D : liste de listes de chaîne de caractères\n",
    "    Résultat : liste de Livre\n",
    "    \"\"\"\n",
    "    liste_livres = []\n",
    "    # Version non autorisée dans le cours\n",
    "    #for liste in lis2D:\n",
    "    #    livre = Livre( liste[0], liste[1], liste[2])\n",
    "    #    liste_livres.append( livre )\n",
    "\n",
    "    for i in range(0, len(lis2D), 1):\n",
    "        livre = Livre(lis2D[i][0], lis2D[i][1], lis2D[i][2])\n",
    "        liste_livres.append( livre )\n",
    "    return liste_livres"
   ]
  },
  {
   "cell_type": "code",
   "execution_count": 23,
   "metadata": {},
   "outputs": [
    {
     "name": "stdout",
     "output_type": "stream",
     "text": [
      "Numéro = numL01, Titre = Titre 01, auteur = Auteur 1\n",
      "Numéro = numL02, Titre = Titre 02, auteur = Auteur 1\n",
      "Numéro = numL03, Titre = Titre 03, auteur = Auteur 1\n",
      "Numéro = numL04, Titre = Titre 04, auteur = Auteur 2\n",
      "Numéro = numL05, Titre = Titre 05, auteur = Auteur 2\n",
      "Numéro = numL06, Titre = Titre 06, auteur = Auteur 3\n",
      "Numéro = numL07, Titre = Titre 07, auteur = Auteur 4\n",
      "Numéro = numL08, Titre = Titre 08, auteur = Auteur 5\n",
      "Numéro = numL09, Titre = Titre 09, auteur = Auteur 5\n",
      "Numéro = numL10, Titre = Titre 10, auteur = Auteur 5\n",
      "Numéro = numL11, Titre = Titre 11, auteur = Auteur 6\n",
      "Numéro = numL12, Titre = Titre 12, auteur = Auteur 6\n",
      "Numéro = numL13, Titre = Titre 13, auteur = Auteur 6\n",
      "Numéro = numL14, Titre = Titre 14, auteur = Auteur 6\n",
      "Numéro = numL15, Titre = Titre 15, auteur = Auteur 6\n",
      "Numéro = numL16, Titre = Titre 16, auteur = Auteur 7\n",
      "Numéro = numL17, Titre = Titre 17, auteur = Auteur 8\n",
      "Numéro = numL18, Titre = Titre 18, auteur = Auteur 9\n",
      "Numéro = numL19, Titre = Titre 19, auteur = Auteur 9\n",
      "Numéro = numL20, Titre = Titre 20, auteur = Auteur 10\n"
     ]
    }
   ],
   "source": [
    "#print(t)\n",
    "lis_livres = listes2D_vers_liste_Livre( t )\n",
    "for livre in lis_livres:\n",
    "    print( livre )"
   ]
  },
  {
   "cell_type": "markdown",
   "metadata": {},
   "source": [
    "# Trucs et astuces...\n",
    "... pour montrer la puissance de Python"
   ]
  },
  {
   "cell_type": "code",
   "execution_count": 24,
   "metadata": {},
   "outputs": [
    {
     "name": "stdout",
     "output_type": "stream",
     "text": [
      "Numéro = numL11, Titre = Titre 16, auteur = Auteur 6\n",
      "Numéro = numL12, Titre = Titre 17, auteur = Auteur 6\n",
      "Numéro = numL13, Titre = Titre 18, auteur = Auteur 6\n",
      "Numéro = numL14, Titre = Titre 19, auteur = Auteur 6\n",
      "Numéro = numL15, Titre = Titre 20, auteur = Auteur 6\n",
      "Numéro = numL16, Titre = Titre 16, auteur = Auteur 7\n",
      "Numéro = numL17, Titre = Titre 17, auteur = Auteur 8\n",
      "Numéro = numL18, Titre = Titre 18, auteur = Auteur 9\n",
      "Numéro = numL19, Titre = Titre 19, auteur = Auteur 9\n",
      "Numéro = numL20, Titre = Titre 20, auteur = Auteur 10\n",
      "Numéro = numL01, Titre = Titre 06, auteur = Auteur 1\n",
      "Numéro = numL02, Titre = Titre 07, auteur = Auteur 1\n",
      "Numéro = numL03, Titre = Titre 08, auteur = Auteur 1\n",
      "Numéro = numL04, Titre = Titre 09, auteur = Auteur 2\n",
      "Numéro = numL05, Titre = Titre 10, auteur = Auteur 2\n",
      "Numéro = numL06, Titre = Titre 01, auteur = Auteur 3\n",
      "Numéro = numL07, Titre = Titre 02, auteur = Auteur 4\n",
      "Numéro = numL08, Titre = Titre 03, auteur = Auteur 5\n",
      "Numéro = numL09, Titre = Titre 04, auteur = Auteur 5\n",
      "Numéro = numL10, Titre = Titre 05, auteur = Auteur 5\n"
     ]
    }
   ],
   "source": [
    "# Perturbons la liste de livres \n",
    "for i in range(10):\n",
    "    lis_livres[i] ,lis_livres[i+10] = lis_livres[i+10], lis_livres[i]\n",
    "for i in range(5):\n",
    "    lis_livres[i].titre = lis_livres[i+5].titre\n",
    "    lis_livres[i+10].titre ,lis_livres[i+15].titre = lis_livres[i+15].titre, lis_livres[i+10].titre\n",
    "for livre in lis_livres:\n",
    "    print( livre )"
   ]
  },
  {
   "cell_type": "code",
   "execution_count": 25,
   "metadata": {},
   "outputs": [],
   "source": [
    "from operator import attrgetter\n",
    "liste = sorted( lis_livres, key=attrgetter(\"titre\",\"numL\"))"
   ]
  },
  {
   "cell_type": "code",
   "execution_count": 26,
   "metadata": {},
   "outputs": [
    {
     "name": "stdout",
     "output_type": "stream",
     "text": [
      "Numéro = numL06, Titre = Titre 01, auteur = Auteur 3\n",
      "Numéro = numL07, Titre = Titre 02, auteur = Auteur 4\n",
      "Numéro = numL08, Titre = Titre 03, auteur = Auteur 5\n",
      "Numéro = numL09, Titre = Titre 04, auteur = Auteur 5\n",
      "Numéro = numL10, Titre = Titre 05, auteur = Auteur 5\n",
      "Numéro = numL01, Titre = Titre 06, auteur = Auteur 1\n",
      "Numéro = numL02, Titre = Titre 07, auteur = Auteur 1\n",
      "Numéro = numL03, Titre = Titre 08, auteur = Auteur 1\n",
      "Numéro = numL04, Titre = Titre 09, auteur = Auteur 2\n",
      "Numéro = numL05, Titre = Titre 10, auteur = Auteur 2\n",
      "Numéro = numL11, Titre = Titre 16, auteur = Auteur 6\n",
      "Numéro = numL16, Titre = Titre 16, auteur = Auteur 7\n",
      "Numéro = numL12, Titre = Titre 17, auteur = Auteur 6\n",
      "Numéro = numL17, Titre = Titre 17, auteur = Auteur 8\n",
      "Numéro = numL13, Titre = Titre 18, auteur = Auteur 6\n",
      "Numéro = numL18, Titre = Titre 18, auteur = Auteur 9\n",
      "Numéro = numL14, Titre = Titre 19, auteur = Auteur 6\n",
      "Numéro = numL19, Titre = Titre 19, auteur = Auteur 9\n",
      "Numéro = numL15, Titre = Titre 20, auteur = Auteur 6\n",
      "Numéro = numL20, Titre = Titre 20, auteur = Auteur 10\n"
     ]
    }
   ],
   "source": [
    "for livre in liste:\n",
    "    print( livre )"
   ]
  },
  {
   "cell_type": "code",
   "execution_count": 27,
   "metadata": {
    "scrolled": true
   },
   "outputs": [
    {
     "name": "stdout",
     "output_type": "stream",
     "text": [
      "Numéro = numL01, Titre = Titre 06, auteur = Auteur 1\n",
      "Numéro = numL02, Titre = Titre 07, auteur = Auteur 1\n",
      "Numéro = numL03, Titre = Titre 08, auteur = Auteur 1\n",
      "Numéro = numL04, Titre = Titre 09, auteur = Auteur 2\n",
      "Numéro = numL05, Titre = Titre 10, auteur = Auteur 2\n",
      "Numéro = numL06, Titre = Titre 01, auteur = Auteur 3\n",
      "Numéro = numL07, Titre = Titre 02, auteur = Auteur 4\n",
      "Numéro = numL08, Titre = Titre 03, auteur = Auteur 5\n",
      "Numéro = numL09, Titre = Titre 04, auteur = Auteur 5\n",
      "Numéro = numL10, Titre = Titre 05, auteur = Auteur 5\n",
      "Numéro = numL11, Titre = Titre 16, auteur = Auteur 6\n",
      "Numéro = numL12, Titre = Titre 17, auteur = Auteur 6\n",
      "Numéro = numL13, Titre = Titre 18, auteur = Auteur 6\n",
      "Numéro = numL14, Titre = Titre 19, auteur = Auteur 6\n",
      "Numéro = numL15, Titre = Titre 20, auteur = Auteur 6\n",
      "Numéro = numL16, Titre = Titre 16, auteur = Auteur 7\n",
      "Numéro = numL17, Titre = Titre 17, auteur = Auteur 8\n",
      "Numéro = numL18, Titre = Titre 18, auteur = Auteur 9\n",
      "Numéro = numL19, Titre = Titre 19, auteur = Auteur 9\n",
      "Numéro = numL20, Titre = Titre 20, auteur = Auteur 10\n"
     ]
    }
   ],
   "source": [
    "from operator import attrgetter\n",
    "liste = sorted( lis_livres, key=attrgetter(\"numL\"))\n",
    "for livre in liste:\n",
    "    print( livre )"
   ]
  },
  {
   "cell_type": "markdown",
   "metadata": {},
   "source": [
    "A l'examen, vous pouvez utiliser cette fonction sorted... sauf si on vous demande d'écrire un algorithme de tri."
   ]
  }
 ],
 "metadata": {
  "kernelspec": {
   "display_name": "Python 3",
   "language": "python",
   "name": "python3"
  },
  "language_info": {
   "codemirror_mode": {
    "name": "ipython",
    "version": 3
   },
   "file_extension": ".py",
   "mimetype": "text/x-python",
   "name": "python",
   "nbconvert_exporter": "python",
   "pygments_lexer": "ipython3",
   "version": "3.7.0"
  }
 },
 "nbformat": 4,
 "nbformat_minor": 2
}
