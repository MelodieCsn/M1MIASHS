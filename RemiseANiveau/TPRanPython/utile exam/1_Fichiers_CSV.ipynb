{
 "cells": [
  {
   "cell_type": "markdown",
   "metadata": {},
   "source": [
    "# Gérer des données dans des fichiers csv"
   ]
  },
  {
   "cell_type": "markdown",
   "metadata": {},
   "source": [
    "## CSV ?\n",
    "* CSV = Comma Separator Values\n",
    "* Mais en pratique, on peut aussi gérer les fichiers avec d'autres séparateurs si on le désire (tsv = Tabulation Separator Values, ...)\n",
    "* Des fichiers permettant de communiquer facilement avec une base de données (résultat de l'export d'une table) ou un tableur\n",
    "* Structure : un tableau à 2 dimensions ; une liste de lignes\n"
   ]
  },
  {
   "cell_type": "code",
   "execution_count": 3,
   "metadata": {},
   "outputs": [],
   "source": [
    "import csv # étape 1 avant toute manipulation : nécessaire pour la gestion de fichiers csv -- 1 seul import"
   ]
  },
  {
   "cell_type": "markdown",
   "metadata": {},
   "source": [
    "## Ecriture"
   ]
  },
  {
   "cell_type": "code",
   "execution_count": 4,
   "metadata": {},
   "outputs": [],
   "source": [
    "# Préparation des paramètres de l'opération\n",
    "nom_fichier= \"essai.csv\" # Le fichier qui va être écrit (écrasé)\n",
    "a_ecrire = [[ \"rouge\", 2, 3], [1, 6], [ ], [3.5, \"bleu\"]] # Les données à écrire"
   ]
  },
  {
   "cell_type": "code",
   "execution_count": 5,
   "metadata": {},
   "outputs": [],
   "source": [
    "file_descriptor = open( nom_fichier, \"w\", encoding=\"utf-8\" ) # ouverture du fichier\n",
    "csv_writer = csv.writer(file_descriptor, dialect=\"unix\", delimiter = \";\") # Création objet gérant l'écriture\n",
    "            # dialect \"unix\" évite l'insertion de lignes vides\n",
    "# Écriture ligne par ligne\n",
    "for row in a_ecrire : # pour chaque liste de la liste de listes\n",
    "    csv_writer.writerow( row ) # écriture de la liste\n",
    "file_descriptor.close() # fin de l'écriture"
   ]
  },
  {
   "cell_type": "markdown",
   "metadata": {},
   "source": [
    "Pour voir ce qu'il s'est passé, le mieux est d'ouvrir le fichier CSV avec un tableur. Mais on peut aussi le charger."
   ]
  },
  {
   "cell_type": "code",
   "execution_count": null,
   "metadata": {},
   "outputs": [],
   "source": [
    "# %load essai.csv\n",
    "\"rouge\";\"2\";\"3\"\n",
    "\"1\";\"6\"\n",
    "\n",
    "\"3.5\";\"bleu\"\n"
   ]
  },
  {
   "cell_type": "markdown",
   "metadata": {},
   "source": [
    "Comme l'écriture de fichier csv est la même d'un fichier à un autre, on peut écrire une fonction. Que vous pourrez utiliser !"
   ]
  },
  {
   "cell_type": "code",
   "execution_count": 7,
   "metadata": {},
   "outputs": [],
   "source": [
    "def ecrire_liste_dans_fichier_csv( a_ecrire, nom_fichier, delim = \";\"):\n",
    "    \"\"\"\n",
    "    Ecrit la liste de listes a_ecrire dans le fichier nommé nom_fichier \n",
    "    au format csv en utilisant delim comme delimiter (par défaut ;)\n",
    "    Données :\n",
    "        a_ecrire : liste de listes\n",
    "        nom_fichier : chaîne de caractères\n",
    "        delim : chaîne de caractères de longueur 1\n",
    "    Pas de résultat\n",
    "    Précondition : package csv et sys importé\n",
    "    \"\"\"\n",
    "    try:\n",
    "        file_descriptor = open( nom_fichier, \"w\", encoding=\"utf-8\" ) \n",
    "        csv_writer = csv.writer(file_descriptor, dialect=\"unix\", delimiter = delim) \n",
    "            # dialect \"unix\" évite l'insertion de lignes vide\n",
    "        for row in a_ecrire : \n",
    "            csv_writer.writerow( row ) \n",
    "        file_descriptor.close() # fin de l'écriture\n",
    "    except:\n",
    "        print(\"Problème de fichier : \", sys.exc_info()[0])\n",
    "            #permet de retourner des informations sur l'erreur générée"
   ]
  },
  {
   "cell_type": "code",
   "execution_count": 8,
   "metadata": {},
   "outputs": [],
   "source": [
    "ecrire_liste_dans_fichier_csv(a_ecrire, \"essai2.csv\")"
   ]
  },
  {
   "cell_type": "markdown",
   "metadata": {},
   "source": [
    "## Lecture"
   ]
  },
  {
   "cell_type": "code",
   "execution_count": 9,
   "metadata": {},
   "outputs": [],
   "source": [
    "def lire_fichier_csv( nom_fichier, delim = \";\" ):\n",
    "    \"\"\"\n",
    "    La fonction lire_fichier_csv \n",
    "       retourne le contenu du fichier de nom nom_fichier\n",
    "       sous forme d'une liste de listes.\n",
    "    Le fichier est supposé être au format csv avec comme délimiteur delim (; par défaut)\n",
    "    Données :\n",
    "        nom_fichier : une chaîne de caractères désignant le nom du fichier à ouvrir\n",
    "        delim : chaîne de caractères de longueur 1\n",
    "    Résultat :\n",
    "        liste de listes de chaînes de caractères\n",
    "    Précondition : package csv et sys importé\n",
    "    \"\"\"\n",
    "    try:\n",
    "        file_descriptor = open( nom_fichier, \"r\", encoding=\"utf-8\" ) \n",
    "        csv_reader = csv.reader(file_descriptor, delimiter = delim)\n",
    "        res = []\n",
    "        for ligne in csv_reader:\n",
    "            res.append(ligne)\n",
    "        file_descriptor.close()\n",
    "        return res\n",
    "    except:\n",
    "        print(\"Problème de fichier : \", sys.exc_info()[0])\n",
    "        return []"
   ]
  },
  {
   "cell_type": "code",
   "execution_count": 10,
   "metadata": {},
   "outputs": [
    {
     "ename": "NameError",
     "evalue": "name 'sys' is not defined",
     "output_type": "error",
     "traceback": [
      "\u001b[1;31m---------------------------------------------------------------------------\u001b[0m",
      "\u001b[1;31mFileNotFoundError\u001b[0m                         Traceback (most recent call last)",
      "\u001b[1;32m<ipython-input-9-833ba4c75211>\u001b[0m in \u001b[0;36mlire_fichier_csv\u001b[1;34m(nom_fichier, delim)\u001b[0m\n\u001b[0;32m     14\u001b[0m     \u001b[1;32mtry\u001b[0m\u001b[1;33m:\u001b[0m\u001b[1;33m\u001b[0m\u001b[0m\n\u001b[1;32m---> 15\u001b[1;33m         \u001b[0mfile_descriptor\u001b[0m \u001b[1;33m=\u001b[0m \u001b[0mopen\u001b[0m\u001b[1;33m(\u001b[0m \u001b[0mnom_fichier\u001b[0m\u001b[1;33m,\u001b[0m \u001b[1;34m\"r\"\u001b[0m\u001b[1;33m,\u001b[0m \u001b[0mencoding\u001b[0m\u001b[1;33m=\u001b[0m\u001b[1;34m\"utf-8\"\u001b[0m \u001b[1;33m)\u001b[0m\u001b[1;33m\u001b[0m\u001b[0m\n\u001b[0m\u001b[0;32m     16\u001b[0m         \u001b[0mcsv_reader\u001b[0m \u001b[1;33m=\u001b[0m \u001b[0mcsv\u001b[0m\u001b[1;33m.\u001b[0m\u001b[0mreader\u001b[0m\u001b[1;33m(\u001b[0m\u001b[0mfile_descriptor\u001b[0m\u001b[1;33m,\u001b[0m \u001b[0mdelimiter\u001b[0m \u001b[1;33m=\u001b[0m \u001b[0mdelim\u001b[0m\u001b[1;33m)\u001b[0m\u001b[1;33m\u001b[0m\u001b[0m\n",
      "\u001b[1;31mFileNotFoundError\u001b[0m: [Errno 2] No such file or directory: 'essai312.csv'",
      "\nDuring handling of the above exception, another exception occurred:\n",
      "\u001b[1;31mNameError\u001b[0m                                 Traceback (most recent call last)",
      "\u001b[1;32m<ipython-input-10-999e8f634812>\u001b[0m in \u001b[0;36m<module>\u001b[1;34m()\u001b[0m\n\u001b[1;32m----> 1\u001b[1;33m \u001b[0mt\u001b[0m \u001b[1;33m=\u001b[0m \u001b[0mlire_fichier_csv\u001b[0m\u001b[1;33m(\u001b[0m\u001b[1;34m\"essai312.csv\"\u001b[0m\u001b[1;33m)\u001b[0m\u001b[1;33m\u001b[0m\u001b[0m\n\u001b[0m",
      "\u001b[1;32m<ipython-input-9-833ba4c75211>\u001b[0m in \u001b[0;36mlire_fichier_csv\u001b[1;34m(nom_fichier, delim)\u001b[0m\n\u001b[0;32m     21\u001b[0m         \u001b[1;32mreturn\u001b[0m \u001b[0mres\u001b[0m\u001b[1;33m\u001b[0m\u001b[0m\n\u001b[0;32m     22\u001b[0m     \u001b[1;32mexcept\u001b[0m\u001b[1;33m:\u001b[0m\u001b[1;33m\u001b[0m\u001b[0m\n\u001b[1;32m---> 23\u001b[1;33m         \u001b[0mprint\u001b[0m\u001b[1;33m(\u001b[0m\u001b[1;34m\"Problème de fichier : \"\u001b[0m\u001b[1;33m,\u001b[0m \u001b[0msys\u001b[0m\u001b[1;33m.\u001b[0m\u001b[0mexc_info\u001b[0m\u001b[1;33m(\u001b[0m\u001b[1;33m)\u001b[0m\u001b[1;33m[\u001b[0m\u001b[1;36m0\u001b[0m\u001b[1;33m]\u001b[0m\u001b[1;33m)\u001b[0m\u001b[1;33m\u001b[0m\u001b[0m\n\u001b[0m\u001b[0;32m     24\u001b[0m         \u001b[1;32mreturn\u001b[0m \u001b[1;33m[\u001b[0m\u001b[1;33m]\u001b[0m\u001b[1;33m\u001b[0m\u001b[0m\n",
      "\u001b[1;31mNameError\u001b[0m: name 'sys' is not defined"
     ]
    }
   ],
   "source": [
    "t = lire_fichier_csv(\"essai312.csv\")"
   ]
  },
  {
   "cell_type": "code",
   "execution_count": 11,
   "metadata": {},
   "outputs": [],
   "source": [
    "import sys"
   ]
  },
  {
   "cell_type": "code",
   "execution_count": 12,
   "metadata": {},
   "outputs": [],
   "source": [
    "t = lire_fichier_csv(\"essai.csv\")"
   ]
  },
  {
   "cell_type": "code",
   "execution_count": 13,
   "metadata": {},
   "outputs": [
    {
     "data": {
      "text/plain": [
       "[['rouge', '2', '3'], ['1', '6'], [], ['3.5', 'bleu']]"
      ]
     },
     "execution_count": 13,
     "metadata": {},
     "output_type": "execute_result"
    }
   ],
   "source": [
    "t"
   ]
  },
  {
   "cell_type": "markdown",
   "metadata": {},
   "source": [
    "Les fichiers issus de tableur et de base de données sont souvent mieux structurés avec toutes les lignes de même longueur.\n",
    "\n",
    "**A faire** : ranger les fonctions de manipulation dans un fichier contenant aussi les import de csv et de sys pour ré-exploitation ultérieure\n",
    "\n",
    "Notons que pour des données très grosses, ne rentrant pas en mémoire centrale, l'approche de ces fonctions ne sera pas suffisante."
   ]
  }
 ],
 "metadata": {
  "kernelspec": {
   "display_name": "Python 3",
   "language": "python",
   "name": "python3"
  },
  "language_info": {
   "codemirror_mode": {
    "name": "ipython",
    "version": 3
   },
   "file_extension": ".py",
   "mimetype": "text/x-python",
   "name": "python",
   "nbconvert_exporter": "python",
   "pygments_lexer": "ipython3",
   "version": "3.7.0"
  }
 },
 "nbformat": 4,
 "nbformat_minor": 2
}
