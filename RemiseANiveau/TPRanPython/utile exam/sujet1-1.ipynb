{
 "cells": [
  {
   "cell_type": "markdown",
   "metadata": {},
   "source": [
    "# M1-MIASHS<br/>Informatique - Remise à niveau<br/>Évaluation 1- 18/09/2019\n",
    "# Sujet 1\n",
    "Durée de l'examen 2h"
   ]
  },
  {
   "cell_type": "markdown",
   "metadata": {},
   "source": [
    "## Préambule"
   ]
  },
  {
   "cell_type": "markdown",
   "metadata": {},
   "source": [
    "**Sujet :**\n",
    "* Une version *notebook* de ce sujet est accessible dans l'espace de cours de M1 sur le drive de l'université. Un dump pouvant aider pour la question 2 est aussi disponible. Pensez à sauvegarder régulièrement votre notebook.\n",
    "* Un barème indicatif est donné entre parenthèses.\n",
    "* Remarque. Les exercices peuvent être traités dans un ordre quelconque. Les réponses doivent être apportées aux endroits prévus dans le notebook."
   ]
  },
  {
   "cell_type": "markdown",
   "metadata": {},
   "source": [
    "**Remise de la copie**\n",
    "\n",
    "Vous enverrez par mail à gwenael.richomme@univ-montp3.fr une archive compressée d'un dossier à votre nom contenant les documents contenant vos réponses, à savoir :\n",
    "* une archive compressée contenant l’export MOCODO pour l’exercice 1\n",
    "* une copie remplie du notebook avec les réponses aux exercices SQL et Python"
   ]
  },
  {
   "cell_type": "markdown",
   "metadata": {},
   "source": [
    "# Partie 1 - Bases de données"
   ]
  },
  {
   "cell_type": "markdown",
   "metadata": {},
   "source": [
    "## Exercice 1 - gestion de planning - MCD et MOD (4 pts)"
   ]
  },
  {
   "cell_type": "markdown",
   "metadata": {},
   "source": [
    "**Contexte**<br/>\n",
    "La société qui vous emploie a été contactée par une société d'exploitation forestière pour la mise en place d'une solution numérique facilitant et améliorant la gestion des forêts qu'elle gère. En première phase du processus de développement, une base de données est mise en place."
   ]
  },
  {
   "cell_type": "markdown",
   "metadata": {},
   "source": [
    "**Travail à réaliser**<br/>\n",
    "Fournissez le MCD et le MOD de cette base de données. "
   ]
  },
  {
   "cell_type": "markdown",
   "metadata": {},
   "source": [
    "**Documents à rendre**<br/>\n",
    "Pour cette question, il est attendu que le MCD et le MOD soient développés avec **Mocodo**. Les fichiers exportés de Mocodo sont donc attendus."
   ]
  },
  {
   "cell_type": "markdown",
   "metadata": {},
   "source": [
    "**Informations relatives à l'exploitation financière**\n",
    "* Les forêts exploitées sont découpées en parcelles. Les forêts ne sont pas recensées. Seules les parcelles le sont.\n",
    "* Chaque parcelle est repérée par un codage interne alphanumérique dont la connaissance n'est pas utile ici. Sa superficie est mémorisée ainsi que la géolocalisation (latitude+longitude) de son entrée.\n",
    "* Chaque parcelle est sous la responsabilité d'un gestionnaire. Le nombre de parcelles sous la responsabilité d'un même gestionnaire dépend de la superficie des parcelles et de leurs proximités.\n",
    "* Actuellement la société conserve les informations nécessaires à l'exploitation forestière dans une unique feuille d'un fichier tableur. Ce fichier contient pour chaque parcelle et chaque espèce, le nombre d'arbres actuels sur la parcelle en fonction de leur statut. Afin de vous permettre de voir un exemple d'informations gérées, ci-suit un extrait du fichier actuel. Attention&nbsp;! comme cela est expliqué ci-après, le fichier va être abonné au profit d'une organisation plus riche. \n",
    "\n",
    "<table>\n",
    "    <tr>\n",
    "        <td>num_par</td>\n",
    "        <td>sup_par</td>\n",
    "        <td>x_par</td>\n",
    "        <td>y_par</td>\n",
    "        <td>nom_gest</td>\n",
    "        <td>prenom_gest</td>\n",
    "        <td>espece</td>\n",
    "        <td>statut</td>\n",
    "        <td>nb</td>\n",
    "    </tr>\n",
    "    <tr>\n",
    "        <td>A23</td>\n",
    "        <td>123</td>\n",
    "        <td>48.4</td>\n",
    "        <td>5.3</td>\n",
    "        <td>Pouce</td>\n",
    "        <td>Tom</td>\n",
    "        <td>Chêne</td>\n",
    "        <td>en croissance</td>\n",
    "        <td>319</td>\n",
    "    </tr>\n",
    "    <tr>\n",
    "        <td>A23</td>\n",
    "        <td>123</td>\n",
    "        <td>48.4</td>\n",
    "        <td>5.3</td>\n",
    "        <td>Pouce</td>\n",
    "        <td>Tom</td>\n",
    "        <td>Chêne</td>\n",
    "        <td>à abattre</td>\n",
    "        <td>6</td>\n",
    "    </tr>\n",
    "    <tr>\n",
    "        <td>A23</td>\n",
    "        <td>123</td>\n",
    "        <td>48.4</td>\n",
    "        <td>5.3</td>\n",
    "        <td>Pouce</td>\n",
    "        <td>Tom</td>\n",
    "        <td>Merisier</td>\n",
    "        <td>en croissance</td>\n",
    "        <td>152</td>\n",
    "    </tr>\n",
    "    <tr>\n",
    "        <td>A34</td>\n",
    "        <td>110</td>\n",
    "        <td>48.2</td>\n",
    "        <td>5.4</td>\n",
    "        <td>Pouce</td>\n",
    "        <td>Tom</td>\n",
    "        <td>Chêne</td>\n",
    "        <td>en croissance</td>\n",
    "        <td>37</td>\n",
    "    </tr>\n",
    "    <tr>\n",
    "        <td>B10</td>\n",
    "        <td>201</td>\n",
    "        <td>48.7</td>\n",
    "        <td>5.1</td>\n",
    "        <td>Botté</td>\n",
    "        <td>Chat</td>\n",
    "        <td>Merisier</td>\n",
    "        <td>à abattre</td>\n",
    "        <td>37</td>\n",
    "    </tr>\n",
    "    <tr>\n",
    "        <td>...</td>\n",
    "        <td>...</td>\n",
    "        <td>...</td>\n",
    "        <td>...</td>\n",
    "        <td>...</td>\n",
    "        <td>...</td>\n",
    "        <td>...</td>\n",
    "        <td>...</td>\n",
    "        <td>...</td>\n",
    "    </tr>\n",
    "</table>\n",
    "\n",
    "* L'exploitation actuelle de ce fichier montre énormément de limites. En parallèle de l'amélioration de l'existant numérique,  la société déploie une technologie de QR-code. À proximité de chaque arbre, elle place un QR-code associé à l'abre. À chaque QR-code, des données sur l'arbre peuvent ainsi être associées : sa géolocalisation (latitude et longitude), son statut (en croissance, à abattre, abattu, ...), son espèce, la parcelle où il se trouve. À noter que latitude et longitude de chaque arbre n'étaient pas connues jusque là mais vont grandement faciliter le travail des gestionnaires. \n",
    "* Par ailleurs, des campagnes de mesure de la circonférence des arbres sont régulièrement menées. À cette occasion, plusieurs gestionnaires sont mobilisés afin que les mesures d'une même parcelle soient réalisées rapidement. Pour chaque mesure, dès sa réalisation, la date de mesure et le gestionnaire sont mémorisés. L'ensemble de ces données de mesure permettra sur une longue période d'estimer la vitalité de la parcelle."
   ]
  },
  {
   "cell_type": "markdown",
   "metadata": {},
   "source": [
    "<font color=\"blue\">**Compléments aux fichiers remis**<br/>\n",
    "(si vous avez des remarques à formuler, vous pouvez les ajouter ici)</font>\n",
    "\n",
    "..........."
   ]
  },
  {
   "cell_type": "markdown",
   "metadata": {},
   "source": [
    "## Exercice 2 - Avions - SQL (4 pts)"
   ]
  },
  {
   "cell_type": "markdown",
   "metadata": {},
   "source": [
    "Dans cet exercice, nous considérons une version simplifiée d’un système de gestion des vols d'avion à l'échelle internationale.\n",
    "Le MOD de la base est :\n",
    "* <tt>Compagnie( <u>nom</u>, adresse_siege)</tt>\n",
    "* <tt>Vol( <u>numero</u>, nom, aeroport_depart, aeroport_arrivee, nb_places, date, heure_depart, heure_arrivee)</tt>\n",
    "* <tt>Passager( <u>identifiant</u>, numPasseport, nom, prenom)</tt>\n",
    "* <tt>Gere( <u>nomCie</u>, <u>numVol</u>)</tt>\n",
    "* <tt>Etat( <u>numeroVol</u>, <u>idPassager</u>, etat)</tt>\n",
    "* <tt>Appartient( <u>nomCie</u>, <u>idPassager</u>)</tt>\n",
    "\n",
    "Remarques : \n",
    "* état est un entier qui désigne l’état d’avancement de l’enregistrement de la personne (1 pour « réservé », 2 pour « enregistré », 3 pour « à bord »)\n",
    "* le numéro de vol est un numéro de gestion interne auto-incrémenté. \n",
    "* Sur l’espace partagé du cours http://upvdrive.univ-montp3.fr/index.php/s/OWjakm4f1G4dRAn, vous **trouverez un dump** d’une implémentation de ce MOD.\n",
    "\n",
    "**Important !** Les réponses aux questions sont à apporter dans les cellules après les questions. Ces cellules sont Markdown et le fait de démarrer la cellule par <tt>\\`\\`\\` SQL</tt> et de la terminer par <tt>\\`\\`\\`</tt> permet de bénéficier de la coloration syntaxique dans le notebook (après validation de la cellule)."
   ]
  },
  {
   "cell_type": "markdown",
   "metadata": {},
   "source": [
    "**Question 1**\n",
    "\n",
    "Donnez **une** instruction SQL permettant de créer la table ```nomCie```. Tenez compte de l'implémentation fournie."
   ]
  },
  {
   "cell_type": "markdown",
   "metadata": {},
   "source": [
    "**Réponse à la question 1**"
   ]
  },
  {
   "cell_type": "markdown",
   "metadata": {},
   "source": [
    "```SQL\n",
    "Ici votre réponse à la question 1\n",
    "```"
   ]
  },
  {
   "cell_type": "markdown",
   "metadata": {},
   "source": [
    "**Question 2**\n",
    "\n",
    "Donnez ***une*** instruction SQL permettant de vous ajouter comme passager sur les vols <tt>2</tt>, <tt>4</tt> et <tt>6</tt>. Votre identiant de passager sera votre date de naissance au format <tt>AAAAMMJJ</tt> (par exemple <tt>19970907</tt> si vous êtes né(e) le 7 septembre 1997). Pour tous les vols, vous serez dans l'état 1."
   ]
  },
  {
   "cell_type": "markdown",
   "metadata": {},
   "source": [
    "**Réponse à la question 2** : "
   ]
  },
  {
   "cell_type": "markdown",
   "metadata": {},
   "source": [
    "```SQL\n",
    "Ici votre réponse à la question 2\n",
    "```"
   ]
  },
  {
   "cell_type": "markdown",
   "metadata": {},
   "source": [
    "**Question 3**\n",
    "\n",
    "Donnez une intruction SQL permettant de modifier l'état de votre réservation sur le vol ```10``` : le nouvel état sera 2."
   ]
  },
  {
   "cell_type": "markdown",
   "metadata": {},
   "source": [
    "**Réponse à la question 3** : "
   ]
  },
  {
   "cell_type": "markdown",
   "metadata": {},
   "source": [
    "```SQL\n",
    "Ici votre réponse à la question 3\n",
    "```"
   ]
  },
  {
   "cell_type": "markdown",
   "metadata": {},
   "source": [
    "**Question 4**\n",
    "\n",
    "Donnez une instruction SQL fournissant la **liste** des triplets ```(numPasseport, nom, prenom)``` de tous les passagers enregistrés (chaque passager n'apparaîtra qu'une fois)."
   ]
  },
  {
   "cell_type": "markdown",
   "metadata": {},
   "source": [
    "**Réponse à la question 4**"
   ]
  },
  {
   "cell_type": "markdown",
   "metadata": {},
   "source": [
    "```SQL\n",
    "Ici votre réponse à la question 4\n",
    "```"
   ]
  },
  {
   "cell_type": "markdown",
   "metadata": {},
   "source": [
    "**Question 5**\n",
    "\n",
    "Donnez une instruction SQL retournant le **nombre** de triplets ```(numPasseport, nom, prenom)``` de tous les passagers enregistrés (chaque passager n'apparaîtra qu'une fois)."
   ]
  },
  {
   "cell_type": "markdown",
   "metadata": {},
   "source": [
    "**Réponse à la question 5**"
   ]
  },
  {
   "cell_type": "markdown",
   "metadata": {},
   "source": [
    "```SQL\n",
    "Ici votre réponse à la question 5\n",
    "```"
   ]
  },
  {
   "cell_type": "markdown",
   "metadata": {},
   "source": [
    "**Question 6**\n",
    "\n",
    "Donnez une instruction SQL permettant de récupérer la liste de tous les passagers des vols partant de Montpellier."
   ]
  },
  {
   "cell_type": "markdown",
   "metadata": {},
   "source": [
    "**Réponse à la question 6** "
   ]
  },
  {
   "cell_type": "markdown",
   "metadata": {},
   "source": [
    "```SQL\n",
    "Ici votre réponse à la question 6\n",
    "```"
   ]
  },
  {
   "cell_type": "markdown",
   "metadata": {},
   "source": [
    "# Partie 2 - Python (12 points)\n",
    "Pour tous les exercices Python :\n",
    "* Vous pouvez rajouter des blocs de notebook avec des tests\n",
    "* Dans les réponses qui seront apportées, il est interdit d'utiliser des instructions <tt>continue</tt>, <tt>break</tt>. Il est également interdit d'utiliser des instructions <tt>return</tt> à l'intérieur des instructions répétitives.\n",
    "* Vous chercherez à arrêter les traitements dès que possible.\n",
    "* Vous utiliserez préférentiellement l'instruction *for* quand le nombre d'itérations d'un traitement est connu à l'avance. Vous utiliserez préférentiellement l'instructition *while* quand le nombre d'itérations peut varier d'une exécution à l'autre.\n",
    "* Vous chercherez à donner des réponses facilement traductibles dans d'autres langages (donc n'utilisant pas des spécificités trop fortes de Python). Si vous en avez le temps et que vous désirez montrer votre connaissance de Python, vous pouvez apporter une deuxième réponse, plus pythonesque, à certaines questions."
   ]
  },
  {
   "cell_type": "markdown",
   "metadata": {},
   "source": [
    "**Question 1.** Donnez une séquence d'instructions permettant de créer une liste de 3 listes contenant dans l'ordre les informations données dans la table suivante. Le premier élément de chaque sous-liste liste sera une chaîne de caractères, le deuxième un entier, le troisième un nombre flottant.\n",
    "\n",
    "<table>\n",
    "    <tr>\n",
    "        <td>Liste 1 :</td>\n",
    "        <td>Paris</td>\n",
    "        <td>2 190 327</td>\n",
    "        <td>105,40</td>\n",
    "    </tr>\n",
    "    <tr>\n",
    "        <td>Liste 2 :</td>\n",
    "        <td>Lyon</td>\n",
    "        <td>515 695</td>\n",
    "        <td>47,87</td>\n",
    "    </tr>\n",
    "    <tr>\n",
    "        <td>Liste 3 :</td>\n",
    "        <td>Bordeaux</td>\n",
    "        <td>252 040</td>\n",
    "        <td>49,36</td>\n",
    "    </tr>\n",
    "    </table>\n",
    "    "
   ]
  },
  {
   "cell_type": "code",
   "execution_count": 1,
   "metadata": {},
   "outputs": [
    {
     "name": "stdout",
     "output_type": "stream",
     "text": [
      "[['Paris', 2190327, 105.4], ['Lyon', 515695, 47.87], ['Bordeaux', 252040, 49.36]]\n"
     ]
    }
   ],
   "source": [
    "# Réponse 1 : donnez votre séquence d'instructions dans cette cellule après ce commentaire\n",
    "LL=[[\"Paris\",2190327,105.40],[\"Lyon\",515695,47.87],[\"Bordeaux\",252040,49.36]]\n",
    "print(LL)"
   ]
  },
  {
   "cell_type": "markdown",
   "metadata": {},
   "source": [
    "Pour la suite de l'exercice, nous considérons la classe suivante."
   ]
  },
  {
   "cell_type": "code",
   "execution_count": 2,
   "metadata": {},
   "outputs": [],
   "source": [
    "class Ville( ):\n",
    "    def __init__(self, nom, nb_habitants, superficie):\n",
    "        self.nom = nom\n",
    "        self.nb_habitants = nb_habitants\n",
    "        self.superficie = superficie"
   ]
  },
  {
   "cell_type": "markdown",
   "metadata": {},
   "source": [
    "**Question 2.** Donnez une séquence d'instructions permettant de créer une liste de 3 villes contenant les informations contenues dans la table suivante\n",
    "\n",
    "<table>\n",
    "    <tr>\n",
    "        <td>Montpellier</td>\n",
    "        <td>281 613</td>\n",
    "        <td>56,88</td>\n",
    "    </tr>\n",
    "    <tr>\n",
    "        <td>Nîmes</td>\n",
    "        <td>151 001</td>\n",
    "        <td>161,85</td>\n",
    "    </tr>\n",
    "    <tr>\n",
    "        <td>Béziers</td>\n",
    "        <td>76 493</td>\n",
    "        <td>95,48</td>\n",
    "    </tr>\n",
    "</table>\n",
    "    "
   ]
  },
  {
   "cell_type": "code",
   "execution_count": 3,
   "metadata": {},
   "outputs": [
    {
     "name": "stdout",
     "output_type": "stream",
     "text": [
      "Montpellier\n",
      "Nimes\n",
      "Beziers\n"
     ]
    }
   ],
   "source": [
    "# Réponse 2 : donnez votre séquence d'instructions dans cette cellule après ce commentaire\n",
    "LVilles=[Ville(\"Montpellier\",281,56.88),Ville(\"Nimes\",151,161.85),Ville(\"Beziers\",76,95)]\n",
    "for i in range(0,3,1):\n",
    "    print(LVilles[i].nom)\n",
    "    "
   ]
  },
  {
   "cell_type": "markdown",
   "metadata": {},
   "source": [
    "**Question 3.** Compléter la fonction Python suivante :"
   ]
  },
  {
   "cell_type": "code",
   "execution_count": 4,
   "metadata": {},
   "outputs": [],
   "source": [
    "def ajout_Villes( liste_villes_objets, liste_villes_2D ):\n",
    "    \"\"\"\n",
    "    Donnée/Résultat \n",
    "        liste_villes_objets : liste de Ville\n",
    "    Donnée\n",
    "        liste_villes_2D : listes de listes, chaque sous-liste contenant dans l'ordre le nom d'une ville,\n",
    "             le nombre d'habitants, la superficie\n",
    "    Résultat\n",
    "        aucun\n",
    "    Rôle \n",
    "        La fonction ajoute, dans la liste liste_villes_objets, \n",
    "        chacune des villes décrites dans les listes de liste_villes_2D\n",
    "        (chaque ville est stockée sous forme d'une instance de la classe Ville)\n",
    "    \"\"\"\n",
    "    for i in range (0,len(liste_villes_2D)):\n",
    "        liste_villes_objets.append(Ville(liste_villes_2D[i][0],liste_villes_2D[i][1],liste_villes_2D[i][2]))\n",
    "    "
   ]
  },
  {
   "cell_type": "markdown",
   "metadata": {},
   "source": [
    "**Question 4.** Écrire une séquence d'instructions permettant de tester sur un exemple la fonction précédente."
   ]
  },
  {
   "cell_type": "code",
   "execution_count": 5,
   "metadata": {},
   "outputs": [
    {
     "name": "stdout",
     "output_type": "stream",
     "text": [
      "Mtp\n",
      "12\n",
      "13.12\n",
      "Paris\n",
      "80\n",
      "45.1\n"
     ]
    }
   ],
   "source": [
    "# Réponse 4 : donnez votre séquence d'instructions dans cette cellule après ce commentaire\n",
    "liste_villes_objets=[]\n",
    "liste_villes_2D=[[\"Mtp\",12,13.12],[\"Paris\",80,45.10]]\n",
    "ajout_Villes(liste_villes_objets,liste_villes_2D)\n",
    "for i in range (0,len(liste_villes_objets),1):\n",
    "    print(liste_villes_objets[i].nom)\n",
    "    print(liste_villes_objets[i].nb_habitants)\n",
    "    print(liste_villes_objets[i].superficie)"
   ]
  },
  {
   "cell_type": "markdown",
   "metadata": {},
   "source": [
    "**Question 5.** Compléter la fonction suivante"
   ]
  },
  {
   "cell_type": "code",
   "execution_count": 6,
   "metadata": {},
   "outputs": [],
   "source": [
    "def moyenne_sup_seuil( liste_villes, seuil):\n",
    "    \"\"\"\n",
    "    Donnée\n",
    "        liste_villes : liste d'instances de la classe Ville\n",
    "        seuil : nombre\n",
    "    Résultat\n",
    "        nombre\n",
    "    Rôle\n",
    "        Calcule et retourne la moyenne des villes contenues dans liste_villes\n",
    "        dont la superficie est supérieure ou égale à seuil\n",
    "    \"\"\"\n",
    "    somme_habitants=0\n",
    "    moyenne=0\n",
    "    cpt=0\n",
    "    for i in range (0,len(liste_villes),1):\n",
    "        if(liste_villes[i].superficie>=seuil):\n",
    "            somme_habitants+=liste_villes[i].nb_habitants\n",
    "            cpt+=1\n",
    "    moyenne=somme_habitants/cpt \n",
    "    return moyenne"
   ]
  },
  {
   "cell_type": "markdown",
   "metadata": {},
   "source": [
    "**Question 6.** \n",
    "Écrire une séquence de tests de la fonction précédente."
   ]
  },
  {
   "cell_type": "code",
   "execution_count": 7,
   "metadata": {},
   "outputs": [
    {
     "data": {
      "text/plain": [
       "46.0"
      ]
     },
     "execution_count": 7,
     "metadata": {},
     "output_type": "execute_result"
    }
   ],
   "source": [
    "# Réponse 6 : donnez votre séquence d'instructions dans cette cellule après ce commentaire\n",
    "moyenne_sup_seuil(liste_villes_objets,10)"
   ]
  },
  {
   "cell_type": "markdown",
   "metadata": {},
   "source": [
    "**Question 7.** Écrire une fonction permettant de chercher, dans une liste d'instances de la classe Ville, une ville dont le nom est fourni en paramètre. La fonction retournera la première instance trouvée."
   ]
  },
  {
   "cell_type": "code",
   "execution_count": 8,
   "metadata": {},
   "outputs": [],
   "source": [
    "# Réponse 7 : écrivez votre fonction dans cette cellule après ce commentaire\n",
    "def chercher_Ville(liste_villes,nom_ville):\n",
    "    i=0\n",
    "    ok=False\n",
    "    while i<len(liste_villes) and not ok:\n",
    "        if liste_villes[i].nom==nom_ville:\n",
    "            ok=True\n",
    "            nom_a_retourner=liste_villes[i].nom\n",
    "        i+=1\n",
    "    return nom_a_retourner"
   ]
  },
  {
   "cell_type": "markdown",
   "metadata": {},
   "source": [
    "**Question 8.** \n",
    "Écrire une séquence de tests de la fonction précédente."
   ]
  },
  {
   "cell_type": "code",
   "execution_count": 9,
   "metadata": {},
   "outputs": [
    {
     "data": {
      "text/plain": [
       "'Mtp'"
      ]
     },
     "execution_count": 9,
     "metadata": {},
     "output_type": "execute_result"
    }
   ],
   "source": [
    "# Réponse 8 : donnez votre séquence d'instructions dans cette cellule après ce commentaire\n",
    "chercher_Ville(liste_villes_objets,\"Mtp\")\n"
   ]
  },
  {
   "cell_type": "code",
   "execution_count": null,
   "metadata": {},
   "outputs": [],
   "source": []
  }
 ],
 "metadata": {
  "kernelspec": {
   "display_name": "Python 3",
   "language": "python",
   "name": "python3"
  },
  "language_info": {
   "codemirror_mode": {
    "name": "ipython",
    "version": 3
   },
   "file_extension": ".py",
   "mimetype": "text/x-python",
   "name": "python",
   "nbconvert_exporter": "python",
   "pygments_lexer": "ipython3",
   "version": "3.7.0"
  }
 },
 "nbformat": 4,
 "nbformat_minor": 2
}
