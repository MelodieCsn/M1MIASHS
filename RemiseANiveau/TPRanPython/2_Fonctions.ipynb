{
 "cells": [
  {
   "cell_type": "markdown",
   "metadata": {},
   "source": [
    "# Fonctions"
   ]
  },
  {
   "cell_type": "markdown",
   "metadata": {},
   "source": [
    "\"Saisir une liste\" ou \"rechercher\" une valeur dans une liste sont des opérations fréquentes et qu'on peut être amené à réutiliser. Le mieux est d'écrire des fonctions."
   ]
  },
  {
   "cell_type": "code",
   "execution_count": null,
   "metadata": {},
   "outputs": [],
   "source": [
    "def saisie_liste( n ):\n",
    "    \"\"\"\n",
    "    Donnée : n est un entier\n",
    "    Résultat en retour de fonction : une liste de n valeurs\n",
    "    Remarque : si n <= 0, la liste vide est retournée\n",
    "    \"\"\"\n",
    "    print(\"Donnez\", n, \"valeurs\")\n",
    "    lis = []\n",
    "    for i in range(0, n, 1):\n",
    "        val = input(str((i+1))+\"ème valeur : \")\n",
    "        lis.append( val )\n",
    "    return lis"
   ]
  },
  {
   "cell_type": "markdown",
   "metadata": {},
   "source": [
    "A remarquer :\n",
    "* \"\"\"Commentaire de blocs qui peut s'étendre sur plusieurs lignes\"\"\""
   ]
  },
  {
   "cell_type": "code",
   "execution_count": null,
   "metadata": {},
   "outputs": [],
   "source": [
    "ma_liste = saisie_liste( 3 )\n",
    "print( ma_liste )"
   ]
  },
  {
   "cell_type": "code",
   "execution_count": null,
   "metadata": {},
   "outputs": [],
   "source": [
    "def recherche( a_chercher, lis):\n",
    "    \"\"\"\n",
    "    Donnée : a_chercher est une valeur\n",
    "    Donnée : lis est une liste de valeurs\n",
    "    Résultat en retour de fonction : indice de a_chercher dans lis si val y\n",
    "        est présent, -1 sinon\n",
    "    \"\"\"\n",
    "    i = 0\n",
    "    indice = -1\n",
    "    while i < len(lis) and indice == -1:\n",
    "        if lis[i] == a_chercher:\n",
    "            indice = i\n",
    "        else:\n",
    "            i += 1\n",
    "    return indice"
   ]
  },
  {
   "cell_type": "code",
   "execution_count": null,
   "metadata": {},
   "outputs": [],
   "source": [
    "print(recherche(\"3.2\", ma_liste))"
   ]
  },
  {
   "cell_type": "code",
   "execution_count": null,
   "metadata": {},
   "outputs": [],
   "source": [
    "lis = saisie_liste( 4 )\n",
    "print(\"Voilà le tableau saisi : \", end = \"\")\n",
    "print(lis, end=\"\\n\\n\")\n",
    "\n",
    "print(\"Continuons\")\n",
    "a_chercher = input(\"Donnez une valeur à chercher parmi les valeurs précédentes : \")\n",
    "ind = recherche( a_chercher, lis )\n",
    "if ind != -1:\n",
    "    print(\"Votre valeur se trouve à l'indice\", ind, \"dans la liste tableau créée\")\n",
    "else:\n",
    "    print(\"Votre valeur n'est pas présente dans la liste créée\")"
   ]
  },
  {
   "cell_type": "markdown",
   "metadata": {},
   "source": [
    "## Variations en Python et consigne\n",
    "La syntaxe de l'instruction return varie d'un langage à l'autre. Dans Python (mais aussi C, C++, java, ...), l'instruction return arrête l'exécution d'une fonction et renvoie immédiatement la valeur de l'expression après le mot return. Cela peut permettre de simplifier l'écriture d'une fonction comme montré dans les deux blocs suivants. Cela étant dans d'autres langages (Pascal, Ada, ...), l'instruction return n'arrête pas l'exécution de la fonction mais stocke la valeur dans une zone mémoire pour la renvoyer quand la fonction est terminée. En conséquence, dans le cadre de ce module de remise à niveau en informatique, vous n'utiliserez pas la sémantique Python. **Vous n'utiliserez donc pas l'instruction return à l'intérieur d'une structure répétitive** (car cela crée de l'ambiguïté sur le fonctionnement générique de la fonction). Cet exercice de style (consistant à appliquer la consigne précédente facilite l'écriture de séquence d'instructions qui ne sont pas ceux d'une fonction mais une partie de fonction ou une partie d'un programme (un programme est une séquence d'instructions directement exécutable)."
   ]
  },
  {
   "cell_type": "code",
   "execution_count": null,
   "metadata": {},
   "outputs": [],
   "source": [
    "def recherche( a_chercher, lis):\n",
    "    \"\"\"\n",
    "    Donnée : a_chercher est une valeur\n",
    "    Donnée : lis est une liste de valeurs\n",
    "    Résultat en retour de fonction : indice de a_chercher dans lis si val y\n",
    "        est présent, -1 sinon\n",
    "    \"\"\"\n",
    "    i = 0\n",
    "    while i < len(lis):\n",
    "        if lis[i] == a_chercher:\n",
    "            return i\n",
    "        i += 1\n",
    "    return -1"
   ]
  },
  {
   "cell_type": "code",
   "execution_count": null,
   "metadata": {},
   "outputs": [],
   "source": [
    "ma_liste = [\"bleu\", \"blanc\", \"rouge\"]\n",
    "print(recherche(\"rouge\", ma_liste))"
   ]
  },
  {
   "cell_type": "code",
   "execution_count": null,
   "metadata": {},
   "outputs": [],
   "source": [
    "# Solution non correcte dans le cadre de ce module\n",
    "def recherche( a_chercher, lis):\n",
    "    \"\"\"\n",
    "    Donnée : a_chercher est une valeur\n",
    "    Donnée : lis est une liste de valeurs\n",
    "    Résultat en retour de fonction : indice de a_chercher dans lis si val y\n",
    "        est présent, -1 sinon\n",
    "    \"\"\"\n",
    "    for i in range(len(lis)):\n",
    "        if lis[i] == a_chercher:\n",
    "            return i\n",
    "    return -1"
   ]
  },
  {
   "cell_type": "code",
   "execution_count": null,
   "metadata": {},
   "outputs": [],
   "source": [
    "ma_liste = [\"bleu\", \"blanc\", \"rouge\"]\n",
    "print(recherche(\"rouge\", ma_liste))"
   ]
  },
  {
   "cell_type": "markdown",
   "metadata": {},
   "source": [
    "Vous pourrez observer que dans les deux dernières versions Python de la fonction recherche, les spécifications ne sont pas modifiées. Seul le corps (le traitement) est modifié."
   ]
  }
 ],
 "metadata": {
  "kernelspec": {
   "display_name": "Python 3",
   "language": "python",
   "name": "python3"
  },
  "language_info": {
   "codemirror_mode": {
    "name": "ipython",
    "version": 3
   },
   "file_extension": ".py",
   "mimetype": "text/x-python",
   "name": "python",
   "nbconvert_exporter": "python",
   "pygments_lexer": "ipython3",
   "version": "3.7.0"
  }
 },
 "nbformat": 4,
 "nbformat_minor": 2
}
