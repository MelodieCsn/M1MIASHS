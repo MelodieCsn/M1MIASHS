{
 "cells": [
  {
   "cell_type": "markdown",
   "metadata": {},
   "source": [
    "# Listes"
   ]
  },
  {
   "cell_type": "markdown",
   "metadata": {},
   "source": [
    "Les listes jouent le rôle des tableaux dans d'autres langages."
   ]
  },
  {
   "cell_type": "code",
   "execution_count": 1,
   "metadata": {},
   "outputs": [],
   "source": [
    "x = [] # La liste vide"
   ]
  },
  {
   "cell_type": "code",
   "execution_count": 2,
   "metadata": {},
   "outputs": [],
   "source": [
    "y = [2, 6, \"rouge\", True, 3.6] # Une liste avec des valeurs de types différents"
   ]
  },
  {
   "cell_type": "markdown",
   "metadata": {},
   "source": [
    "Les éléments de la liste sont indicés à partir de 0."
   ]
  },
  {
   "cell_type": "code",
   "execution_count": 3,
   "metadata": {},
   "outputs": [
    {
     "data": {
      "text/plain": [
       "2"
      ]
     },
     "execution_count": 3,
     "metadata": {},
     "output_type": "execute_result"
    }
   ],
   "source": [
    "y[0]"
   ]
  },
  {
   "cell_type": "code",
   "execution_count": 4,
   "metadata": {},
   "outputs": [
    {
     "ename": "IndexError",
     "evalue": "list index out of range",
     "output_type": "error",
     "traceback": [
      "\u001b[0;31m---------------------------------------------------------------------------\u001b[0m",
      "\u001b[0;31mIndexError\u001b[0m                                Traceback (most recent call last)",
      "\u001b[0;32m<ipython-input-4-2f755f117ac9>\u001b[0m in \u001b[0;36m<module>\u001b[0;34m\u001b[0m\n\u001b[0;32m----> 1\u001b[0;31m \u001b[0mx\u001b[0m\u001b[0;34m[\u001b[0m\u001b[0;36m0\u001b[0m\u001b[0;34m]\u001b[0m\u001b[0;34m\u001b[0m\u001b[0;34m\u001b[0m\u001b[0m\n\u001b[0m",
      "\u001b[0;31mIndexError\u001b[0m: list index out of range"
     ]
    }
   ],
   "source": [
    "x[0]"
   ]
  },
  {
   "cell_type": "markdown",
   "metadata": {},
   "source": [
    "Le nombre d'éléments peut être obtenu grâce à la fonction *len* (en temps O(1))"
   ]
  },
  {
   "cell_type": "code",
   "execution_count": 5,
   "metadata": {},
   "outputs": [
    {
     "data": {
      "text/plain": [
       "5"
      ]
     },
     "execution_count": 5,
     "metadata": {},
     "output_type": "execute_result"
    }
   ],
   "source": [
    "len(y)"
   ]
  },
  {
   "cell_type": "code",
   "execution_count": 6,
   "metadata": {},
   "outputs": [
    {
     "ename": "IndexError",
     "evalue": "list index out of range",
     "output_type": "error",
     "traceback": [
      "\u001b[0;31m---------------------------------------------------------------------------\u001b[0m",
      "\u001b[0;31mIndexError\u001b[0m                                Traceback (most recent call last)",
      "\u001b[0;32m<ipython-input-6-4bc0d3a4da3a>\u001b[0m in \u001b[0;36m<module>\u001b[0;34m\u001b[0m\n\u001b[0;32m----> 1\u001b[0;31m \u001b[0my\u001b[0m\u001b[0;34m[\u001b[0m\u001b[0mlen\u001b[0m\u001b[0;34m(\u001b[0m\u001b[0my\u001b[0m\u001b[0;34m)\u001b[0m\u001b[0;34m]\u001b[0m\u001b[0;34m\u001b[0m\u001b[0;34m\u001b[0m\u001b[0m\n\u001b[0m",
      "\u001b[0;31mIndexError\u001b[0m: list index out of range"
     ]
    }
   ],
   "source": [
    "y[len(y)]"
   ]
  },
  {
   "cell_type": "code",
   "execution_count": 7,
   "metadata": {},
   "outputs": [
    {
     "data": {
      "text/plain": [
       "3.6"
      ]
     },
     "execution_count": 7,
     "metadata": {},
     "output_type": "execute_result"
    }
   ],
   "source": [
    "y[len(y)-1]"
   ]
  },
  {
   "cell_type": "markdown",
   "metadata": {},
   "source": [
    "Concaténer deux listes"
   ]
  },
  {
   "cell_type": "code",
   "execution_count": 8,
   "metadata": {},
   "outputs": [
    {
     "data": {
      "text/plain": [
       "[1, 2, 6, 9, 10]"
      ]
     },
     "execution_count": 8,
     "metadata": {},
     "output_type": "execute_result"
    }
   ],
   "source": [
    "[1, 2] + [6, 9, 10]"
   ]
  },
  {
   "cell_type": "markdown",
   "metadata": {},
   "source": [
    "Ajouter des éléments dans une liste"
   ]
  },
  {
   "cell_type": "code",
   "execution_count": 9,
   "metadata": {},
   "outputs": [
    {
     "name": "stdout",
     "output_type": "stream",
     "text": [
      "[3, 8, 10, -1, 2, 100]\n",
      "3 8 10 -1 2 100\n"
     ]
    }
   ],
   "source": [
    "lis = [3, 8, 10, -1, 2]\n",
    "lis.append(100) # Une liste est un objet ; append est une méthode de cet objet\n",
    "print(lis)\n",
    "print(*lis)"
   ]
  },
  {
   "cell_type": "code",
   "execution_count": 11,
   "metadata": {},
   "outputs": [
    {
     "name": "stdout",
     "output_type": "stream",
     "text": [
      "[300, 3, 8, 10, -1, 2, 100, 200, 200]\n"
     ]
    }
   ],
   "source": [
    "lis += [200]\n",
    "lis = [300]+lis # insertion en tête - plus coûteuse en temps\n",
    "# Il existe d'autres méthodes\n",
    "print(lis)"
   ]
  },
  {
   "cell_type": "markdown",
   "metadata": {},
   "source": [
    "## Quelques traitements plus complexes"
   ]
  },
  {
   "cell_type": "code",
   "execution_count": 12,
   "metadata": {},
   "outputs": [
    {
     "name": "stdout",
     "output_type": "stream",
     "text": [
      "Donnez 5 valeurs\n",
      "1ème valeur : 1\n",
      "2ème valeur : 2\n",
      "3ème valeur : 3\n",
      "4ème valeur : 4\n",
      "5ème valeur : 6\n",
      "Les 5 valeurs ont été saisies et rangées dans un tableau.\n",
      "Le voilà : ['1', '2', '3', '4', '6']\n"
     ]
    }
   ],
   "source": [
    "# Saisie d'une liste de 5 éléments\n",
    "# Exercice : modifier le code pour effectuer la saisie d'un nombre quelconque mais prédéterminé d'éléments\n",
    "print(\"Donnez 5 valeurs\")\n",
    "t = [] \n",
    "for i in range(0, 5, 1):\n",
    "    val = input(str((i+1))+\"ème valeur : \")\n",
    "    t.append( val )\n",
    "print(\"Les 5 valeurs ont été saisies et rangées dans un tableau.\")\n",
    "print(\"Le voilà : \", end=\"\")\n",
    "print(t)"
   ]
  },
  {
   "cell_type": "code",
   "execution_count": 13,
   "metadata": {},
   "outputs": [
    {
     "name": "stdout",
     "output_type": "stream",
     "text": [
      "Donnez une valeur à chercher parmi les valeurs précédentes : 2\n",
      "Votre valeur se trouve à l'indice 1 dans la liste créée\n"
     ]
    }
   ],
   "source": [
    "# Recherche d'une valeur dans la liste t\n",
    "a_chercher = input(\"Donnez une valeur à chercher parmi les valeurs précédentes : \")\n",
    "i = 0\n",
    "trouve= False\n",
    "while i < len(t) and not trouve:\n",
    "    if t[i] == a_chercher:\n",
    "        trouve = True\n",
    "    else:\n",
    "        i += 1\n",
    "if trouve:\n",
    "    print(\"Votre valeur se trouve à l'indice\", i, \"dans la liste créée\")\n",
    "else:\n",
    "    print(\"Votre valeur n'est pas présente dans la liste créée\")"
   ]
  },
  {
   "cell_type": "markdown",
   "metadata": {},
   "source": [
    "**Remarque et consigne** : en Python, la recherche peut s'effectuer via l'opérateur `in`. Cet opérateur n'existe pas dans d'autres langages. Vous ne l'utiliserez pas dans le cadre du cours. Vous devez savoir vous en passer et donc mettre en oeuvre le traitement de base de la recherche précédente."
   ]
  },
  {
   "cell_type": "code",
   "execution_count": 14,
   "metadata": {},
   "outputs": [
    {
     "name": "stdout",
     "output_type": "stream",
     "text": [
      "True\n",
      "False\n"
     ]
    }
   ],
   "source": [
    "print(5 in [3, 4, 5, 6])\n",
    "print(5 in ['3', '4', '5', '6'])"
   ]
  },
  {
   "cell_type": "markdown",
   "metadata": {},
   "source": [
    "**Truc et astuce :** pour rester avec les spécificités Python qui simplifient énormément la vie, notons qu'il est possible de définir des listes en compréhension."
   ]
  },
  {
   "cell_type": "code",
   "execution_count": 18,
   "metadata": {},
   "outputs": [
    {
     "name": "stdout",
     "output_type": "stream",
     "text": [
      "[0, 1, 4, 9, 16, 25, 36, 49, 64, 81, 100]\n"
     ]
    }
   ],
   "source": [
    "squares = [i**2 for i in range(11)]\n",
    "print(squares)"
   ]
  },
  {
   "cell_type": "code",
   "execution_count": 19,
   "metadata": {},
   "outputs": [
    {
     "name": "stdout",
     "output_type": "stream",
     "text": [
      "[0, 1, 4, 9, 16, 25, 36, 49, 64, 81, 100]\n"
     ]
    }
   ],
   "source": [
    "squares = []\n",
    "for i in range(11):\n",
    "    squares.append(i**2)\n",
    "print(squares)"
   ]
  },
  {
   "cell_type": "markdown",
   "metadata": {},
   "source": [
    "**Consigne**\n",
    "\n",
    "Comme cette spécificité n'existe pas dans d'autres langages, vous ne l'utiliserez pas dans le cadre de ce cours de mise à niveau. Vous devez savoir vous en passer."
   ]
  },
  {
   "cell_type": "code",
   "execution_count": null,
   "metadata": {},
   "outputs": [],
   "source": [
    "# Mais c'est une spécificité dont on peut se passer en écrivant le traitement de manière plus classique\n",
    "squares = []\n",
    "for i in range(11):\n",
    "    squares.append(i**2)\n",
    "print(squares)"
   ]
  },
  {
   "cell_type": "code",
   "execution_count": null,
   "metadata": {},
   "outputs": [],
   "source": [
    "# Autre exemple pour mesurer la puissance de Python\n",
    "lis = [i**2 for i in range(11) if (i%2 == 0)]"
   ]
  },
  {
   "cell_type": "markdown",
   "metadata": {},
   "source": [
    "**Exercice.** Écrivez une séquence d'instructions permettant de construire lis, à l'aide d'une structure répétitive, en n'utilisant pas la possibilité de construction d'une liste par extension."
   ]
  }
 ],
 "metadata": {
  "kernelspec": {
   "display_name": "Python 3",
   "language": "python",
   "name": "python3"
  },
  "language_info": {
   "codemirror_mode": {
    "name": "ipython",
    "version": 3
   },
   "file_extension": ".py",
   "mimetype": "text/x-python",
   "name": "python",
   "nbconvert_exporter": "python",
   "pygments_lexer": "ipython3",
   "version": "3.7.0"
  }
 },
 "nbformat": 4,
 "nbformat_minor": 2
}
