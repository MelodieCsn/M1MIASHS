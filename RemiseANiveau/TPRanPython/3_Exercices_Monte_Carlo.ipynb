{
 "cells": [
  {
   "cell_type": "markdown",
   "metadata": {},
   "source": [
    "# Estimation de $\\pi$ par la méthode de Monte-Carlo\n",
    "## Principe de la méthode\n",
    "Le principe de la méthode consiste à :\n",
    "* Fixer une valeur nb\n",
    "* réaliser nb tirages aléatoires de paires $(x, y)$ de nombres entre -1 et 1\n",
    "* compter le nombre de paires aléatoires vérifiant $x^2 + y^2 \\leq 1$ : notons dc ce nombre (dc est ici une abréviation pour \"dans le cercle\", voir explications ci-après)\n",
    "* L'estimation de $\\pi$ est donnée par la valeur de : $\\frac{4 \\text{dc}}{\\text{nb}}$.\n",
    "\n",
    "## Quelques explications complémentaires\n",
    "\n",
    "* une paire de $(x, y)$ de nombres entre -1 et 1 représente un point situé dans le carré centré en $(0, 0)$ et de côté $2$ (et donc de surface 4 puisque la surface d'un carré de côté \n",
    "de longueur $c$ est $c^2$)\n",
    "\n",
    "* une paire de $(x, y)$ qui vérifient $x^2 + y^2 \\leq 1$ représente un point situé dans le cercle unité (la surface de ce cercle est $\\pi$ puisque la surface d'un cercle de rayon $r$ est $\\pi r^2$).\n",
    "\n",
    "* avec le tirage d'un grand nombre de points qui se répartissent uniformément dans le carré, le rapport donne l'estimation de $\\pi$.\n",
    "\n",
    "## Remarque :\n",
    "La convergence du calcul est en lent."
   ]
  },
  {
   "cell_type": "code",
   "execution_count": null,
   "metadata": {},
   "outputs": [],
   "source": [
    "# Module permettant d'effectuer des tirages aléatoires de nombres\n",
    "from random import *\n",
    "# Après l'import précédent, l'appel de la fonction random() renvoie \n",
    "# un nombre aléatoire entre 0 et 1\n",
    "# Remarque : il existe une fonction aléatoire permettant de tirer un nombre entre\n",
    "# deux bornes. Il est demandé ici d'utiliser la fonction random()\n",
    "# Mais dans un deuxième temps, vous pourrez chercher dans la documentation Python."
   ]
  },
  {
   "cell_type": "markdown",
   "metadata": {},
   "source": [
    "## Exercice\n",
    "Compléter la cellule suivante avec une séquence d'instructions mettant en oeuvre la méthode de Monte-Carlo.\n",
    "Vous établirez votre code au départ avec nb=10, puis quand vous penserez qu'il fonctionne, vous l'exécuterez avec des valeurs de nb de plus en plus grande : nb = 100, 1 000, ..., 1 000 000, ..., 100 000 000."
   ]
  },
  {
   "cell_type": "code",
   "execution_count": 31,
   "metadata": {},
   "outputs": [
    {
     "name": "stdout",
     "output_type": "stream",
     "text": [
      "l'estimation du nombre pi avec un tirage de taille  1000000  est  3.143272\n"
     ]
    }
   ],
   "source": [
    "# paramètres : nb, un entier, le nombre de tirages de chiffres entre -1 et 1\n",
    "# sortie : p, une estimation du nombre pi en utilisant la methode de Monte Carlo\n",
    "from random import *\n",
    "nb = 1000000\n",
    "dc = 0\n",
    "for i in range(0,nb,1):\n",
    "    x=random()\n",
    "    if x>=0.5 : \n",
    "        x = x*(-1)\n",
    "    y=random()\n",
    "    if y>=0.5 : \n",
    "        y = y*(-1)\n",
    "    if x*x+y*y<=1 : \n",
    "        dc += 1\n",
    "p=(4*dc)/nb\n",
    "print(\"l'estimation du nombre pi avec un tirage de taille \",nb,\" est \",p)\n"
   ]
  },
  {
   "cell_type": "code",
   "execution_count": null,
   "metadata": {},
   "outputs": [],
   "source": []
  }
 ],
 "metadata": {
  "kernelspec": {
   "display_name": "Python 3",
   "language": "python",
   "name": "python3"
  },
  "language_info": {
   "codemirror_mode": {
    "name": "ipython",
    "version": 3
   },
   "file_extension": ".py",
   "mimetype": "text/x-python",
   "name": "python",
   "nbconvert_exporter": "python",
   "pygments_lexer": "ipython3",
   "version": "3.7.0"
  }
 },
 "nbformat": 4,
 "nbformat_minor": 2
}
