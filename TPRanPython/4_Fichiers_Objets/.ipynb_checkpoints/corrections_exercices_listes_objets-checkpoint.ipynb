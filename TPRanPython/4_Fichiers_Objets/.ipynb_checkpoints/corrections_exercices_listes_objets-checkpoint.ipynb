{
 "cells": [
  {
   "cell_type": "markdown",
   "metadata": {},
   "source": [
    "# Corrections exercices sur les listes d'objets"
   ]
  },
  {
   "cell_type": "markdown",
   "metadata": {},
   "source": [
    "**Exercice** \n",
    "1. Écrivez une classe Client telle que les attributs des objets de type Client correspondent aux champs de la table Client vue en TD de base de données.\n",
    "2. Écrivez une fonction permettant de lire un fichier CSV contenant des données sur des clients et de stocker les informations dans une liste d'instance de la classe Client. Vous pourrez utiliser le fichier Client.csv fourni ou en générer un par export à partir de votre gestionnaire de base de données.\n",
    "3. Écrivez une fonction permettant de déterminer s'il existe (retour booléen) un client avec un nom donné (à partir d'une liste de Client).\n",
    "4. Écrivez une fonction permettant d'afficher tous les clients avec un nom donné (à partir d'une liste de Client)."
   ]
  },
  {
   "cell_type": "code",
   "execution_count": null,
   "metadata": {},
   "outputs": [],
   "source": [
    "# Question 1\n",
    "class Client:\n",
    "    def __init__( self, idclient, nom, prenom, adresse, age):\n",
    "        self.idclient = idclient\n",
    "        self.nom = nom\n",
    "        self.prenom = prenom\n",
    "        self.adresse = adresse\n",
    "        self.age = age\n",
    "        \n",
    "    def __str__( self ):\n",
    "        \"\"\"Méthode retournant une description pour pouvoir afficher un client\"\"\"\n",
    "        # Exemple d'instruction sur plusieurs lignes\n",
    "        return \"Identifiant = \" + self.idclient \\\n",
    "                + \", Nom = \" + self.nom         \\\n",
    "                + \", Prenom = \" + self.prenom   \\\n",
    "                + \", Adresse = \" + self.adresse \\\n",
    "                + \", Age = \" + self.age"
   ]
  },
  {
   "cell_type": "code",
   "execution_count": null,
   "metadata": {},
   "outputs": [],
   "source": [
    "# Test question 1\n",
    "c = Client(\"1\",\"Bond\", \"James\", \"MI5\", \"indéfini\")\n",
    "print(c)"
   ]
  },
  {
   "cell_type": "code",
   "execution_count": null,
   "metadata": {},
   "outputs": [],
   "source": [
    "# Question 2\n",
    "import csv\n",
    "import sys\n",
    "def lire_fichier_csv_Clients( nom_fichier, delim = \";\" ):\n",
    "    \"\"\"\n",
    "    La fonction lire_fichier_csv retourne le contenu du fichier de nom nom_fichier sous forme\n",
    "      d'une liste de Clients\n",
    "    Le fichier est supposé être au format csv avec comme délimiteur delim (; par défaut.\n",
    "    Chaque ligne est supposée contenir 5 informations qui sont dans l'ordre :\n",
    "      un identifiant, un nom, un prénom, une adresse, un age\n",
    "    Données :\n",
    "        nom_fichier : une chaîne de caractères désignant le nom du fichier à ouvrir\n",
    "        delim : chaîne de caractères de longueur 1\n",
    "    Résultat :\n",
    "        liste de Client\n",
    "    \"\"\"\n",
    "    try:\n",
    "        file_descriptor = open( nom_fichier, \"r\", encoding=\"utf-8\" ) \n",
    "        csv_reader = csv.reader(file_descriptor, delimiter = delim)\n",
    "        res = []\n",
    "        for ligne in csv_reader:\n",
    "            identifiant = ligne[0] # On pourrait se passer des variables identifiant, nom, ...\n",
    "            nom = ligne[1]         # en écrivant les 6 lignes du for en une seule ligne\n",
    "            prenom = ligne[2]\n",
    "            adresse= ligne[3]\n",
    "            age = ligne[4]\n",
    "            res.append(Client(identifiant, nom, prenom, adresse, age))\n",
    "        file_descriptor.close()\n",
    "        return res\n",
    "    except:\n",
    "        print(\"Problème de fichier : \", sys.exc_info()[0])\n",
    "        return []"
   ]
  },
  {
   "cell_type": "code",
   "execution_count": null,
   "metadata": {},
   "outputs": [],
   "source": [
    "# Non demandé = ajout d'une fonction d'affichage d'une liste (fonctionne avec des listes de n'importe quoi)\n",
    "# pour faciliter les tests\n",
    "def affiche_liste( lis ):\n",
    "    \"\"\"\n",
    "    Données : lis\n",
    "    Rôle : affiche chaque élément d'une liste sur une ligne\n",
    "    \"\"\"\n",
    "    for i in range(len(lis)):\n",
    "        print(lis[i])"
   ]
  },
  {
   "cell_type": "code",
   "execution_count": null,
   "metadata": {},
   "outputs": [],
   "source": [
    "lis = lire_fichier_csv_Clients(\"Client.csv\")\n",
    "affiche_liste( lis )\n",
    "print(lis) # pour voir que la fonction affiche_liste est utile"
   ]
  },
  {
   "cell_type": "code",
   "execution_count": null,
   "metadata": {},
   "outputs": [],
   "source": [
    "# Question 3\n",
    "def recherche_client_par_nom( lis_clients, nom):\n",
    "    \"\"\"\n",
    "    Données : \n",
    "       lis_clients : liste de Client\n",
    "       nom : chaînes de caractères\n",
    "    Résultat\n",
    "        booléen\n",
    "    Rôle : retourne True si lis_clients contient un client de nom la valeur du paramègtre nom\n",
    "           retourne False sinon\n",
    "    \"\"\"\n",
    "    i = 0\n",
    "    trouve = False\n",
    "    while i < len(lis_clients) and not trouve:\n",
    "        if lis_clients[i].nom == nom:\n",
    "            trouve = True\n",
    "        else:\n",
    "            i+= 1\n",
    "    return trouve"
   ]
  },
  {
   "cell_type": "code",
   "execution_count": null,
   "metadata": {},
   "outputs": [],
   "source": [
    "print(recherche_client_par_nom( lis, \"nom2\"))\n",
    "print(recherche_client_par_nom( lis, \"Nom2\"))"
   ]
  },
  {
   "cell_type": "code",
   "execution_count": null,
   "metadata": {},
   "outputs": [],
   "source": [
    "# Question 4\n",
    "def affiche_clients_de_nom_donne( liste_clients, nom):\n",
    "    \"\"\"\n",
    "    Données : \n",
    "       lis_clients : liste de Client\n",
    "       nom : chaînes de caractères\n",
    "    Résultat\n",
    "        Aucun\n",
    "    Rôle : affiche la liste des Client dont le nom a la valeur du paramètre nom\n",
    "    \"\"\"\n",
    "    for i in range(0,len(liste_clients),1):\n",
    "        if liste_clients[i].nom == nom:\n",
    "            print(liste_clients[i])"
   ]
  },
  {
   "cell_type": "code",
   "execution_count": null,
   "metadata": {},
   "outputs": [],
   "source": [
    "val=\"nom2\"\n",
    "print(\"Recherche des clients de nom : \", val)\n",
    "affiche_clients_de_nom_donne( lis, val)\n",
    "val=\"Nom2\"\n",
    "print(\"Recherche des clients de nom : \", val)\n",
    "affiche_clients_de_nom_donne( lis, val)"
   ]
  },
  {
   "cell_type": "markdown",
   "metadata": {},
   "source": [
    "**Exercice** \n",
    "1. Écrivez une classe Produit telle que les attributs d'un objet de type Produit soient : un identifiant, un nom, une quantité, un prix.\n",
    "2. Écrivez une méthode permettant de calculer la valeur d'un stock représenté parune liste d'objets de type Produit (somme des multiplications *quantité* par *prix* des différents produts de la liste)"
   ]
  },
  {
   "cell_type": "code",
   "execution_count": null,
   "metadata": {},
   "outputs": [],
   "source": [
    "# Question 1\n",
    "class Produit:\n",
    "    def __init__(self, identifiant, nom, quantite, prix):\n",
    "        \"\"\"\n",
    "        identifiant et nom sont des chaînes de caractères\n",
    "        quantite est un entier\n",
    "        prix est un nombre flottant\n",
    "        \"\"\"\n",
    "        self.identifiant = identifiant\n",
    "        self.nom = nom\n",
    "        self.quantite = quantite\n",
    "        self.prix = prix"
   ]
  },
  {
   "cell_type": "code",
   "execution_count": null,
   "metadata": {},
   "outputs": [],
   "source": [
    "# Exemple de définition d'instance\n",
    "p = Produit(\"id1\", \"Gomme\", 110, 1.1)"
   ]
  },
  {
   "cell_type": "code",
   "execution_count": null,
   "metadata": {},
   "outputs": [],
   "source": [
    "# Question 2\n",
    "def valeur_stock( liste_produits):\n",
    "    \"\"\"\n",
    "    Données : liste de Produit\n",
    "    Rôle : calcule la valeur du stock (somme des produits des prix par la quantité)\n",
    "    Résultat : nombre\n",
    "    \"\"\"\n",
    "    somme = 0\n",
    "    for i in range(len(liste_produits)):\n",
    "        somme += liste_produits[i].quantite * liste_produits[i].prix\n",
    "    return somme"
   ]
  },
  {
   "cell_type": "code",
   "execution_count": null,
   "metadata": {},
   "outputs": [],
   "source": [
    "liste = [Produit(\"\",\"\",10,2.5), Produit(\"\",\"\",5,10), Produit(\"\",\"\",25,1)] # une liste dont la valeur stockée \n",
    "                                                                         # a été \"arranfgée\"\n",
    "print(valeur_stock(liste))"
   ]
  },
  {
   "cell_type": "markdown",
   "metadata": {},
   "source": [
    "# Corrections exercices sur les listes de listes"
   ]
  },
  {
   "cell_type": "markdown",
   "metadata": {},
   "source": [
    "**Exercice**\n",
    "\n",
    "Écrivez une fonction permettant de déterminer si toutes les lignes d'une liste de listes sont de même longueur."
   ]
  },
  {
   "cell_type": "code",
   "execution_count": null,
   "metadata": {},
   "outputs": [],
   "source": [
    "def est_rectangulaire( ll ):\n",
    "    \"\"\"\n",
    "    Données : ll : une liste de liste\n",
    "    Résultat : booléen\n",
    "    Rôle : retourne True si toutes les listes ont même longueur\n",
    "           retourne False sinon\n",
    "    \"\"\"\n",
    "    i = 1\n",
    "    ok = True\n",
    "    while i < len(ll) and ok:\n",
    "        if len(ll[i]) == len(ll[i-1]):\n",
    "            i+=1\n",
    "        else:\n",
    "            ok = False\n",
    "    return ok"
   ]
  },
  {
   "cell_type": "code",
   "execution_count": null,
   "metadata": {},
   "outputs": [],
   "source": [
    "ll = [[1, 2, 3], [4, 5, 6], [7, 8, 9], [0, 1, 2]]\n",
    "print(\"Test 1 ok ?\", est_rectangulaire(ll))\n",
    "ll = [[1, 2, 3], [4, 5, 6], [1, 2, 8, 9], [0, 1, 2]]\n",
    "print(\"Test 2 ok ?\", not est_rectangulaire(ll))\n",
    "ll = []\n",
    "print(\"Test 3 ok ?\", est_rectangulaire(ll))\n",
    "ll = [[], [], []]\n",
    "print(\"Test 4 ok ?\", est_rectangulaire(ll))\n",
    "\n",
    "ll = [[], [[]], []]\n",
    "print(\"Test 5 ok ?\", not est_rectangulaire(ll))"
   ]
  },
  {
   "cell_type": "markdown",
   "metadata": {},
   "source": [
    "**Exercice**\n",
    "\n",
    "Écrivez une fonction pour calculer la somme d'une liste de listes d'entiers."
   ]
  },
  {
   "cell_type": "code",
   "execution_count": null,
   "metadata": {},
   "outputs": [],
   "source": [
    "def somme_liste_de_listes( ll ) :\n",
    "    \"\"\"\n",
    "    Données ll : liste de listes\n",
    "    Résultat : nombre (entier si ll ne contient que des entiers, flottant sinono)\n",
    "    Rôle calcule la somme des éléments de ll\n",
    "    Remarque : ll n'est pas nécessairement rectangulaire\n",
    "    \"\"\"\n",
    "    s = 0\n",
    "    for i in range( 0, len(ll), 1 ):\n",
    "        for j in range( 0, len(ll[i]), 1):\n",
    "            s += ll[i][j]\n",
    "    return s"
   ]
  },
  {
   "cell_type": "code",
   "execution_count": null,
   "metadata": {},
   "outputs": [],
   "source": [
    "ll = [[1, 2, 3], [7, 8, 9], [7, 8, 9], [3, 2, 1]]\n",
    "print(\"Test 1 ok ?\", somme_liste_de_listes(ll)==60)\n",
    "ll = [[1, 1, 1], [1, 1, 1], [1, 1, 1, 1], [0, 1, 1]]\n",
    "print(\"Test 2 ok ?\", somme_liste_de_listes(ll)==12)\n",
    "ll = []\n",
    "print(\"Test 3 ok ?\", somme_liste_de_listes(ll)==0)\n",
    "ll = [[], [], []]\n",
    "print(\"Test 4 ok ?\", somme_liste_de_listes(ll)==0)"
   ]
  },
  {
   "cell_type": "markdown",
   "metadata": {},
   "source": [
    "**Exercice**\n",
    "\n",
    "Écrivez une fonction déterminant si un entier est présent dans une liste de listes d'entiers.\n"
   ]
  },
  {
   "cell_type": "code",
   "execution_count": null,
   "metadata": {},
   "outputs": [],
   "source": [
    "# Remarque le type des éléments n'a en fait pas d'importance\n",
    "def est_present_liste_de_listes( ll, valeur ):\n",
    "    \"\"\"\n",
    "    Données : ll : liste de listes \n",
    "    Résultat : booléen\n",
    "    Rôle : retourne True si un élément de ll vaut valeur, retourne False sinon\n",
    "    \"\"\"\n",
    "    trouve = False\n",
    "    i = 0\n",
    "    while i < len(ll) and not trouve:\n",
    "        j = 0\n",
    "        while j < len( ll[i] ) and not trouve:\n",
    "            if ll[i][j] == valeur:\n",
    "                trouve = True\n",
    "            else:\n",
    "                j+= 1\n",
    "        i+= 1\n",
    "    return trouve"
   ]
  },
  {
   "cell_type": "code",
   "execution_count": null,
   "metadata": {},
   "outputs": [],
   "source": [
    "ll = [[1, 2, 3], [7, 8, 9], [7, 8, 9], [3, 2, 1]]\n",
    "print(\"Recherches dans la liste\",ll)\n",
    "valeurs = [1, 8, 10, -1, 2]\n",
    "for elt in valeurs : # Instruction à ne pas utiliser à l'examen... mais tellement pratique\n",
    "    print(\"Est-ce que \", elt, \"est présent ?\", est_present_liste_de_listes(ll, elt))"
   ]
  }
 ],
 "metadata": {
  "kernelspec": {
   "display_name": "Python 3",
   "language": "python",
   "name": "python3"
  },
  "language_info": {
   "codemirror_mode": {
    "name": "ipython",
    "version": 3
   },
   "file_extension": ".py",
   "mimetype": "text/x-python",
   "name": "python",
   "nbconvert_exporter": "python",
   "pygments_lexer": "ipython3",
   "version": "3.7.0"
  }
 },
 "nbformat": 4,
 "nbformat_minor": 2
}
