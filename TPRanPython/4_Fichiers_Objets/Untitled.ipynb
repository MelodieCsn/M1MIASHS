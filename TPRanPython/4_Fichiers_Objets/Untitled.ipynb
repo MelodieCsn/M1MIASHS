{
 "cells": [
  {
   "cell_type": "code",
   "execution_count": 1,
   "metadata": {},
   "outputs": [],
   "source": [
    "class Client:\n",
    "    def __init__( self, numC, nom, prenom, adresse, nombre):\n",
    "        self.numC = numC\n",
    "        self.nom = nom\n",
    "        self.prenom = prenom\n",
    "        self.adresse = adresse\n",
    "        self.nombre = nombre\n",
    "\n",
    "        \n",
    "    def __str__( self ):\n",
    "        \"\"\"Méthode retournant une description pour pouvoir afficher un client\"\"\"\n",
    "        return \"Numéro = \" + self.numC + \", Nom = \"+ self.nom + \", prenom = \" + self.prenom +\", adresse = \"+ self.adresse+\", nombre = \"+self.nombre\n",
    "        "
   ]
  },
  {
   "cell_type": "code",
   "execution_count": 2,
   "metadata": {},
   "outputs": [
    {
     "name": "stdout",
     "output_type": "stream",
     "text": [
      "Numéro = 3, Nom = Charles, prenom = Magne, adresse = chateau, nombre = 10\n"
     ]
    }
   ],
   "source": [
    "client = Client(\"3\",\"Charles\",\"Magne\",\"chateau\",\"10\")\n",
    "print(client)"
   ]
  },
  {
   "cell_type": "code",
   "execution_count": 39,
   "metadata": {},
   "outputs": [],
   "source": [
    "import csv\n",
    "import sys\n",
    "def ListeInstanceClient(nomFichier, delim = \";\"):\n",
    "    try:\n",
    "        file_descriptor = open( nomFichier, \"r\", encoding=\"utf-8\" )\n",
    "        csv_reader = csv.reader(file_descriptor, delimiter = delim)\n",
    "        li = []\n",
    "        liste_clients = []\n",
    "        for ligne in csv_reader:\n",
    "            li.append(ligne)       \n",
    "        file_descriptor.close()\n",
    "        for i in range(0,len(li),1):\n",
    "            client = Client(li[i][0], li[i][1], li[i][2], li[i][3], li[i][4])\n",
    "            liste_clients.append(client)\n",
    "            print(liste_clients[i])\n",
    "        return liste_clients\n",
    "    except:\n",
    "        print(\"Problème de fichier : \", sys.exc_info()[0])\n",
    "        return []\n"
   ]
  },
  {
   "cell_type": "code",
   "execution_count": 40,
   "metadata": {},
   "outputs": [
    {
     "name": "stdout",
     "output_type": "stream",
     "text": [
      "Numéro = 1, Nom = Bond, prenom = James, adresse = MI5, nombre = 10\n",
      "Numéro = 2, Nom = Comte, prenom = Dracula, adresse = Château, nombre = 12\n",
      "Numéro = 3, Nom = Blancsec1, prenom = Adele, adresse = Paris 19eme, nombre = 10\n",
      "Numéro = 4, Nom = Talon1, prenom = Achille, adresse = Banlieue, nombre = 10\n",
      "Numéro = 5, Nom = Le Gaulois1, prenom = Asterix, adresse = Village d'irreductible, nombre = 10\n",
      "Numéro = 12, Nom = Christie, prenom = Agatha, adresse = Londres, nombre = 10\n",
      "Numéro = 13, Nom = Baleine, prenom = Bleue, adresse = 4ème Vague, Atlantique Nord, nombre = 10\n",
      "Numéro = 14, Nom = Psycho, prenom = Pat, adresse = Asile de fou, nombre = 10\n",
      "Numéro = 16, Nom = Nom2, prenom = Prenom2, adresse = Adresse 2, nombre = 10\n",
      "Numéro = 17, Nom = Nom3, prenom = Prenom3, adresse = Adresse 3, nombre = 10\n",
      "Numéro = 18, Nom = Nom4, prenom = Prenom4, adresse = Adresse 4, nombre = 10\n",
      "Numéro = 19, Nom = Nom5, prenom = Prenom1, adresse = Adresse 5, nombre = 10\n",
      "Numéro = 20, Nom = Nom6, prenom = Prenom2, adresse = Adresse 6, nombre = 10\n",
      "Numéro = 21, Nom = Nom7, prenom = Prenom3, adresse = Adresse 7, nombre = 10\n",
      "Numéro = 22, Nom = Nom8, prenom = Prenom4, adresse = Adresse 8, nombre = 10\n",
      "Numéro = 23, Nom = Nom9, prenom = Prenom1, adresse = Adresse 9, nombre = 10\n",
      "Numéro = 25, Nom = Nom2, prenom = Prenom3, adresse = Adresse 2, nombre = 10\n",
      "Numéro = 26, Nom = Nom3, prenom = Prenom4, adresse = Adresse 3, nombre = 10\n",
      "Numéro = 27, Nom = Nom4, prenom = Prenom1, adresse = Adresse 4, nombre = 10\n",
      "Numéro = 28, Nom = Nom5, prenom = Prenom2, adresse = Adresse 5, nombre = 10\n",
      "Numéro = 29, Nom = new, prenom = new, adresse = new, nombre = 10\n"
     ]
    },
    {
     "data": {
      "text/plain": [
       "[<__main__.Client at 0x29b4d29f5f8>,\n",
       " <__main__.Client at 0x29b4d2ad128>,\n",
       " <__main__.Client at 0x29b4d2ad080>,\n",
       " <__main__.Client at 0x29b4d2ad0b8>,\n",
       " <__main__.Client at 0x29b4d2ad048>,\n",
       " <__main__.Client at 0x29b4d2ad160>,\n",
       " <__main__.Client at 0x29b4d2ad278>,\n",
       " <__main__.Client at 0x29b4d2ad2b0>,\n",
       " <__main__.Client at 0x29b4d2ad198>,\n",
       " <__main__.Client at 0x29b4d2ad208>,\n",
       " <__main__.Client at 0x29b4d2ad240>,\n",
       " <__main__.Client at 0x29b4d2ad1d0>,\n",
       " <__main__.Client at 0x29b4d2ad2e8>,\n",
       " <__main__.Client at 0x29b4d2ad320>,\n",
       " <__main__.Client at 0x29b4d2ad3c8>,\n",
       " <__main__.Client at 0x29b4d2ad358>,\n",
       " <__main__.Client at 0x29b4d2ad390>,\n",
       " <__main__.Client at 0x29b4d2ad400>,\n",
       " <__main__.Client at 0x29b4d2ad438>,\n",
       " <__main__.Client at 0x29b4d2ad4a8>,\n",
       " <__main__.Client at 0x29b4d2ad518>]"
      ]
     },
     "execution_count": 40,
     "metadata": {},
     "output_type": "execute_result"
    }
   ],
   "source": [
    "ListeInstanceClient(\"Client.csv\")"
   ]
  },
  {
   "cell_type": "code",
   "execution_count": null,
   "metadata": {},
   "outputs": [],
   "source": []
  }
 ],
 "metadata": {
  "kernelspec": {
   "display_name": "Python 3",
   "language": "python",
   "name": "python3"
  },
  "language_info": {
   "codemirror_mode": {
    "name": "ipython",
    "version": 3
   },
   "file_extension": ".py",
   "mimetype": "text/x-python",
   "name": "python",
   "nbconvert_exporter": "python",
   "pygments_lexer": "ipython3",
   "version": "3.7.0"
  }
 },
 "nbformat": 4,
 "nbformat_minor": 2
}
