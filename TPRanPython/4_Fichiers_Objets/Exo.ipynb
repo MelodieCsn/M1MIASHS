{
 "cells": [
  {
   "cell_type": "markdown",
   "metadata": {},
   "source": [
    "# Exercices sur les listes d'objets"
   ]
  },
  {
   "cell_type": "markdown",
   "metadata": {},
   "source": [
    "**Exercice** \n",
    "1. Écrivez une classe Client telle que les attributs des objets de type Client correspondent aux champs de la table Client vue en TD de base de données.\n",
    "2. Écrivez une fonction permettant de lire un fichier CSV contenant des données sur des clients et de stocker les informations dans une liste d'instance de la classe Client. Vous pourrez utiliser le fichier Client.csv fourni ou en générer un par export à partir de votre gestionnaire de base de données.\n",
    "3. Écrivez une fonction permettant de déterminer s'il existe (retour booléen) un client avec un nom donné (à partir d'une liste de Client).\n",
    "4. Écrivez une fonction permettant d'afficher tous les clients avec un nom donné (à partir d'une liste de Client)."
   ]
  },
  {
   "cell_type": "code",
   "execution_count": 134,
   "metadata": {},
   "outputs": [],
   "source": [
    "class Client:\n",
    "    def __init__( self, numC, nom, prenom, adresse, nombre):\n",
    "        self.numC = numC\n",
    "        self.nom = nom\n",
    "        self.prenom = prenom\n",
    "        self.adresse = adresse\n",
    "        self.nombre = nombre\n",
    "\n",
    "        \n",
    "    def __str__( self ):\n",
    "        \"\"\"Méthode retournant une description pour pouvoir afficher un client\"\"\"\n",
    "        return \"Numéro = \" + self.numC + \", Nom = \"+ self.nom + \", prenom = \" + self.prenom +\", adresse = \"+ self.adresse+\", nombre = \"+self.nombre\n",
    "        "
   ]
  },
  {
   "cell_type": "code",
   "execution_count": 135,
   "metadata": {
    "scrolled": true
   },
   "outputs": [
    {
     "name": "stdout",
     "output_type": "stream",
     "text": [
      "Numéro = 3, Nom = Charles, prenom = Magne, adresse = chateau, nombre = 10\n"
     ]
    }
   ],
   "source": [
    "client = Client(\"3\",\"Charles\",\"Magne\",\"chateau\",\"10\")\n",
    "print(client)"
   ]
  },
  {
   "cell_type": "code",
   "execution_count": 136,
   "metadata": {},
   "outputs": [],
   "source": [
    "import csv\n",
    "import sys\n",
    "def ListeInstanceClient(nomFichier, delim = \";\"):\n",
    "    try:\n",
    "        file_descriptor = open( nomFichier, \"r\", encoding=\"utf-8\" )\n",
    "        csv_reader = csv.reader(file_descriptor, delimiter = delim)\n",
    "        li = []\n",
    "        liste_clients = []\n",
    "        for ligne in csv_reader:\n",
    "            li.append(ligne)       \n",
    "        file_descriptor.close()\n",
    "        for i in range(0,len(li),1):\n",
    "            client = Client(li[i][0], li[i][1], li[i][2], li[i][3], li[i][4])\n",
    "            liste_clients.append(client)\n",
    "            print(liste_clients[i])\n",
    "        return liste_clients\n",
    "    except:\n",
    "        print(\"Problème de fichier : \", sys.exc_info()[0])\n",
    "        return []\n"
   ]
  },
  {
   "cell_type": "code",
   "execution_count": 137,
   "metadata": {},
   "outputs": [
    {
     "name": "stdout",
     "output_type": "stream",
     "text": [
      "Numéro = 1, Nom = Bond, prenom = James, adresse = MI5, nombre = 10\n",
      "Numéro = 2, Nom = Comte, prenom = Dracula, adresse = Château, nombre = 12\n",
      "Numéro = 3, Nom = Blancsec1, prenom = Adele, adresse = Paris 19eme, nombre = 10\n",
      "Numéro = 4, Nom = Talon1, prenom = Achille, adresse = Banlieue, nombre = 10\n",
      "Numéro = 5, Nom = Le Gaulois1, prenom = Asterix, adresse = Village d'irreductible, nombre = 10\n",
      "Numéro = 12, Nom = Christie, prenom = Agatha, adresse = Londres, nombre = 10\n",
      "Numéro = 13, Nom = Baleine, prenom = Bleue, adresse = 4ème Vague, Atlantique Nord, nombre = 10\n",
      "Numéro = 14, Nom = Psycho, prenom = Pat, adresse = Asile de fou, nombre = 10\n",
      "Numéro = 16, Nom = Nom2, prenom = Prenom2, adresse = Adresse 2, nombre = 10\n",
      "Numéro = 17, Nom = Nom3, prenom = Prenom3, adresse = Adresse 3, nombre = 10\n",
      "Numéro = 18, Nom = Nom4, prenom = Prenom4, adresse = Adresse 4, nombre = 10\n",
      "Numéro = 19, Nom = Nom5, prenom = Prenom1, adresse = Adresse 5, nombre = 10\n",
      "Numéro = 20, Nom = Nom6, prenom = Prenom2, adresse = Adresse 6, nombre = 10\n",
      "Numéro = 21, Nom = Nom7, prenom = Prenom3, adresse = Adresse 7, nombre = 10\n",
      "Numéro = 22, Nom = Nom8, prenom = Prenom4, adresse = Adresse 8, nombre = 10\n",
      "Numéro = 23, Nom = Nom9, prenom = Prenom1, adresse = Adresse 9, nombre = 10\n",
      "Numéro = 25, Nom = Nom2, prenom = Prenom3, adresse = Adresse 2, nombre = 10\n",
      "Numéro = 26, Nom = Nom3, prenom = Prenom4, adresse = Adresse 3, nombre = 10\n",
      "Numéro = 27, Nom = Nom4, prenom = Prenom1, adresse = Adresse 4, nombre = 10\n",
      "Numéro = 28, Nom = Nom5, prenom = Prenom2, adresse = Adresse 5, nombre = 10\n",
      "Numéro = 29, Nom = new, prenom = new, adresse = new, nombre = 10\n"
     ]
    },
    {
     "data": {
      "text/plain": [
       "[<__main__.Client at 0x2185a9e5978>,\n",
       " <__main__.Client at 0x2185a9ed470>,\n",
       " <__main__.Client at 0x2185a9ed550>,\n",
       " <__main__.Client at 0x2185a9ed860>,\n",
       " <__main__.Client at 0x2185a9ed908>,\n",
       " <__main__.Client at 0x2185a9ed438>,\n",
       " <__main__.Client at 0x2185a9ed630>,\n",
       " <__main__.Client at 0x2185a9e0400>,\n",
       " <__main__.Client at 0x2185a9e06d8>,\n",
       " <__main__.Client at 0x2185a9be860>,\n",
       " <__main__.Client at 0x2185a9beda0>,\n",
       " <__main__.Client at 0x2185a9be908>,\n",
       " <__main__.Client at 0x2185a9f1048>,\n",
       " <__main__.Client at 0x2185a9f1080>,\n",
       " <__main__.Client at 0x2185a9f10b8>,\n",
       " <__main__.Client at 0x2185a9f10f0>,\n",
       " <__main__.Client at 0x2185a9f1128>,\n",
       " <__main__.Client at 0x2185a9f1160>,\n",
       " <__main__.Client at 0x2185a9f1198>,\n",
       " <__main__.Client at 0x2185a9f11d0>,\n",
       " <__main__.Client at 0x2185a9f1208>]"
      ]
     },
     "execution_count": 137,
     "metadata": {},
     "output_type": "execute_result"
    }
   ],
   "source": [
    "t = ListeInstanceClient(\"Client.csv\")\n",
    "t"
   ]
  },
  {
   "cell_type": "code",
   "execution_count": 152,
   "metadata": {},
   "outputs": [],
   "source": [
    "def ClientNomPresent(li, nomMystere):\n",
    "    \"\"\" Fonction qui renvoie true si le nom donné en paramètre est celui d'un client de la liste donnée en paramètre \n",
    "    et false sinon\n",
    "    \"\"\"\n",
    "    ok = False\n",
    "    i = 0\n",
    "    while i<len(li) and ok == False:\n",
    "        if li[i].nom == nomMystere:\n",
    "            ok = True\n",
    "        i+=1\n",
    "    return ok"
   ]
  },
  {
   "cell_type": "code",
   "execution_count": 153,
   "metadata": {},
   "outputs": [
    {
     "data": {
      "text/plain": [
       "False"
      ]
     },
     "execution_count": 153,
     "metadata": {},
     "output_type": "execute_result"
    }
   ],
   "source": [
    "l = ClientNomPresent(t, \"Christine\")\n",
    "l"
   ]
  },
  {
   "cell_type": "code",
   "execution_count": 161,
   "metadata": {},
   "outputs": [],
   "source": [
    "def AfficheClientNomDonne(li,nomMystere):\n",
    "    \"\"\"\" Fonction qui affiche les données du/des clients dont le nom est celui donné en paramètre\n",
    "    \"\"\"\n",
    "    for i in range(0,len(li),1):\n",
    "        if li[i].nom == nomMystere:\n",
    "            print(li[i])\n",
    "        \n",
    "    "
   ]
  },
  {
   "cell_type": "code",
   "execution_count": 162,
   "metadata": {},
   "outputs": [
    {
     "name": "stdout",
     "output_type": "stream",
     "text": [
      "Numéro = 17, Nom = Nom3, prenom = Prenom3, adresse = Adresse 3, nombre = 10\n",
      "Numéro = 26, Nom = Nom3, prenom = Prenom4, adresse = Adresse 3, nombre = 10\n"
     ]
    }
   ],
   "source": [
    "AfficheClientNomDonne(t,\"Nom3\")"
   ]
  },
  {
   "cell_type": "markdown",
   "metadata": {},
   "source": [
    "**Exercice** \n",
    "1. Écrivez une classe Produit telle que les attributs d'un objet de type Produit soient : un identifiant, un nom, une quantité, un prix.\n",
    "2. Écrivez une méthode permettant de calculer la valeur d'un stock représenté par une liste d'objets de type Produit (somme des multiplications *quantité* par *prix* des différents produts de la liste).\n",
    "3. Écrivez une fonction permettant de déterminer la liste des prix ayant le prix le plus élevé."
   ]
  },
  {
   "cell_type": "code",
   "execution_count": null,
   "metadata": {},
   "outputs": [],
   "source": []
  },
  {
   "cell_type": "markdown",
   "metadata": {},
   "source": [
    "# Exercices sur les listes de listes"
   ]
  },
  {
   "cell_type": "markdown",
   "metadata": {},
   "source": [
    "**Exercice**\n",
    "\n",
    "Écrivez une fonction permettant de déterminer si toutes les lignes d'une liste de listes sont de même longueur."
   ]
  },
  {
   "cell_type": "markdown",
   "metadata": {},
   "source": [
    "**Exercice**\n",
    "\n",
    "Écrivez une fonction pour calculer la somme d'une liste de listes d'entiers."
   ]
  },
  {
   "cell_type": "markdown",
   "metadata": {},
   "source": [
    "**Exercice**\n",
    "\n",
    "Écrivez une fonction déterminant si un entier est présent dans une liste de listes d'entiers.\n"
   ]
  }
 ],
 "metadata": {
  "kernelspec": {
   "display_name": "Python 3",
   "language": "python",
   "name": "python3"
  },
  "language_info": {
   "codemirror_mode": {
    "name": "ipython",
    "version": 3
   },
   "file_extension": ".py",
   "mimetype": "text/x-python",
   "name": "python",
   "nbconvert_exporter": "python",
   "pygments_lexer": "ipython3",
   "version": "3.7.0"
  }
 },
 "nbformat": 4,
 "nbformat_minor": 2
}
