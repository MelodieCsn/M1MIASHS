{
 "cells": [
  {
   "cell_type": "markdown",
   "metadata": {},
   "source": [
    "# M1-MIASHS<br/>Informatique - Remise à niveau<br/>Évaluation 1 - 16/09/2020\n",
    "# Sujet 7\n",
    "Durée de l'examen 2h"
   ]
  },
  {
   "cell_type": "markdown",
   "metadata": {},
   "source": [
    "## Préambule - consignes générales"
   ]
  },
  {
   "cell_type": "markdown",
   "metadata": {},
   "source": [
    "* Vous pouvez accéder à une version *notebook* de ce sujet et un dump utilisable pour traite l'exercice 2 de la partie 1 dans le dossier <code>Examen_1</code> à l'adresse https://upvdrive.univ-montp3.fr/index.php/s/OWjakm4f1G4dRAn.\n",
    "* Un barème indicatif est donné entre parenthèses.\n",
    "* Remarque. Les exercices peuvent être traités dans un ordre quelconque. <br>**Les réponses doivent être apportées aux endroits prévus dans le notebook.**"
   ]
  },
  {
   "cell_type": "markdown",
   "metadata": {},
   "source": [
    "**Remise de la copie** : \n",
    "Vous enverrez par mail à gwenael.richomme@univ-montp3.fr une archive compressée d'un dossier à votre nom contenant les documents contenant vos réponses, à savoir :\n",
    "* une archive compressée contenant l’export MOCODO pour l’exercice 1\n",
    "* une copie remplie du notebook avec les réponses aux exercices SQL et Python"
   ]
  },
  {
   "cell_type": "markdown",
   "metadata": {},
   "source": [
    "# Partie 1. Bases de données"
   ]
  },
  {
   "cell_type": "markdown",
   "metadata": {},
   "source": [
    "## Exercice 1 : MCD et MOD (4 pts)"
   ]
  },
  {
   "cell_type": "markdown",
   "metadata": {},
   "source": [
    "**Contexte.** Un nouvel hôpital réfléchit à la mise en place de son système informatisé de gestion des consultations."
   ]
  },
  {
   "cell_type": "markdown",
   "metadata": {},
   "source": [
    "**Travail à réaliser.** Fournissez le MCD et le MOD de cette base de données"
   ]
  },
  {
   "cell_type": "markdown",
   "metadata": {},
   "source": [
    "**Documents à rendre.** Pour cette question, il est attendu que le MCD et le MOD soient développés avec Mocodo. L'archive de fichiers exportée de Mocodo est donc attendue en réponse à cet exercice."
   ]
  },
  {
   "cell_type": "markdown",
   "metadata": {},
   "source": [
    "**Informations à prendre en compte**"
   ]
  },
  {
   "cell_type": "markdown",
   "metadata": {},
   "source": [
    "- Les médecins de l’hôpital sont répartis dans plusieurs services. Chaque médecin a une spécialité (et bien sûr un seul nom et prénom) et appartient à un seul service. Le nom d’un service peut évoluer dans le temps, mais seul le nom courant est mémorisé dans le système d’information. De même on ne conserve que la composition actuelle d’un service.\n",
    "- L’hôpital conserve le numéro de sécurité sociale, le nom, le prénom, l’adresse et un numéro de téléphone pour chacun de ses patients. Le numéro de sécurité sociale peut n’être saisi qu’au moment de la consultation et n’est pas nécessaire pour l’enregistrement de la consultation.\n",
    "- Chaque consultation de médecin par un patient, qu’elle soit uniquement planifiée ou qu’elle ait déjà eu lieu, est mémorisée avec la date et l’heure du rendez-vous. Des statistiques sont régulièrement faites sur le nombre de consultations par médecin.\n",
    "- Les patients reçoivent, à l’issue d'une consultation, une invitation de l’hôpital à donner son avis sur le médecin rencontré. Quand un patient a eu plusieurs rendez-vous avec le même médecin, seul le dernier avis est mémorisé."
   ]
  },
  {
   "cell_type": "markdown",
   "metadata": {},
   "source": [
    "Justification de certains choix : \n",
    " - J'ai supposé que comme la composition d'un service est retrouvable par requête alors elle n'est pas utile dans le MCD.\n",
    " - Le numéro de sécurité sociale pouvant être manquant et n'étant pas obligatoire pour les consultations, je ne l'ai pas non plus ajouté dans le MCD.\n",
    " - Enfin, j'ai choisi de rajouter des Codes (CodeP, CodeM, codeS) pour être certaine d'avoir un identifiant unique pour chaque entité."
   ]
  },
  {
   "cell_type": "markdown",
   "metadata": {},
   "source": [
    "## Exercice 2. SQL (4 points)"
   ]
  },
  {
   "cell_type": "markdown",
   "metadata": {},
   "source": [
    "**Contexte.** Une université veut mettre en oeuvre des traitements sur sa base de gestion de salles."
   ]
  },
  {
   "cell_type": "markdown",
   "metadata": {},
   "source": [
    "Nous travaillons avec le MOD suivant :"
   ]
  },
  {
   "cell_type": "markdown",
   "metadata": {},
   "source": [
    "<tt>\n",
    "&nbsp;&nbsp;&nbsp;&nbsp;Salle( <u>nom_court_salle</u>, libelle, capacite)<br/>\n",
    "    &nbsp;&nbsp;&nbsp;&nbsp;Gestionnaire(<u>id_gestionnaire</u>, nom, prenom, telephone)<br/>\n",
    "    &nbsp;&nbsp;&nbsp;&nbsp;Gere( <u>id_gestionnaire</u>, <u>nom_court_salle</u>)<br/>\n",
    "</tt>"
   ]
  },
  {
   "cell_type": "markdown",
   "metadata": {},
   "source": [
    "Répondez aux questions suivantes dans le notebook d'examen. Les cellules destinées à accueillir vos réponses sont en format Markdown et le fait de démarrer la cellule par <tt>\\`\\`\\` SQL</tt> et de la terminer par <tt>\\`\\`\\`</tt> permet de bénéficier de la coloration syntaxique dans le notebook (après validation de la cellule).\n",
    "\n",
    "*Remarques*. Vous pouvez utiliser le dump <tt>Planning.sql</tt> pour charger un contexte de test à vos requêtes."
   ]
  },
  {
   "cell_type": "markdown",
   "metadata": {},
   "source": [
    "**Question 1.** Donnez une instruction SQL permettant d’ajouter dans la table <code>Salle</code> les trois salles de noms courts respectifs D204, D205, D206, de libellés respectifs \"Salle D204\", \"Salle D205\", Salle D206\", toutes les 3 de capacités 35 places."
   ]
  },
  {
   "cell_type": "markdown",
   "metadata": {},
   "source": [
    "```SQL\n",
    "INSERT INTO `salle` (`nom_court_salle`, `libelle_salle`, `capacite`) VALUES ('D204', 'Salle D204', '35'), ('D205', 'Salle D205', '35'),('D206','Salle D206','35');\n",
    "\n",
    "```"
   ]
  },
  {
   "cell_type": "markdown",
   "metadata": {},
   "source": [
    "**Question 2.** Donnez une instruction SQL permettant de supprimer les salles D204, D205, D206."
   ]
  },
  {
   "cell_type": "markdown",
   "metadata": {},
   "source": [
    "```SQL\n",
    "DELETE FROM `salle` WHERE `salle`.`nom_court_salle` = 'D204';\n",
    "DELETE FROM `salle` WHERE `salle`.`nom_court_salle` = 'D205';\n",
    "DELETE FROM `salle` WHERE `salle`.`nom_court_salle` = 'D206';\n",
    "```"
   ]
  },
  {
   "cell_type": "markdown",
   "metadata": {},
   "source": [
    "**Question 3.** Donnez une instruction SQL fournissant, en ordre décroissant alphabétique, la liste des libellés des salles ayant au moins 25 places (25 inclus)."
   ]
  },
  {
   "cell_type": "markdown",
   "metadata": {},
   "source": [
    "```SQL\n",
    "SELECT libelle_salle FROM salle WHERE capacite >= 25 GROUP BY libelle_salle DESC \n",
    "```"
   ]
  },
  {
   "cell_type": "markdown",
   "metadata": {},
   "source": [
    "**Question 4.** Donnez une instruction SQL fournissant la liste des triplets (libellé de salle, capacité, nom_gestionnaire) pour les salles ayant au moins 25 places (25 inclus) : dans chaque triplet, capacité désigne la capacité de la salle dont le libellé apparaît en première entrée du triplet et nom_gestionnaire désigne un des gestionnaires de la salle. Remarque : les salles de plus de 25 places n’ayant pas de gestionnaire ne seront pas affichées."
   ]
  },
  {
   "cell_type": "markdown",
   "metadata": {},
   "source": [
    "```SQL\n",
    "SELECT libelle_salle,capacite,nom\n",
    "FROM salle, gere, gestionnaire\n",
    "WHERE salle.nom_court_salle=gere.nom_court_salle\n",
    "AND gestionnaire.id_gestionnaire=gere.id_gestionnaire\n",
    "AND salle.capacite>=25\n",
    "```"
   ]
  },
  {
   "cell_type": "markdown",
   "metadata": {},
   "source": [
    "**Question 5.** Donnez une instruction SQL fournissant la liste des informations (id_gestionnaire, nombre de salles gérées par le gestionnaire). Il n’est pas attendu de couple pour les gestionnaires ne gérant pas de salles"
   ]
  },
  {
   "cell_type": "markdown",
   "metadata": {},
   "source": [
    "```SQL\n",
    "SELECT gestionnaire.id_gestionnaire, count(nom_court_salle) \n",
    "FROM gestionnaire, gere \n",
    "WHERE gestionnaire.id_gestionnaire=gere.id_gestionnaire \n",
    "GROUP BY id_gestionnaire\n",
    "```"
   ]
  },
  {
   "cell_type": "markdown",
   "metadata": {},
   "source": [
    "**Question 6.** Donnez une instruction SQL fournissant la liste des noms courts de salles n’ayant pas de gestionnaire."
   ]
  },
  {
   "cell_type": "markdown",
   "metadata": {},
   "source": [
    "```SQL\n",
    "SELECT nom_court_salle\n",
    "FROM salle\n",
    "WHERE nom_court_salle NOT IN (SELECT nom_court_salle\n",
    "                              FROM gere)\n",
    "```"
   ]
  },
  {
   "cell_type": "markdown",
   "metadata": {},
   "source": [
    "# Partie 2. Python (12 points)"
   ]
  },
  {
   "cell_type": "markdown",
   "metadata": {},
   "source": [
    "**Consignes générales**\n",
    "\n",
    "Pour tous les exercices Python :\n",
    "* Dans les réponses qui seront apportées, il est interdit d'utiliser des instructions <tt>continue</tt>, <tt>break</tt>. Il est également interdit d'utiliser des instructions <tt>return</tt> à l'intérieur des instructions répétitives.\n",
    "* Vous chercherez à arrêter les traitements dès que possible.\n",
    "* Vous utiliserez préférentiellement l'instruction *for* quand le nombre d'itérations d'un traitement est connu à l'avance. Vous utiliserez préférentiellement l'instruction *while* quand le nombre d'itérations peut varier d'une exécution à l'autre.\n",
    "* Vous chercherez à donner des réponses facilement traductibles dans d'autres langages (donc n'utilisant pas des spécificités trop fortes de Python). Si vous en avez le temps et que vous désirez montrer votre connaissance de Python, vous pouvez apporter une deuxième réponse, plus pythonesque, à certaines questions."
   ]
  },
  {
   "cell_type": "markdown",
   "metadata": {},
   "source": [
    "**Contexte.** Dans le cadre de mise en oeuvre d'une application de gestion d'un catalogue d'articles, vous devez réaliser certains traitements.\n",
    "\n",
    "La classe suivante doit être utilisée dans la suite de l'exercice pour gérer les informations concernant un article."
   ]
  },
  {
   "cell_type": "code",
   "execution_count": 1,
   "metadata": {},
   "outputs": [],
   "source": [
    "class Article( ):\n",
    "    def __init__(self, identifiant, poids, prix):\n",
    "        \"\"\"\n",
    "        Informations sur un article\n",
    "        identifiant : chaîne de caractères\n",
    "        poids : float # information stockée en kg\n",
    "        prix : entier # information stockée en centimes d'euros\n",
    "        \"\"\"\n",
    "        self.identifiant = identifiant\n",
    "        self.poids = poids\n",
    "        self.prix = prix"
   ]
  },
  {
   "cell_type": "markdown",
   "metadata": {},
   "source": [
    "**Question 1.** Définissez dans la cellule suivante une liste de 5 articles"
   ]
  },
  {
   "cell_type": "code",
   "execution_count": 2,
   "metadata": {},
   "outputs": [],
   "source": [
    "# Placez ici la réponse à la question 1\n",
    "liArticles = [Article(\"Pomme\",0.5,90),Article(\"Poire\",0.7,150),Article(\"Amandes\",0.2,550)]"
   ]
  },
  {
   "cell_type": "markdown",
   "metadata": {},
   "source": [
    "**Question 2.** Écrire une fonction permettant d'afficher une liste d'articles"
   ]
  },
  {
   "cell_type": "code",
   "execution_count": 3,
   "metadata": {},
   "outputs": [],
   "source": [
    "# Placez ici la réponse à la question 2\n",
    "def affiche_liste( lis ):\n",
    "    \"\"\"\n",
    "    Données : lis\n",
    "    Resultat : rien\n",
    "    Rôle : affiche chaque attribut de la liste d'Article donnée en paramètre pour chaque article avec un article\n",
    "    par ligne\n",
    "    \"\"\"\n",
    "    for i in range(len(lis)):\n",
    "        print(\"Article\", i ,\":\",lis[i].identifiant,lis[i].poids,lis[i].prix)"
   ]
  },
  {
   "cell_type": "code",
   "execution_count": 4,
   "metadata": {
    "scrolled": true
   },
   "outputs": [
    {
     "name": "stdout",
     "output_type": "stream",
     "text": [
      "Article 0 : Pomme 0.5 90\n",
      "Article 1 : Poire 0.7 150\n",
      "Article 2 : Amandes 0.2 550\n"
     ]
    }
   ],
   "source": [
    "# Placez ici vos tests de votre réponse à la question 2\n",
    "affiche_liste(liArticles)"
   ]
  },
  {
   "cell_type": "markdown",
   "metadata": {},
   "source": [
    "**Question 3.** Écrire une fonction retournant le prix moyen des articles stockés dans une liste d'éléments de type Article."
   ]
  },
  {
   "cell_type": "code",
   "execution_count": 5,
   "metadata": {},
   "outputs": [],
   "source": [
    "# Placez ici la réponse à la question 3\n",
    "def prix_moy(lis):\n",
    "    \"\"\"\"  \n",
    "    Données : lis, une liste d'articles\n",
    "    Resultat : un flottant\n",
    "    Rôle : renvoie la moyenne des prix des articles stockés dans la liste\n",
    "    \"\"\"\n",
    "    somme=0\n",
    "    for i in range (0,len(lis),1):\n",
    "        somme+=lis[i].prix\n",
    "    return somme/len(lis)"
   ]
  },
  {
   "cell_type": "code",
   "execution_count": 6,
   "metadata": {},
   "outputs": [
    {
     "data": {
      "text/plain": [
       "263.3333333333333"
      ]
     },
     "execution_count": 6,
     "metadata": {},
     "output_type": "execute_result"
    }
   ],
   "source": [
    "# Placez ici vos tests de votre réponse à la question 3\n",
    "prix_moy(liArticles)\n",
    "# print((550+90+150)/3)"
   ]
  },
  {
   "cell_type": "markdown",
   "metadata": {},
   "source": [
    "**Question 4.** Écrire une fonction retournant la liste des articles d'une liste d'articles dont le prix est compris entre deux prix donnés."
   ]
  },
  {
   "cell_type": "code",
   "execution_count": 7,
   "metadata": {},
   "outputs": [],
   "source": [
    "# Placez ici la réponse à la question 4\n",
    "def liABorne(lis,borneInf,borneSup):\n",
    "    \"\"\"\"  \n",
    "    Données : lis, une liste d'articles, borneInf un flottant représentant la borne inférieure de prix\n",
    "    borneSup un flottant représentant la borne supérieure de prix\n",
    "    Resultat : lisres, une liste d'article\n",
    "    Rôle : renvoie la liste des articles d'une liste d'articles dont le prix est compris entre deux prix donnés\n",
    "    \"\"\"\n",
    "    lisres=[]\n",
    "    for i in range(0,len(lis),1):\n",
    "        if lis[i].prix >= borneInf and lis[i].prix <= borneSup:\n",
    "            lisres.append(lis[i])\n",
    "    return lisres"
   ]
  },
  {
   "cell_type": "code",
   "execution_count": 8,
   "metadata": {},
   "outputs": [
    {
     "name": "stdout",
     "output_type": "stream",
     "text": [
      "Article 0 : Poire 0.7 150\n",
      "Article 1 : Amandes 0.2 550\n"
     ]
    }
   ],
   "source": [
    "# Placez ici vos tests de votre réponse à la question 4\n",
    "affiche_liste(liABorne(liArticles,100,600))"
   ]
  },
  {
   "cell_type": "markdown",
   "metadata": {},
   "source": [
    "**Question 5.** Écrire une fonction qui détermine s'il existe ou non un article dans une liste d'articles dont le poids est supérieur strictement à un poids donné."
   ]
  },
  {
   "cell_type": "code",
   "execution_count": 11,
   "metadata": {},
   "outputs": [],
   "source": [
    "# Placez ici la réponse à la question 5\n",
    "def aplusLourd(lis,grosPoids):\n",
    "    \"\"\"\"  \n",
    "    Données : lis, une liste d'articles, GrosPoids le poids de l'article à comparer avec ceux des articles de la liste\n",
    "    Resultat : ok, un booleen \n",
    "    Rôle : renvoie true si il existe un article dans lis dont le poids est supérieur strictement à grosPoids \n",
    "    \"\"\"\n",
    "    i=0\n",
    "    ok=False\n",
    "    while i<len(lis) and ok==False:\n",
    "        if(lis[i].poids>grosPoids):\n",
    "            ok=True\n",
    "        i+=1\n",
    "    return ok"
   ]
  },
  {
   "cell_type": "code",
   "execution_count": 12,
   "metadata": {},
   "outputs": [
    {
     "data": {
      "text/plain": [
       "True"
      ]
     },
     "execution_count": 12,
     "metadata": {},
     "output_type": "execute_result"
    }
   ],
   "source": [
    "# Placez ici vos tests de votre réponse à la question 5\n",
    "aplusLourd(liArticles,0.6)"
   ]
  },
  {
   "cell_type": "code",
   "execution_count": null,
   "metadata": {},
   "outputs": [],
   "source": []
  }
 ],
 "metadata": {
  "kernelspec": {
   "display_name": "Python 3",
   "language": "python",
   "name": "python3"
  },
  "language_info": {
   "codemirror_mode": {
    "name": "ipython",
    "version": 3
   },
   "file_extension": ".py",
   "mimetype": "text/x-python",
   "name": "python",
   "nbconvert_exporter": "python",
   "pygments_lexer": "ipython3",
   "version": "3.7.0"
  }
 },
 "nbformat": 4,
 "nbformat_minor": 2
}
