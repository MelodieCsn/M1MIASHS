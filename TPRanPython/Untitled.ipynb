{
 "cells": [
  {
   "cell_type": "code",
   "execution_count": 1,
   "metadata": {},
   "outputs": [],
   "source": [
    "def chercher_Ville(liste_villes,nom_ville):\n",
    "    i=0\n",
    "    ok=False\n",
    "    while i<len(liste_villes) and not ok:\n",
    "        if liste_villes[i].nom==nom_ville:\n",
    "            ok=True\n",
    "            nom_a_retourner=liste_villes[i].nom\n",
    "        i+=1\n",
    "    return nom_a_retourner"
   ]
  },
  {
   "cell_type": "code",
   "execution_count": null,
   "metadata": {},
   "outputs": [],
   "source": []
  }
 ],
 "metadata": {
  "kernelspec": {
   "display_name": "Python 3",
   "language": "python",
   "name": "python3"
  },
  "language_info": {
   "codemirror_mode": {
    "name": "ipython",
    "version": 3
   },
   "file_extension": ".py",
   "mimetype": "text/x-python",
   "name": "python",
   "nbconvert_exporter": "python",
   "pygments_lexer": "ipython3",
   "version": "3.7.0"
  }
 },
 "nbformat": 4,
 "nbformat_minor": 2
}
