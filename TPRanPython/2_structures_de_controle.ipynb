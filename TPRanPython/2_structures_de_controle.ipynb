{
 "cells": [
  {
   "cell_type": "markdown",
   "metadata": {},
   "source": [
    "# Structures conditionnelles et répétives"
   ]
  },
  {
   "cell_type": "markdown",
   "metadata": {},
   "source": [
    "## Un exemple de structure conditionnelle"
   ]
  },
  {
   "cell_type": "code",
   "execution_count": null,
   "metadata": {},
   "outputs": [],
   "source": [
    "x = input(\"Quel est votre nom ? \")\n",
    "if len(x) == 0:\n",
    "    print(\"Erreur : vous n'avez rien saisi\")\n",
    "else:\n",
    "    print(\"Bonjour \" + x)"
   ]
  },
  {
   "cell_type": "code",
   "execution_count": null,
   "metadata": {},
   "outputs": [],
   "source": [
    "x = input(\"Donnez un nombre entre 0 et 9 : \")\n",
    "if len(x) == 0:\n",
    "    print(\"Erreur vous n'avez rien saisi\")\n",
    "else:\n",
    "    if len(x) >=2 :\n",
    "        print(\"Erreur : vous avez saisi trop d'information\")\n",
    "    else:\n",
    "        if x.isdigit():\n",
    "            c = 10 - int(x)\n",
    "            print(\"Le complément à 10 de votre nombre est\", c)\n",
    "        else:\n",
    "            print(\"Erreur : vous n'avez pas saisi un chiffre\")"
   ]
  },
  {
   "cell_type": "code",
   "execution_count": null,
   "metadata": {},
   "outputs": [],
   "source": [
    "x = input(\"Donnez un caractère : \")\n",
    "if len(x) == 0:\n",
    "    print(\"Erreur vous n'avez rien saisi\")\n",
    "elif len(x) >= 2:\n",
    "    print(\"Erreur vous avez saisi trop de caractères\")\n",
    "else:\n",
    "    if x == \"a\":\n",
    "        print(\"Oh! La première lettre de l'alphabet\")\n",
    "    if x != \"z\":\n",
    "        print(\"Votre lettre n'est pas la dernière lettre de l'alphabet\")\n",
    "    if x in [\"a\",\"e\",\"i\",\"o\",\"u\",\"y\"]:\n",
    "        print(\"Votre lettre est une voyelle\")\n",
    "    else:\n",
    "        print(\"Votre lettre est une consonne en minuscule ou une majuscule ou n'est pas une lettre\")"
   ]
  },
  {
   "cell_type": "markdown",
   "metadata": {},
   "source": [
    "## Un exemple d'utilisation de la structure de contrôle while"
   ]
  },
  {
   "cell_type": "code",
   "execution_count": null,
   "metadata": {},
   "outputs": [],
   "source": [
    "i = 1\n",
    "while i <= 10: # Faire plusieurs essais avec 100, 1000 (tiens un exemple de commentaire Python!)\n",
    "    print(i)\n",
    "    i += 1   # ou i = i + 1 "
   ]
  },
  {
   "cell_type": "markdown",
   "metadata": {},
   "source": [
    "## Le même exemple avec la structure de contrôle for"
   ]
  },
  {
   "cell_type": "code",
   "execution_count": null,
   "metadata": {},
   "outputs": [],
   "source": [
    "for i in range(1, 11, 1):\n",
    "    print(i)"
   ]
  },
  {
   "cell_type": "markdown",
   "metadata": {},
   "source": [
    "*range()* est une fonction renvoyant un itérateur (plus ou moins une liste mais avec des méthodes (au sens programmation objet)) permettant son parcours.\n",
    "\n",
    "**Syntaxe simplifiée**\n",
    "\n",
    "*range([valeur_initiale],seuil, [pas])*\n",
    "* Par défaut la *valeur initiale* vaut 0 et le pas 1\n",
    "* *seuil* est une valeur d'arrêt (non prise)\n",
    "* Il faut préciser la *valeur initiale*, si on veut préciser le *pas*\n",
    "* Le *pas* peut être négatif\n",
    "\n",
    "**Conseil.**\n",
    "Pour la lisibilité de votre code, précisez la valeur initiale et le pas"
   ]
  },
  {
   "cell_type": "markdown",
   "metadata": {},
   "source": [
    "## Consigne sur utilisation while/for\n",
    "Utilisez la structure \"for\" quand le nombre d'itérations est connue à l'avance. Utilisez le while dans les autres cas."
   ]
  },
  {
   "cell_type": "markdown",
   "metadata": {},
   "source": [
    "## Variation Python"
   ]
  },
  {
   "cell_type": "markdown",
   "metadata": {},
   "source": [
    "Cette variante Python n'existe pas dans tous les langages. **Vous ne l'utiliserez pas dans le cadre de cette remise à niveau**. Vous devez savoir vous en passer."
   ]
  },
  {
   "cell_type": "code",
   "execution_count": null,
   "metadata": {},
   "outputs": [],
   "source": [
    "for fruit in [\"poire\", \"pomme\", \"banane\"]:\n",
    "    print(\"une\", fruit, \"est un fruit\")"
   ]
  },
  {
   "cell_type": "markdown",
   "metadata": {},
   "source": [
    "Equivalent avec un parcours sur indices"
   ]
  },
  {
   "cell_type": "code",
   "execution_count": null,
   "metadata": {},
   "outputs": [],
   "source": [
    "liste_fruits = [\"poire\", \"pomme\", \"banane\"]\n",
    "for i in range( 0, len(liste_fruits), 1):\n",
    "    print(\"une\", liste_fruits[i], \"est un fruit\")"
   ]
  }
 ],
 "metadata": {
  "kernelspec": {
   "display_name": "Python 3",
   "language": "python",
   "name": "python3"
  },
  "language_info": {
   "codemirror_mode": {
    "name": "ipython",
    "version": 3
   },
   "file_extension": ".py",
   "mimetype": "text/x-python",
   "name": "python",
   "nbconvert_exporter": "python",
   "pygments_lexer": "ipython3",
   "version": "3.7.0"
  }
 },
 "nbformat": 4,
 "nbformat_minor": 2
}
