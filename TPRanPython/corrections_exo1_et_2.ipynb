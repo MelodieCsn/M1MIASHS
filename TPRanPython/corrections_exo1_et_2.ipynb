{
 "cells": [
  {
   "cell_type": "markdown",
   "metadata": {},
   "source": [
    "Vous trouverez ci-après une correction commentée des exercices sur les listes.\n",
    "\n",
    "**Rappel pour l'examen :**\n",
    "* Il est attendu que vous soyez capable d'écrire des codes \"passe-partout\" dans un premier temps (cela étant si vous n'avez l'idée que d'une solution, il vaut toujours mieux l'écrire même si ce n'est pas exactement celle que j'attends).\n",
    "* Notamment dans le cas de manipulation, effectuez des parcours de listes basées sur les indices de listes (vous devez donc avoir compris l'utilisation de la fonction range quand vous utilisez un for dans ce contexte).\n",
    "\n",
    "**Compléments :**\n",
    "* Pour vos tests, prévoyez des tests sur des données quelconques mais aussi sur des données particulières notamment celles correspondant à des cas limites.\n",
    "* Quand vous avez à écrire un algorithme répétitif, \n",
    ">- utilisez une boucle for dès que le nombre d'étapes est prévisible (notamment dans les cas où on parcourt une liste d'un bout à l'autre)\n",
    ">- utilisez une boucle while avec la technique du drapeau dès que l'algorithme peut s'arrêter avant la fin d'un parcours complet d'une liste (rappel : pas de break ni de return dans les corps des instructions répétitives)\n",
    "\n",
    "* Quand vous écrivez un algorithme, vous devez toujours chercher à écrire à avoir un algorithme qui s'exécute de manière rapide sur des données de taille importante.\n",
    ">- Le premier niveau de gain est un niveau asymptotique où l'ordre de grandeur de l'algorithme est le moins élevé possible (exemple : un alogorithme de tri s'exécutant en un temps en O(n log(n)) sera généralement préféré à un algorithme quadratiuque i.e. en O(n^2) (avec n la taille des données)\n",
    ">- Le deuxième niveau de gain est atteint en s'arrêtant dès que possible.\n",
    ">- Le troisième niveau de gain est atteint avec une bonne connaissance du langage, en utilisant les optimisations qu'il nous offre (niveau à ne pas considérer dans le cadre de l'évaluation mais à mettre en oeuvre ensuite"
   ]
  },
  {
   "cell_type": "markdown",
   "metadata": {},
   "source": [
    "**Exercice :**\n",
    "1. Écrivez une fonction qui calcule la somme des éléments d'une liste **(pensez à documenter vos fonctions)** (Pensez à la consigne du cours d'utilisation du for et du while ; une seule de ces structures doit être utilisée ici)\n",
    "2. Testez votre fonction au moins sur les exemples suivants :\n",
    " * [  ] la liste vide\n",
    " * [3, 5, 2, -3] un exemple quelconque (mais dont le résultat peut être anticipé)\n",
    " * [3, \"rouge\", 1]\n",
    " * [3.5, 1.2, 2.3] un exemple avec des nombres flottants\n",
    "3. Placez votre fonction dans un fichier Python avec des instructions permettant de la tester (ces instructions ne seront pas exécutables lors d'un import). Testez un import de ce fichier et testez l'exécution de ce fichier.\n",
    "4. Il existe une fonction `sum` en Python. Testez-la (même si son usage n'est pas autorisée à l'examen, elle pourra vous être utile ultérieurement).\n",
    "\n",
    "**Remarque** Pour en savoir plus sur les listes, vous pouvez consulter la doc Python officielle : https://docs.python.org/3/tutorial/datastructures.html. Pour en savoir plus sur la fonction `sum` :\n",
    "https://docs.python.org/3.7/library/functions.html"
   ]
  },
  {
   "cell_type": "markdown",
   "metadata": {},
   "source": [
    "Réponse à la question 1. Il faut ici utiliser la structure répétitive for."
   ]
  },
  {
   "cell_type": "code",
   "execution_count": 1,
   "metadata": {},
   "outputs": [],
   "source": [
    "def somme( lis ):\n",
    "    \"\"\"\n",
    "    Donnée : lis est une liste de valeurs\n",
    "    Précondition : toutes les valeurs de lis sont des nombres\n",
    "    Retour de fonction : la valeur de la somme des éléments de la liste\n",
    "    \"\"\"\n",
    "    s = 0\n",
    "    for i in range( 0, len(lis), 1):\n",
    "        s += lis[i]\n",
    "    return s"
   ]
  },
  {
   "cell_type": "markdown",
   "metadata": {},
   "source": [
    "Réponse à la question 2"
   ]
  },
  {
   "cell_type": "code",
   "execution_count": 2,
   "metadata": {},
   "outputs": [
    {
     "name": "stdout",
     "output_type": "stream",
     "text": [
      "True\n",
      "True\n",
      "True\n"
     ]
    },
    {
     "ename": "TypeError",
     "evalue": "unsupported operand type(s) for +=: 'int' and 'str'",
     "output_type": "error",
     "traceback": [
      "\u001b[0;31m---------------------------------------------------------------------------\u001b[0m",
      "\u001b[0;31mTypeError\u001b[0m                                 Traceback (most recent call last)",
      "\u001b[0;32m<ipython-input-2-4e045f109727>\u001b[0m in \u001b[0;36m<module>\u001b[0;34m\u001b[0m\n\u001b[1;32m      2\u001b[0m \u001b[0mprint\u001b[0m\u001b[0;34m(\u001b[0m\u001b[0msomme\u001b[0m\u001b[0;34m(\u001b[0m\u001b[0;34m[\u001b[0m\u001b[0;36m3\u001b[0m\u001b[0;34m,\u001b[0m \u001b[0;36m5\u001b[0m\u001b[0;34m,\u001b[0m \u001b[0;36m2\u001b[0m\u001b[0;34m,\u001b[0m \u001b[0;34m-\u001b[0m\u001b[0;36m3\u001b[0m\u001b[0;34m]\u001b[0m\u001b[0;34m)\u001b[0m\u001b[0;34m==\u001b[0m\u001b[0;36m7\u001b[0m\u001b[0;34m)\u001b[0m\u001b[0;34m\u001b[0m\u001b[0;34m\u001b[0m\u001b[0m\n\u001b[1;32m      3\u001b[0m \u001b[0mprint\u001b[0m\u001b[0;34m(\u001b[0m\u001b[0msomme\u001b[0m\u001b[0;34m(\u001b[0m\u001b[0;34m[\u001b[0m\u001b[0;36m3.5\u001b[0m\u001b[0;34m,\u001b[0m \u001b[0;36m1.2\u001b[0m\u001b[0;34m,\u001b[0m \u001b[0;36m2.3\u001b[0m\u001b[0;34m]\u001b[0m\u001b[0;34m)\u001b[0m\u001b[0;34m==\u001b[0m\u001b[0;36m7.0\u001b[0m\u001b[0;34m)\u001b[0m\u001b[0;31m# Mis ici car pour la suite nous allons attendre une erreur\u001b[0m\u001b[0;34m\u001b[0m\u001b[0;34m\u001b[0m\u001b[0m\n\u001b[0;32m----> 4\u001b[0;31m \u001b[0mprint\u001b[0m\u001b[0;34m(\u001b[0m\u001b[0msomme\u001b[0m\u001b[0;34m(\u001b[0m\u001b[0;34m[\u001b[0m\u001b[0;36m3\u001b[0m\u001b[0;34m,\u001b[0m \u001b[0;34m\"rouge\"\u001b[0m\u001b[0;34m,\u001b[0m \u001b[0;36m1\u001b[0m\u001b[0;34m]\u001b[0m\u001b[0;34m)\u001b[0m\u001b[0;34m)\u001b[0m\u001b[0;34m\u001b[0m\u001b[0;34m\u001b[0m\u001b[0m\n\u001b[0m",
      "\u001b[0;32m<ipython-input-1-fb65eb2a52a6>\u001b[0m in \u001b[0;36msomme\u001b[0;34m(lis)\u001b[0m\n\u001b[1;32m      7\u001b[0m     \u001b[0ms\u001b[0m \u001b[0;34m=\u001b[0m \u001b[0;36m0\u001b[0m\u001b[0;34m\u001b[0m\u001b[0;34m\u001b[0m\u001b[0m\n\u001b[1;32m      8\u001b[0m     \u001b[0;32mfor\u001b[0m \u001b[0mi\u001b[0m \u001b[0;32min\u001b[0m \u001b[0mrange\u001b[0m\u001b[0;34m(\u001b[0m \u001b[0;36m0\u001b[0m\u001b[0;34m,\u001b[0m \u001b[0mlen\u001b[0m\u001b[0;34m(\u001b[0m\u001b[0mlis\u001b[0m\u001b[0;34m)\u001b[0m\u001b[0;34m,\u001b[0m \u001b[0;36m1\u001b[0m\u001b[0;34m)\u001b[0m\u001b[0;34m:\u001b[0m\u001b[0;34m\u001b[0m\u001b[0;34m\u001b[0m\u001b[0m\n\u001b[0;32m----> 9\u001b[0;31m         \u001b[0ms\u001b[0m \u001b[0;34m+=\u001b[0m \u001b[0mlis\u001b[0m\u001b[0;34m[\u001b[0m\u001b[0mi\u001b[0m\u001b[0;34m]\u001b[0m\u001b[0;34m\u001b[0m\u001b[0;34m\u001b[0m\u001b[0m\n\u001b[0m\u001b[1;32m     10\u001b[0m     \u001b[0;32mreturn\u001b[0m \u001b[0ms\u001b[0m\u001b[0;34m\u001b[0m\u001b[0;34m\u001b[0m\u001b[0m\n",
      "\u001b[0;31mTypeError\u001b[0m: unsupported operand type(s) for +=: 'int' and 'str'"
     ]
    }
   ],
   "source": [
    "print(somme([])==0)\n",
    "print(somme([3, 5, 2, -3])==7)\n",
    "print(somme([3.5, 1.2, 2.3])==7.0)# Mis ici car pour la suite nous allons attendre une erreur\n",
    "print(somme([3, \"rouge\", 1]))"
   ]
  },
  {
   "cell_type": "markdown",
   "metadata": {},
   "source": [
    "L'erreur d'exécution précédente est normale. L'appel de la fonction somme ne vérifie pas les préconditions"
   ]
  },
  {
   "cell_type": "code",
   "execution_count": 3,
   "metadata": {},
   "outputs": [],
   "source": [
    "# La version suivante est donnée pour information car très pratique et très utilisée en programmation Python\n",
    "# mais elle est à proscrire pour l'examen\n",
    "def somme2( lis ):\n",
    "    \"\"\"\n",
    "    Donnée : lis est une liste de valeurs\n",
    "    Précondition : toutes les valeurs de lis sont des nombres\n",
    "    Retour de fonction : la valeur de la somme des éléments de la liste\n",
    "    \"\"\"\n",
    "    s = 0\n",
    "    for elt in lis:\n",
    "        s += elt\n",
    "    return s"
   ]
  },
  {
   "cell_type": "markdown",
   "metadata": {},
   "source": [
    "**Exercice :**\n",
    "Ecrire une fonction permettant de vérifier que la somme des n premiers entiers impairs vaut n^2 pour tous les entiers n entre 0 et une valeur donnée en paramètre de la fonction.\n",
    "\n",
    "*Suggestion*: \n",
    "* construisez une liste des n premiers entiers impairs \n",
    "* puis déduisez la liste des valeurs cumulées (par exemple en partant de [1, 3, 5] vous obtiendrez [1, 4, 9]) \n",
    "* puis vérifiez que chaque entrée de cette deuxième liste correspond bien à un carré (la fonction renverra un booléen et s'arrêtera dès que possible). \n",
    "\n",
    "Votre fonction sera ainsi de complexité linéaire. \n",
    "\n",
    "Jusqu'à quelle valeur (à la louche), pouvez-vous tester avant que la réponse ne soit pas immédiate ?"
   ]
  },
  {
   "cell_type": "code",
   "execution_count": 4,
   "metadata": {},
   "outputs": [],
   "source": [
    "def verif_somme_impairs( nb ):\n",
    "    \"\"\"\n",
    "    Donnée un entier nb (supposé >= 0)\n",
    "    Résultat : un booléen\n",
    "    Rôle : la fonction retourne True si \n",
    "        pour chaque valeur d'entier n comprise entre 1 et nb\n",
    "            la somme des n premiers entiers impairs vaut n^2\n",
    "        La fonction retourne False dès que possible\n",
    "    \"\"\"\n",
    "    # construction de la liste des premiers entiers impairs\n",
    "    lis = []\n",
    "    next_impair = 1\n",
    "    for i in range( 0, nb,  ): # ou range(nb)\n",
    "        lis.append( next_impair)\n",
    "        next_impair += 2\n",
    "    # Transformation en une liste des sommes de premiers entiers impairs\n",
    "    for i in range( 1, nb, 1): # on saute la première valeur\n",
    "        lis[i] += lis[i-1]\n",
    "    # Test principal\n",
    "    # Remarque de correction. On cherche à s'arrêter dès que possible\n",
    "    i = 1\n",
    "    ok = True\n",
    "    while i <= nb and ok:\n",
    "        if lis[i-1] != i*i:\n",
    "            ok = False\n",
    "        else:\n",
    "            i += 1\n",
    "    return ok"
   ]
  },
  {
   "cell_type": "code",
   "execution_count": 5,
   "metadata": {},
   "outputs": [
    {
     "data": {
      "text/plain": [
       "True"
      ]
     },
     "execution_count": 5,
     "metadata": {},
     "output_type": "execute_result"
    }
   ],
   "source": [
    "verif_somme_impairs(10000000)"
   ]
  },
  {
   "cell_type": "code",
   "execution_count": null,
   "metadata": {},
   "outputs": [],
   "source": [
    "# Une version sans tableau (donc avec une meilleure complexité en mémoire), toujours de complexité linéaire \n",
    "# (mais ne suivant pas la suggestion)\n",
    "def verif_somme_impairs( nb ):\n",
    "    \"\"\"\n",
    "    Donnée un entier nb (supposé >= 0)\n",
    "    Résultat : un booléen\n",
    "    Rôle : la fonction retourne True si \n",
    "        pour chaque valeur d'entier n comprise entre 1 et nb\n",
    "            la somme des n premiers entiers impairs vaut n^2\n",
    "        La fonction retourne False dès que possible\n",
    "    \"\"\"\n",
    "    next_impair = 1\n",
    "    somme = 1\n",
    "    i = 1\n",
    "    ok = True\n",
    "    while i <= nb and ok:\n",
    "        if somme != i*i:\n",
    "            ok = False\n",
    "        else:\n",
    "            next_impair += 2\n",
    "            somme += next_impair\n",
    "            i+= 1\n",
    "    return ok\n",
    "# Remarque : même nom de fonction que la première version. Vous pouvez tester avec la cellule précédente"
   ]
  },
  {
   "cell_type": "markdown",
   "metadata": {},
   "source": [
    "Concernant la non-immédiateté de la question, on peut l'observer sur la machine de l'enseignant vers 200000 avec la première version (mais le ralentissement est clair avec 1000000). Avec la deuxième version, le ralentissement arrive un peu plus tardivement"
   ]
  }
 ],
 "metadata": {
  "kernelspec": {
   "display_name": "Python 3",
   "language": "python",
   "name": "python3"
  },
  "language_info": {
   "codemirror_mode": {
    "name": "ipython",
    "version": 3
   },
   "file_extension": ".py",
   "mimetype": "text/x-python",
   "name": "python",
   "nbconvert_exporter": "python",
   "pygments_lexer": "ipython3",
   "version": "3.7.0"
  }
 },
 "nbformat": 4,
 "nbformat_minor": 2
}
