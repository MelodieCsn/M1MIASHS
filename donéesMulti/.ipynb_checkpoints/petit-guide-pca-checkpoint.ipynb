{
 "cells": [
  {
   "cell_type": "code",
   "execution_count": null,
   "metadata": {
    "id": "XKOVl4k6iH2-"
   },
   "outputs": [],
   "source": [
    "# PETIT EXEMPLE POUR DES VALEURS CENTREES ET REDUITES (STANDARDISEE): on utilise le coefficient de corrélation pour le calcul de l'ACP\n",
    "\n",
    "from sklearn.preprocessing import StandardScaler\n",
    "A = array([[1, 2], [3, 4], [5, 6]])\n",
    "print(\"Données \\n\", A)\n",
    "\n",
    "# Standardisation des données avec Numpy:\n",
    "\n",
    "## calcul de la moyenne pour chaque colonne\n",
    "M = np.mean(A.T, axis=1)\n",
    "\n",
    "## On centre et on réduit les données (standardisation):\n",
    "S1 = (A - M)/np.std(A)\n",
    "print(\"\\n S1 \\n\", S1)\n",
    "\n",
    "# Standardisation des données avec sklearn\n",
    "scaler = StandardScaler()\n",
    "\n",
    "## Calcul de la moyenne et de l'écart type (stockés dans l'objet scaler)\n",
    "scaler.fit(A)\n",
    "\n",
    "## On retourne la matrice centrée et réduite\n",
    "S2 = scaler.transform(A)\n",
    "print(\"\\n S2 \\n\", S2)\n",
    "\n",
    "## OU 2 en 1\n",
    "## S2 = scaler.fit_transform(A)\n",
    "\n",
    "# Matrice des corrélations\n",
    "V = np.corrcoef(S1.T)\n",
    "\n",
    "# Decomposition de Eigen (décomposition en valeurs propres et vecteurs propres) de la matrice des corrélations \n",
    "values, vectors = eig(V)\n",
    "\n",
    "print(\"\\n Vectors \\n\", vectors)\n",
    "print(\"\\n Valeurs Propres \\n\", values)\n",
    "\n",
    "# ACP: projection des données\n",
    "P1 = vectors.T.dot(C.T)\n",
    "print(\"\\n ACP avec Numpy \\n\", P1.T)\n",
    "\n",
    "# ACP avec sklearn\n",
    "pca = PCA(2, svd_solver=\"full\")\n",
    "P2 = pca.fit_transform(C)\n",
    "print(\"\\n ACP avec scikit-learn \\n\", P2)\n",
    "\n",
    "print(\"\\n Est ce que les projections sont identiques? \\n\", np.allclose(P1.T, P2))"
   ]
  }
 ],
 "metadata": {
  "colab": {
   "name": "Untitled3.ipynb",
   "provenance": []
  },
  "kernelspec": {
   "display_name": "Python 3",
   "language": "python",
   "name": "python3"
  },
  "language_info": {
   "codemirror_mode": {
    "name": "ipython",
    "version": 3
   },
   "file_extension": ".py",
   "mimetype": "text/x-python",
   "name": "python",
   "nbconvert_exporter": "python",
   "pygments_lexer": "ipython3",
   "version": "3.7.9"
  }
 },
 "nbformat": 4,
 "nbformat_minor": 1
}
