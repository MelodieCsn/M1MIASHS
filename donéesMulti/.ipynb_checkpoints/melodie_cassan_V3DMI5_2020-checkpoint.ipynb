{
 "cells": [
  {
   "cell_type": "markdown",
   "metadata": {
    "id": "Jet8S7c0Hppu"
   },
   "source": [
    "# Analyse de données multidimensionnelles\n",
    "## Cassan Mélodie\n",
    "\n",
    "# Sujet de l'examen Final 2020 du Cours V3DMI5\n",
    "\n",
    "---\n",
    "Ce notebook contient votre compte-rendu pour l'examen. Il s'agit d'un travail __individuel__ que vous devez finir dans le temps imparti. Vous devez impérativement sauvegarder votre travail sous la forme d'un fichier  au format *.ipynb (Menu: Fichier / Télécharger le fichier .ipynb) et le téléverser sur Moodle avant l'heure limite de 10h45 (prévoir quelques minutes car l'outil Moodle se bloque automatiquement à 10h45).\n",
    "\n",
    " <img src=\"https://lca-icsi.com/wp-content/uploads/2016/04/warning.png\" alt=\"attention\" height=\"42\" width=\"42\" align=\"top\"> \n",
    " \n",
    " __Toute communication entre vous ou des extérieurs durant la durée de ce TP est interdite.__\n",
    "\n",
    "Vous avez par contre le droit\n",
    "* de vous aider de forums ou de sites quelconques internet.\n",
    "* De copier-coller du code. Dans ce cas, vous devez indiquer la source du programme de manière correcte (et comme pour le reste: commenter en français chaque ligne).\n",
    "* De me demander de l'aide sur Discord en cas de blocage majeur.\n",
    "\n",
    "\n",
    "Les critères de notation sont:\n",
    "* La qualité des commentaires détaillés et en français de __chaque ligne__ du programme.\n",
    "* Un code bien structuré et lisible.\n",
    "* L'exactitude des résultats\n",
    "---"
   ]
  },
  {
   "cell_type": "markdown",
   "metadata": {
    "id": "cM9blGyyzTGR"
   },
   "source": [
    "# Travail demandé\n",
    "\n",
    "1. Récupérer sous forme de tableau `numpy` les données du fichier http://biostatisticien.eu/Nobel_avecMath.csv qui contient le nombre de prix nobel et la taille de la population (en millions d'habitants) pour plusieurs pays ou grandes régions du monde. Utiliser la fonction `read_csv` de la librairie `pandas` et stocker le tableau dans un objet nommé `data_nobel`. (1 point)\n"
   ]
  },
  {
   "cell_type": "code",
   "execution_count": 20,
   "metadata": {
    "id": "03FKq-1T6rTR"
   },
   "outputs": [],
   "source": [
    "# VOTRE CODE ICI\n",
    "# on importe le package pandas\n",
    "import pandas as pd\n",
    "\n",
    "\n",
    "data_nobel = pd.read_csv('http://biostatisticien.eu/Nobel_avecMath.csv', sep=';', encoding = \"ISO-8859-1\")"
   ]
  },
  {
   "cell_type": "markdown",
   "metadata": {
    "id": "rI9cu69J7jHC"
   },
   "source": [
    "2. Afficher les premières lignes de ce fichier. (1 point)"
   ]
  },
  {
   "cell_type": "code",
   "execution_count": 22,
   "metadata": {
    "id": "tVhgg0va7oOB"
   },
   "outputs": [
    {
     "data": {
      "text/html": [
       "<div>\n",
       "<style scoped>\n",
       "    .dataframe tbody tr th:only-of-type {\n",
       "        vertical-align: middle;\n",
       "    }\n",
       "\n",
       "    .dataframe tbody tr th {\n",
       "        vertical-align: top;\n",
       "    }\n",
       "\n",
       "    .dataframe thead th {\n",
       "        text-align: right;\n",
       "    }\n",
       "</style>\n",
       "<table border=\"1\" class=\"dataframe\">\n",
       "  <thead>\n",
       "    <tr style=\"text-align: right;\">\n",
       "      <th></th>\n",
       "      <th>Unnamed: 0</th>\n",
       "      <th>Chimie</th>\n",
       "      <th>Economie</th>\n",
       "      <th>Littérature</th>\n",
       "      <th>Médecine</th>\n",
       "      <th>Paix</th>\n",
       "      <th>Physique</th>\n",
       "      <th>Mathématiques</th>\n",
       "      <th>Population</th>\n",
       "    </tr>\n",
       "  </thead>\n",
       "  <tbody>\n",
       "    <tr>\n",
       "      <th>0</th>\n",
       "      <td>Allemagne</td>\n",
       "      <td>24</td>\n",
       "      <td>1</td>\n",
       "      <td>8</td>\n",
       "      <td>18</td>\n",
       "      <td>5</td>\n",
       "      <td>24</td>\n",
       "      <td>1</td>\n",
       "      <td>83.020</td>\n",
       "    </tr>\n",
       "    <tr>\n",
       "      <th>1</th>\n",
       "      <td>Canada</td>\n",
       "      <td>4</td>\n",
       "      <td>3</td>\n",
       "      <td>2</td>\n",
       "      <td>4</td>\n",
       "      <td>1</td>\n",
       "      <td>4</td>\n",
       "      <td>1</td>\n",
       "      <td>37.590</td>\n",
       "    </tr>\n",
       "    <tr>\n",
       "      <th>2</th>\n",
       "      <td>France</td>\n",
       "      <td>8</td>\n",
       "      <td>3</td>\n",
       "      <td>11</td>\n",
       "      <td>12</td>\n",
       "      <td>10</td>\n",
       "      <td>9</td>\n",
       "      <td>11</td>\n",
       "      <td>66.990</td>\n",
       "    </tr>\n",
       "    <tr>\n",
       "      <th>3</th>\n",
       "      <td>GB</td>\n",
       "      <td>23</td>\n",
       "      <td>6</td>\n",
       "      <td>7</td>\n",
       "      <td>26</td>\n",
       "      <td>11</td>\n",
       "      <td>20</td>\n",
       "      <td>4</td>\n",
       "      <td>66.650</td>\n",
       "    </tr>\n",
       "    <tr>\n",
       "      <th>4</th>\n",
       "      <td>Italie</td>\n",
       "      <td>1</td>\n",
       "      <td>1</td>\n",
       "      <td>6</td>\n",
       "      <td>5</td>\n",
       "      <td>1</td>\n",
       "      <td>5</td>\n",
       "      <td>1</td>\n",
       "      <td>60.360</td>\n",
       "    </tr>\n",
       "    <tr>\n",
       "      <th>5</th>\n",
       "      <td>Japon</td>\n",
       "      <td>6</td>\n",
       "      <td>0</td>\n",
       "      <td>2</td>\n",
       "      <td>3</td>\n",
       "      <td>1</td>\n",
       "      <td>11</td>\n",
       "      <td>3</td>\n",
       "      <td>126.500</td>\n",
       "    </tr>\n",
       "    <tr>\n",
       "      <th>6</th>\n",
       "      <td>Russie</td>\n",
       "      <td>4</td>\n",
       "      <td>3</td>\n",
       "      <td>5</td>\n",
       "      <td>2</td>\n",
       "      <td>3</td>\n",
       "      <td>10</td>\n",
       "      <td>9</td>\n",
       "      <td>144.500</td>\n",
       "    </tr>\n",
       "    <tr>\n",
       "      <th>7</th>\n",
       "      <td>USA</td>\n",
       "      <td>51</td>\n",
       "      <td>43</td>\n",
       "      <td>8</td>\n",
       "      <td>70</td>\n",
       "      <td>19</td>\n",
       "      <td>66</td>\n",
       "      <td>13</td>\n",
       "      <td>328.200</td>\n",
       "    </tr>\n",
       "    <tr>\n",
       "      <th>8</th>\n",
       "      <td>Afrique</td>\n",
       "      <td>1</td>\n",
       "      <td>0</td>\n",
       "      <td>5</td>\n",
       "      <td>3</td>\n",
       "      <td>8</td>\n",
       "      <td>2</td>\n",
       "      <td>1</td>\n",
       "      <td>1216.000</td>\n",
       "    </tr>\n",
       "    <tr>\n",
       "      <th>9</th>\n",
       "      <td>Amérique</td>\n",
       "      <td>56</td>\n",
       "      <td>47</td>\n",
       "      <td>18</td>\n",
       "      <td>78</td>\n",
       "      <td>25</td>\n",
       "      <td>70</td>\n",
       "      <td>15</td>\n",
       "      <td>1002.000</td>\n",
       "    </tr>\n",
       "    <tr>\n",
       "      <th>10</th>\n",
       "      <td>Asie</td>\n",
       "      <td>17</td>\n",
       "      <td>2</td>\n",
       "      <td>10</td>\n",
       "      <td>7</td>\n",
       "      <td>16</td>\n",
       "      <td>19</td>\n",
       "      <td>7</td>\n",
       "      <td>4463.000</td>\n",
       "    </tr>\n",
       "    <tr>\n",
       "      <th>11</th>\n",
       "      <td>Europe</td>\n",
       "      <td>94</td>\n",
       "      <td>26</td>\n",
       "      <td>79</td>\n",
       "      <td>110</td>\n",
       "      <td>51</td>\n",
       "      <td>103</td>\n",
       "      <td>34</td>\n",
       "      <td>741.400</td>\n",
       "    </tr>\n",
       "    <tr>\n",
       "      <th>12</th>\n",
       "      <td>Océanie</td>\n",
       "      <td>3</td>\n",
       "      <td>0</td>\n",
       "      <td>0</td>\n",
       "      <td>9</td>\n",
       "      <td>0</td>\n",
       "      <td>2</td>\n",
       "      <td>2</td>\n",
       "      <td>38.277</td>\n",
       "    </tr>\n",
       "  </tbody>\n",
       "</table>\n",
       "</div>"
      ],
      "text/plain": [
       "   Unnamed: 0  Chimie  Economie  Littérature  Médecine  Paix  Physique  \\\n",
       "0   Allemagne      24         1            8        18     5        24   \n",
       "1      Canada       4         3            2         4     1         4   \n",
       "2      France       8         3           11        12    10         9   \n",
       "3          GB      23         6            7        26    11        20   \n",
       "4      Italie       1         1            6         5     1         5   \n",
       "5       Japon       6         0            2         3     1        11   \n",
       "6      Russie       4         3            5         2     3        10   \n",
       "7         USA      51        43            8        70    19        66   \n",
       "8     Afrique       1         0            5         3     8         2   \n",
       "9    Amérique      56        47           18        78    25        70   \n",
       "10       Asie      17         2           10         7    16        19   \n",
       "11     Europe      94        26           79       110    51       103   \n",
       "12    Océanie       3         0            0         9     0         2   \n",
       "\n",
       "    Mathématiques  Population  \n",
       "0               1      83.020  \n",
       "1               1      37.590  \n",
       "2              11      66.990  \n",
       "3               4      66.650  \n",
       "4               1      60.360  \n",
       "5               3     126.500  \n",
       "6               9     144.500  \n",
       "7              13     328.200  \n",
       "8               1    1216.000  \n",
       "9              15    1002.000  \n",
       "10              7    4463.000  \n",
       "11             34     741.400  \n",
       "12              2      38.277  "
      ]
     },
     "execution_count": 22,
     "metadata": {},
     "output_type": "execute_result"
    }
   ],
   "source": [
    "# VOTRE CODE ICI\n",
    "data_nobel"
   ]
  },
  {
   "cell_type": "markdown",
   "metadata": {
    "id": "-m3ork7K8L3J"
   },
   "source": [
    "3. Renommer la première colonne avec l'intitulé \"Pays ou région\", puis choisir cette colonne comme index et afficher les premieres lignes de la table ainsi modifiée. (1 point)"
   ]
  },
  {
   "cell_type": "code",
   "execution_count": 24,
   "metadata": {
    "id": "8Q0Qh4il8ldU"
   },
   "outputs": [
    {
     "data": {
      "text/html": [
       "<div>\n",
       "<style scoped>\n",
       "    .dataframe tbody tr th:only-of-type {\n",
       "        vertical-align: middle;\n",
       "    }\n",
       "\n",
       "    .dataframe tbody tr th {\n",
       "        vertical-align: top;\n",
       "    }\n",
       "\n",
       "    .dataframe thead th {\n",
       "        text-align: right;\n",
       "    }\n",
       "</style>\n",
       "<table border=\"1\" class=\"dataframe\">\n",
       "  <thead>\n",
       "    <tr style=\"text-align: right;\">\n",
       "      <th></th>\n",
       "      <th>Chimie</th>\n",
       "      <th>Economie</th>\n",
       "      <th>Littérature</th>\n",
       "      <th>Médecine</th>\n",
       "      <th>Paix</th>\n",
       "      <th>Physique</th>\n",
       "      <th>Mathématiques</th>\n",
       "      <th>Population</th>\n",
       "    </tr>\n",
       "    <tr>\n",
       "      <th>Pays ou région</th>\n",
       "      <th></th>\n",
       "      <th></th>\n",
       "      <th></th>\n",
       "      <th></th>\n",
       "      <th></th>\n",
       "      <th></th>\n",
       "      <th></th>\n",
       "      <th></th>\n",
       "    </tr>\n",
       "  </thead>\n",
       "  <tbody>\n",
       "    <tr>\n",
       "      <th>Allemagne</th>\n",
       "      <td>24</td>\n",
       "      <td>1</td>\n",
       "      <td>8</td>\n",
       "      <td>18</td>\n",
       "      <td>5</td>\n",
       "      <td>24</td>\n",
       "      <td>1</td>\n",
       "      <td>83.02</td>\n",
       "    </tr>\n",
       "    <tr>\n",
       "      <th>Canada</th>\n",
       "      <td>4</td>\n",
       "      <td>3</td>\n",
       "      <td>2</td>\n",
       "      <td>4</td>\n",
       "      <td>1</td>\n",
       "      <td>4</td>\n",
       "      <td>1</td>\n",
       "      <td>37.59</td>\n",
       "    </tr>\n",
       "    <tr>\n",
       "      <th>France</th>\n",
       "      <td>8</td>\n",
       "      <td>3</td>\n",
       "      <td>11</td>\n",
       "      <td>12</td>\n",
       "      <td>10</td>\n",
       "      <td>9</td>\n",
       "      <td>11</td>\n",
       "      <td>66.99</td>\n",
       "    </tr>\n",
       "    <tr>\n",
       "      <th>GB</th>\n",
       "      <td>23</td>\n",
       "      <td>6</td>\n",
       "      <td>7</td>\n",
       "      <td>26</td>\n",
       "      <td>11</td>\n",
       "      <td>20</td>\n",
       "      <td>4</td>\n",
       "      <td>66.65</td>\n",
       "    </tr>\n",
       "    <tr>\n",
       "      <th>Italie</th>\n",
       "      <td>1</td>\n",
       "      <td>1</td>\n",
       "      <td>6</td>\n",
       "      <td>5</td>\n",
       "      <td>1</td>\n",
       "      <td>5</td>\n",
       "      <td>1</td>\n",
       "      <td>60.36</td>\n",
       "    </tr>\n",
       "  </tbody>\n",
       "</table>\n",
       "</div>"
      ],
      "text/plain": [
       "                Chimie  Economie  Littérature  Médecine  Paix  Physique  \\\n",
       "Pays ou région                                                            \n",
       "Allemagne           24         1            8        18     5        24   \n",
       "Canada               4         3            2         4     1         4   \n",
       "France               8         3           11        12    10         9   \n",
       "GB                  23         6            7        26    11        20   \n",
       "Italie               1         1            6         5     1         5   \n",
       "\n",
       "                Mathématiques  Population  \n",
       "Pays ou région                             \n",
       "Allemagne                   1       83.02  \n",
       "Canada                      1       37.59  \n",
       "France                     11       66.99  \n",
       "GB                          4       66.65  \n",
       "Italie                      1       60.36  "
      ]
     },
     "execution_count": 24,
     "metadata": {},
     "output_type": "execute_result"
    }
   ],
   "source": [
    "# VOTRE CODE ICI\n",
    "data_nobel = data_nobel.rename(columns={data_nobel.columns[0]: 'Pays ou région'})\n",
    "data_nobel = data_nobel.set_index('Pays ou région')\n",
    "data_nobel.head()"
   ]
  },
  {
   "cell_type": "markdown",
   "metadata": {
    "id": "BtZqKug8839t"
   },
   "source": [
    "4. Afficher une description numerique de toutes les variables comme vu dans le cours (1 point)"
   ]
  },
  {
   "cell_type": "code",
   "execution_count": 25,
   "metadata": {
    "id": "buMDnMDn89PZ"
   },
   "outputs": [
    {
     "data": {
      "text/html": [
       "<div>\n",
       "<style scoped>\n",
       "    .dataframe tbody tr th:only-of-type {\n",
       "        vertical-align: middle;\n",
       "    }\n",
       "\n",
       "    .dataframe tbody tr th {\n",
       "        vertical-align: top;\n",
       "    }\n",
       "\n",
       "    .dataframe thead th {\n",
       "        text-align: right;\n",
       "    }\n",
       "</style>\n",
       "<table border=\"1\" class=\"dataframe\">\n",
       "  <thead>\n",
       "    <tr style=\"text-align: right;\">\n",
       "      <th></th>\n",
       "      <th>Chimie</th>\n",
       "      <th>Economie</th>\n",
       "      <th>Littérature</th>\n",
       "      <th>Médecine</th>\n",
       "      <th>Paix</th>\n",
       "      <th>Physique</th>\n",
       "      <th>Mathématiques</th>\n",
       "      <th>Population</th>\n",
       "    </tr>\n",
       "  </thead>\n",
       "  <tbody>\n",
       "    <tr>\n",
       "      <th>count</th>\n",
       "      <td>13.000000</td>\n",
       "      <td>13.000000</td>\n",
       "      <td>13.000000</td>\n",
       "      <td>13.000000</td>\n",
       "      <td>13.000000</td>\n",
       "      <td>13.000000</td>\n",
       "      <td>13.000000</td>\n",
       "      <td>13.000000</td>\n",
       "    </tr>\n",
       "    <tr>\n",
       "      <th>mean</th>\n",
       "      <td>22.461538</td>\n",
       "      <td>10.384615</td>\n",
       "      <td>12.384615</td>\n",
       "      <td>26.692308</td>\n",
       "      <td>11.615385</td>\n",
       "      <td>26.538462</td>\n",
       "      <td>7.846154</td>\n",
       "      <td>644.191308</td>\n",
       "    </tr>\n",
       "    <tr>\n",
       "      <th>std</th>\n",
       "      <td>28.212336</td>\n",
       "      <td>16.835174</td>\n",
       "      <td>20.540766</td>\n",
       "      <td>35.541958</td>\n",
       "      <td>14.174734</td>\n",
       "      <td>32.141913</td>\n",
       "      <td>9.281219</td>\n",
       "      <td>1215.280236</td>\n",
       "    </tr>\n",
       "    <tr>\n",
       "      <th>min</th>\n",
       "      <td>1.000000</td>\n",
       "      <td>0.000000</td>\n",
       "      <td>0.000000</td>\n",
       "      <td>2.000000</td>\n",
       "      <td>0.000000</td>\n",
       "      <td>2.000000</td>\n",
       "      <td>1.000000</td>\n",
       "      <td>37.590000</td>\n",
       "    </tr>\n",
       "    <tr>\n",
       "      <th>25%</th>\n",
       "      <td>4.000000</td>\n",
       "      <td>1.000000</td>\n",
       "      <td>5.000000</td>\n",
       "      <td>4.000000</td>\n",
       "      <td>1.000000</td>\n",
       "      <td>5.000000</td>\n",
       "      <td>1.000000</td>\n",
       "      <td>66.650000</td>\n",
       "    </tr>\n",
       "    <tr>\n",
       "      <th>50%</th>\n",
       "      <td>8.000000</td>\n",
       "      <td>3.000000</td>\n",
       "      <td>7.000000</td>\n",
       "      <td>9.000000</td>\n",
       "      <td>8.000000</td>\n",
       "      <td>11.000000</td>\n",
       "      <td>4.000000</td>\n",
       "      <td>126.500000</td>\n",
       "    </tr>\n",
       "    <tr>\n",
       "      <th>75%</th>\n",
       "      <td>24.000000</td>\n",
       "      <td>6.000000</td>\n",
       "      <td>10.000000</td>\n",
       "      <td>26.000000</td>\n",
       "      <td>16.000000</td>\n",
       "      <td>24.000000</td>\n",
       "      <td>11.000000</td>\n",
       "      <td>741.400000</td>\n",
       "    </tr>\n",
       "    <tr>\n",
       "      <th>max</th>\n",
       "      <td>94.000000</td>\n",
       "      <td>47.000000</td>\n",
       "      <td>79.000000</td>\n",
       "      <td>110.000000</td>\n",
       "      <td>51.000000</td>\n",
       "      <td>103.000000</td>\n",
       "      <td>34.000000</td>\n",
       "      <td>4463.000000</td>\n",
       "    </tr>\n",
       "  </tbody>\n",
       "</table>\n",
       "</div>"
      ],
      "text/plain": [
       "          Chimie   Economie  Littérature    Médecine       Paix    Physique  \\\n",
       "count  13.000000  13.000000    13.000000   13.000000  13.000000   13.000000   \n",
       "mean   22.461538  10.384615    12.384615   26.692308  11.615385   26.538462   \n",
       "std    28.212336  16.835174    20.540766   35.541958  14.174734   32.141913   \n",
       "min     1.000000   0.000000     0.000000    2.000000   0.000000    2.000000   \n",
       "25%     4.000000   1.000000     5.000000    4.000000   1.000000    5.000000   \n",
       "50%     8.000000   3.000000     7.000000    9.000000   8.000000   11.000000   \n",
       "75%    24.000000   6.000000    10.000000   26.000000  16.000000   24.000000   \n",
       "max    94.000000  47.000000    79.000000  110.000000  51.000000  103.000000   \n",
       "\n",
       "       Mathématiques   Population  \n",
       "count      13.000000    13.000000  \n",
       "mean        7.846154   644.191308  \n",
       "std         9.281219  1215.280236  \n",
       "min         1.000000    37.590000  \n",
       "25%         1.000000    66.650000  \n",
       "50%         4.000000   126.500000  \n",
       "75%        11.000000   741.400000  \n",
       "max        34.000000  4463.000000  "
      ]
     },
     "execution_count": 25,
     "metadata": {},
     "output_type": "execute_result"
    }
   ],
   "source": [
    "# VOTRE CODE ICI\n",
    "# On utilise la fonction describe et on stocke le résultat\n",
    "description = data_nobel.describe()\n",
    "\n",
    "#On affiche la description\n",
    "description"
   ]
  },
  {
   "cell_type": "markdown",
   "metadata": {
    "id": "i71SZkpzArCe"
   },
   "source": [
    "5. Afficher la liste des pays et régions. (1 point)"
   ]
  },
  {
   "cell_type": "code",
   "execution_count": 26,
   "metadata": {
    "id": "K-hxDCqGAxwL"
   },
   "outputs": [
    {
     "name": "stdout",
     "output_type": "stream",
     "text": [
      "Index(['Allemagne', 'Canada', 'France', 'GB', 'Italie', 'Japon', 'Russie',\n",
      "       'USA', 'Afrique', 'Amérique', 'Asie', 'Europe', 'Océanie'],\n",
      "      dtype='object', name='Pays ou région')\n"
     ]
    }
   ],
   "source": [
    "# VOTRE CODE ICI\n",
    "print(data_nobel.index)"
   ]
  },
  {
   "cell_type": "markdown",
   "metadata": {
    "id": "cGvtf80t-QLA"
   },
   "source": [
    "6. En utilisant la fonction `at`, extraire et afficher le nombre de prix nobel de physique en Allemagne. (1 point)"
   ]
  },
  {
   "cell_type": "code",
   "execution_count": 27,
   "metadata": {
    "id": "CKnZopPY-Z6F"
   },
   "outputs": [
    {
     "name": "stdout",
     "output_type": "stream",
     "text": [
      "nombre de prix nobel de physique en Allemagne : 24\n"
     ]
    }
   ],
   "source": [
    "# VOTRE CODE ICI\n",
    "print(\"nombre de prix nobel de physique en Allemagne :\",data_nobel.at['Allemagne','Physique'])"
   ]
  },
  {
   "cell_type": "markdown",
   "metadata": {
    "id": "R6jSK3wS_vDh"
   },
   "source": [
    "7. Extraire et afficher la sous-table du nombre de prix nobel en sciences (Chimie, Physique et Mathématiques) pour les seuls quatre pays européens (sans la région `Europe`). Utiliser la fonction `loc`. (1 point)"
   ]
  },
  {
   "cell_type": "code",
   "execution_count": 28,
   "metadata": {
    "id": "ZJnufzRHAP8w"
   },
   "outputs": [
    {
     "name": "stdout",
     "output_type": "stream",
     "text": [
      "                Chimie  Physique  Mathématiques\n",
      "Pays ou région                                 \n",
      "France               8         9             11\n",
      "Allemagne           24        24              1\n",
      "Italie               1         5              1\n",
      "GB                  23        20              4\n"
     ]
    }
   ],
   "source": [
    "# VOTRE CODE ICI\n",
    "#on crée un liste des pays européens\n",
    "pays_europeens = [ 'France', 'Allemagne','Italie', 'GB']\n",
    "\n",
    "#On crée une liste des sciences\n",
    "sciences = ['Chimie','Physique','Mathématiques']\n",
    "\n",
    "#On affiche les prix nobels en sciences pour les pays européens\n",
    "print(data_nobel.loc[pays_europeens,sciences])\n"
   ]
  },
  {
   "cell_type": "markdown",
   "metadata": {
    "id": "hcCGXFXYBxlA"
   },
   "source": [
    "8. Réorganiser toutes les données par taille croissante de la population et afficher l'ensemble des données ainsi réorganisées. (1 point)"
   ]
  },
  {
   "cell_type": "code",
   "execution_count": 29,
   "metadata": {
    "id": "hQBlKimdCAQQ"
   },
   "outputs": [
    {
     "data": {
      "text/html": [
       "<div>\n",
       "<style scoped>\n",
       "    .dataframe tbody tr th:only-of-type {\n",
       "        vertical-align: middle;\n",
       "    }\n",
       "\n",
       "    .dataframe tbody tr th {\n",
       "        vertical-align: top;\n",
       "    }\n",
       "\n",
       "    .dataframe thead th {\n",
       "        text-align: right;\n",
       "    }\n",
       "</style>\n",
       "<table border=\"1\" class=\"dataframe\">\n",
       "  <thead>\n",
       "    <tr style=\"text-align: right;\">\n",
       "      <th></th>\n",
       "      <th>Chimie</th>\n",
       "      <th>Economie</th>\n",
       "      <th>Littérature</th>\n",
       "      <th>Médecine</th>\n",
       "      <th>Paix</th>\n",
       "      <th>Physique</th>\n",
       "      <th>Mathématiques</th>\n",
       "      <th>Population</th>\n",
       "    </tr>\n",
       "    <tr>\n",
       "      <th>Pays ou région</th>\n",
       "      <th></th>\n",
       "      <th></th>\n",
       "      <th></th>\n",
       "      <th></th>\n",
       "      <th></th>\n",
       "      <th></th>\n",
       "      <th></th>\n",
       "      <th></th>\n",
       "    </tr>\n",
       "  </thead>\n",
       "  <tbody>\n",
       "    <tr>\n",
       "      <th>Canada</th>\n",
       "      <td>4</td>\n",
       "      <td>3</td>\n",
       "      <td>2</td>\n",
       "      <td>4</td>\n",
       "      <td>1</td>\n",
       "      <td>4</td>\n",
       "      <td>1</td>\n",
       "      <td>37.590</td>\n",
       "    </tr>\n",
       "    <tr>\n",
       "      <th>Océanie</th>\n",
       "      <td>3</td>\n",
       "      <td>0</td>\n",
       "      <td>0</td>\n",
       "      <td>9</td>\n",
       "      <td>0</td>\n",
       "      <td>2</td>\n",
       "      <td>2</td>\n",
       "      <td>38.277</td>\n",
       "    </tr>\n",
       "    <tr>\n",
       "      <th>Italie</th>\n",
       "      <td>1</td>\n",
       "      <td>1</td>\n",
       "      <td>6</td>\n",
       "      <td>5</td>\n",
       "      <td>1</td>\n",
       "      <td>5</td>\n",
       "      <td>1</td>\n",
       "      <td>60.360</td>\n",
       "    </tr>\n",
       "    <tr>\n",
       "      <th>GB</th>\n",
       "      <td>23</td>\n",
       "      <td>6</td>\n",
       "      <td>7</td>\n",
       "      <td>26</td>\n",
       "      <td>11</td>\n",
       "      <td>20</td>\n",
       "      <td>4</td>\n",
       "      <td>66.650</td>\n",
       "    </tr>\n",
       "    <tr>\n",
       "      <th>France</th>\n",
       "      <td>8</td>\n",
       "      <td>3</td>\n",
       "      <td>11</td>\n",
       "      <td>12</td>\n",
       "      <td>10</td>\n",
       "      <td>9</td>\n",
       "      <td>11</td>\n",
       "      <td>66.990</td>\n",
       "    </tr>\n",
       "    <tr>\n",
       "      <th>Allemagne</th>\n",
       "      <td>24</td>\n",
       "      <td>1</td>\n",
       "      <td>8</td>\n",
       "      <td>18</td>\n",
       "      <td>5</td>\n",
       "      <td>24</td>\n",
       "      <td>1</td>\n",
       "      <td>83.020</td>\n",
       "    </tr>\n",
       "    <tr>\n",
       "      <th>Japon</th>\n",
       "      <td>6</td>\n",
       "      <td>0</td>\n",
       "      <td>2</td>\n",
       "      <td>3</td>\n",
       "      <td>1</td>\n",
       "      <td>11</td>\n",
       "      <td>3</td>\n",
       "      <td>126.500</td>\n",
       "    </tr>\n",
       "    <tr>\n",
       "      <th>Russie</th>\n",
       "      <td>4</td>\n",
       "      <td>3</td>\n",
       "      <td>5</td>\n",
       "      <td>2</td>\n",
       "      <td>3</td>\n",
       "      <td>10</td>\n",
       "      <td>9</td>\n",
       "      <td>144.500</td>\n",
       "    </tr>\n",
       "    <tr>\n",
       "      <th>USA</th>\n",
       "      <td>51</td>\n",
       "      <td>43</td>\n",
       "      <td>8</td>\n",
       "      <td>70</td>\n",
       "      <td>19</td>\n",
       "      <td>66</td>\n",
       "      <td>13</td>\n",
       "      <td>328.200</td>\n",
       "    </tr>\n",
       "    <tr>\n",
       "      <th>Europe</th>\n",
       "      <td>94</td>\n",
       "      <td>26</td>\n",
       "      <td>79</td>\n",
       "      <td>110</td>\n",
       "      <td>51</td>\n",
       "      <td>103</td>\n",
       "      <td>34</td>\n",
       "      <td>741.400</td>\n",
       "    </tr>\n",
       "    <tr>\n",
       "      <th>Amérique</th>\n",
       "      <td>56</td>\n",
       "      <td>47</td>\n",
       "      <td>18</td>\n",
       "      <td>78</td>\n",
       "      <td>25</td>\n",
       "      <td>70</td>\n",
       "      <td>15</td>\n",
       "      <td>1002.000</td>\n",
       "    </tr>\n",
       "    <tr>\n",
       "      <th>Afrique</th>\n",
       "      <td>1</td>\n",
       "      <td>0</td>\n",
       "      <td>5</td>\n",
       "      <td>3</td>\n",
       "      <td>8</td>\n",
       "      <td>2</td>\n",
       "      <td>1</td>\n",
       "      <td>1216.000</td>\n",
       "    </tr>\n",
       "    <tr>\n",
       "      <th>Asie</th>\n",
       "      <td>17</td>\n",
       "      <td>2</td>\n",
       "      <td>10</td>\n",
       "      <td>7</td>\n",
       "      <td>16</td>\n",
       "      <td>19</td>\n",
       "      <td>7</td>\n",
       "      <td>4463.000</td>\n",
       "    </tr>\n",
       "  </tbody>\n",
       "</table>\n",
       "</div>"
      ],
      "text/plain": [
       "                Chimie  Economie  Littérature  Médecine  Paix  Physique  \\\n",
       "Pays ou région                                                            \n",
       "Canada               4         3            2         4     1         4   \n",
       "Océanie              3         0            0         9     0         2   \n",
       "Italie               1         1            6         5     1         5   \n",
       "GB                  23         6            7        26    11        20   \n",
       "France               8         3           11        12    10         9   \n",
       "Allemagne           24         1            8        18     5        24   \n",
       "Japon                6         0            2         3     1        11   \n",
       "Russie               4         3            5         2     3        10   \n",
       "USA                 51        43            8        70    19        66   \n",
       "Europe              94        26           79       110    51       103   \n",
       "Amérique            56        47           18        78    25        70   \n",
       "Afrique              1         0            5         3     8         2   \n",
       "Asie                17         2           10         7    16        19   \n",
       "\n",
       "                Mathématiques  Population  \n",
       "Pays ou région                             \n",
       "Canada                      1      37.590  \n",
       "Océanie                     2      38.277  \n",
       "Italie                      1      60.360  \n",
       "GB                          4      66.650  \n",
       "France                     11      66.990  \n",
       "Allemagne                   1      83.020  \n",
       "Japon                       3     126.500  \n",
       "Russie                      9     144.500  \n",
       "USA                        13     328.200  \n",
       "Europe                     34     741.400  \n",
       "Amérique                   15    1002.000  \n",
       "Afrique                     1    1216.000  \n",
       "Asie                        7    4463.000  "
      ]
     },
     "execution_count": 29,
     "metadata": {},
     "output_type": "execute_result"
    }
   ],
   "source": [
    "# VOTRE CODE ICI\n",
    "data_nobel.sort_values(by=['Population'])"
   ]
  },
  {
   "cell_type": "markdown",
   "metadata": {
    "id": "A7l66QrRCUk8"
   },
   "source": [
    "9. Faire un nuage de points (*scatter plot*) du nombre de prix nobel de mathématiques en fonction de la taille de la population. Inclure tous les pays et régions. Utiliser les librairies `seaborn` et `matplotlib`. Les noms des pays et régions seront visibles sur votre graphique et vos axes auront des labels. (1 point)"
   ]
  },
  {
   "cell_type": "code",
   "execution_count": 31,
   "metadata": {
    "id": "3vFeuTvFCs-7"
   },
   "outputs": [
    {
     "data": {
      "image/png": "[encoded data removed]",
      "text/plain": [
       "<Figure size 432x288 with 1 Axes>"
      ]
     },
     "metadata": {
      "needs_background": "light"
     },
     "output_type": "display_data"
    }
   ],
   "source": [
    "# VOTRE CODE ICI\n",
    "import seaborn as sns\n",
    "\n",
    "sp = sns.scatterplot(data=data_nobel, x=\"Pays ou région\", y=\"Population\")\n",
    "for item in sp.get_xticklabels():\n",
    "    item.set_rotation(45)"
   ]
  },
  {
   "cell_type": "markdown",
   "metadata": {
    "id": "zKvqpeYhFz5t"
   },
   "source": [
    "10. Calculer et afficher le vecteur des moyennes de toutes les colonnes du jeu de données. Utiliser la librarie `numpy`. (1 point)"
   ]
  },
  {
   "cell_type": "code",
   "execution_count": 36,
   "metadata": {
    "id": "bzoFIXDqGFVo"
   },
   "outputs": [
    {
     "data": {
      "text/plain": [
       "Chimie            22.461538\n",
       "Economie          10.384615\n",
       "Littérature       12.384615\n",
       "Médecine          26.692308\n",
       "Paix              11.615385\n",
       "Physique          26.538462\n",
       "Mathématiques      7.846154\n",
       "Population       644.191308\n",
       "dtype: float64"
      ]
     },
     "execution_count": 36,
     "metadata": {},
     "output_type": "execute_result"
    }
   ],
   "source": [
    "# VOTRE CODE ICI\n",
    "import numpy as np\n",
    "moyennes = np.mean(data_nobel)\n",
    "moyennes"
   ]
  },
  {
   "cell_type": "markdown",
   "metadata": {
    "id": "h-1mV_zrGrkn"
   },
   "source": [
    "11. Calculer et afficher le vecteur des écart-types de toutes les colonnes du jeu de données. Utiliser la librarie `numpy`. (1 point)"
   ]
  },
  {
   "cell_type": "code",
   "execution_count": 37,
   "metadata": {
    "id": "h3un0NCWGyEr"
   },
   "outputs": [
    {
     "data": {
      "text/plain": [
       "Chimie             27.105536\n",
       "Economie           16.174712\n",
       "Littérature        19.734930\n",
       "Médecine           34.147609\n",
       "Paix               13.618644\n",
       "Physique           30.880951\n",
       "Mathématiques       8.917107\n",
       "Population       1167.603484\n",
       "dtype: float64"
      ]
     },
     "execution_count": 37,
     "metadata": {},
     "output_type": "execute_result"
    }
   ],
   "source": [
    "# VOTRE CODE ICI\n",
    "std = np.std(data_nobel)\n",
    "std"
   ]
  },
  {
   "cell_type": "markdown",
   "metadata": {
    "id": "TmFo5de5G_Gl"
   },
   "source": [
    "12. Calculer la matrice des données centrées-réduites et stocker la dans un objet nommé `X`. Vous pouvez soit utiliser les moyennes et écart-types calculés aux questions 10 et 11, soit utiliser une fonction de la librairie `sklearn` que nous avons vue en cours (auquel cas vous pouvez vérifier les valeurs trouvées aux deux questions précédentes.) Il est bon de noter que les fonctions `DataFrame` et `to_markdown` de la librairie `pandas` vous permettent d'obtenir un affichage plus joli (ce n'est pas exigé). (1 point)"
   ]
  },
  {
   "cell_type": "code",
   "execution_count": 39,
   "metadata": {
    "id": "hGJBKhrhHWgv"
   },
   "outputs": [
    {
     "name": "stdout",
     "output_type": "stream",
     "text": [
      "dict_keys(['with_mean', 'with_std', 'copy', 'n_features_in_', 'n_samples_seen_', 'mean_', 'var_', 'scale_'])\n"
     ]
    }
   ],
   "source": [
    "# VOTRE CODE ICI\n",
    "from sklearn.preprocessing import StandardScaler\n",
    "\n",
    "data_columns = data_nobel.columns\n",
    "x = data_nobel[data_columns]\n",
    "\n",
    "scaler = StandardScaler()\n",
    "y = scaler.fit(x)\n",
    "print(y.__dict__.keys())\n",
    "\n",
    "x = scaler.fit_transform(x)"
   ]
  },
  {
   "cell_type": "markdown",
   "metadata": {
    "id": "KaDu5RfQKY2f"
   },
   "source": [
    "13. Utiliser les fonctions `eig` et `dot` de la librairie `numpy` pour calculer les valeurs propres et vecteurs propres de la matrice des corrélations $(X^TX)/n$ où $n$ est le nombre de pays/régions et $X$ est la matrice des données centrées-réduites obtenue à la question précédente. De manière équivalente, vous pouvez utiliser la fonction `corrcoef` de la librairie `numpy` directement sur `data_nobel.T`. (C'est ainsi une façon de vérifier vos résultats, ou bien d'être en mesure de faire cette question même si vous n'avez pas fait la question 12.) Stocker ces valeurs propres et vecteurs propres dans des objets nommés `values` et `vectors`. Afficher la valeur de $\\lambda_1$, la plus grande valeur propre (vous devriez trouver une valeur très proche de 6). (1 point)"
   ]
  },
  {
   "cell_type": "code",
   "execution_count": 43,
   "metadata": {
    "id": "I95NjBltKqq1"
   },
   "outputs": [
    {
     "name": "stdout",
     "output_type": "stream",
     "text": [
      "\n",
      " Vecteurs propres \n",
      " [[-0.3983602  -0.03866433  0.03574555  0.43043545  0.37745189  0.29507085\n",
      "   0.6508852  -0.00857445]\n",
      " [-0.31873417 -0.2144837   0.68810697 -0.30003181 -0.28299515 -0.33112715\n",
      "   0.269184    0.16341209]\n",
      " [-0.35359949  0.09912744 -0.56618871  0.1255125  -0.24576871 -0.66045242\n",
      "   0.17943877 -0.00449178]\n",
      " [-0.39497982 -0.14809114  0.13316217  0.20679401 -0.22710828  0.11569418\n",
      "  -0.3254751  -0.76854842]\n",
      " [-0.39162786  0.17935691 -0.13984141  0.02067544 -0.54646634  0.5204469\n",
      "  -0.14812943  0.45060278]\n",
      " [-0.39788899 -0.06221078  0.13442886  0.22102935  0.49574995 -0.21564687\n",
      "  -0.58564136  0.36829565]\n",
      " [-0.38016603  0.03969878 -0.26003783 -0.78533614  0.34206301  0.16462762\n",
      "   0.02825251 -0.15690034]\n",
      " [-0.04961631  0.9397497   0.28580207  0.01244183  0.06374016 -0.09609712\n",
      "   0.00630761 -0.13868614]]\n",
      "\n",
      " Valeurs Propres \n",
      " [6.13166534e+00 1.05323826e+00 6.66319007e-01 1.02953420e-01\n",
      " 2.66526649e-02 1.40432256e-02 1.03873644e-03 4.08933950e-03]\n"
     ]
    }
   ],
   "source": [
    "# VOTRE CODE ICI\n",
    "V = np.corrcoef(x.T)\n",
    "values, vectors = np.linalg.eig(V)\n",
    "print(\"\\n Vecteurs propres \\n\", vectors)\n",
    "print(\"\\n Valeurs Propres \\n\", values)\n"
   ]
  },
  {
   "cell_type": "markdown",
   "metadata": {
    "id": "1GIGzMBSPxW6"
   },
   "source": [
    "14. Post-multiplier la matrice des données centrées-réduites $X$ par le premier vecteur propre $v_1$ (associé à la plus grande valeur propre $\\lambda_1$) pour obtenir les coordonnées $C_1=Xv_1$ des observations après projection sur le premier axe principal. Vous noterez cet objet python `C1`. Faites de même pour le deuxième vecteur propre $v_2$ et noter l'objet résultant `C2`. Afficher le contenu de `C1`. (1 point)"
   ]
  },
  {
   "cell_type": "code",
   "execution_count": null,
   "metadata": {
    "id": "P5GqkBEGQX1-"
   },
   "outputs": [],
   "source": [
    "# VOTRE CODE ICI\n",
    "\n"
   ]
  },
  {
   "cell_type": "markdown",
   "metadata": {
    "id": "LuodiFlMQsOG"
   },
   "source": [
    "15. Tracer le scatter plot de `C2` en fonction de `C1`. Ajouter sur chaque point les noms des pays et régions, et nommer l'axe horizontal \"Composante 1\" et l'axe vertical \"Composante 2\". (1 point)"
   ]
  },
  {
   "cell_type": "code",
   "execution_count": null,
   "metadata": {
    "id": "YaDHqyFwQxLl"
   },
   "outputs": [],
   "source": [
    "# VOTRE CODE ICI"
   ]
  },
  {
   "cell_type": "markdown",
   "metadata": {
    "id": "RahuY1MLafUl"
   },
   "source": [
    "16. Faire la même chose qu'aux questions 13, 14 et 15 en utilisant la fonction `PCA` de la librairie `sklearn` comme on l'a vu en TP. Vous pouvez agrémenter le graphique que vous afficherez d'une belle légende avec la taille des points qui dépendra de la taille de la population. Il est bon de noter qu'un vecteur propre est défini au signe près. Ainsi, il est possible que le graphique obtenu ici soit en miroir pour l'un ou l'autre (ou les deux) des axes par rapport à celui que vous avez obtenu à la question 15. (1 point)"
   ]
  },
  {
   "cell_type": "code",
   "execution_count": 54,
   "metadata": {
    "id": "BpxDajT8TY0b"
   },
   "outputs": [
    {
     "name": "stdout",
     "output_type": "stream",
     "text": [
      "                composante 0  composante 1  Population\n",
      "Pays ou région                                        \n",
      "Allemagne          -0.880089     -0.426227       83.02\n",
      "Canada             -1.778700     -0.442596       37.59\n",
      "France             -0.715305     -0.261150       66.99\n",
      "GB                 -0.473433     -0.443562       66.65\n",
      "Italie             -1.765113     -0.379729       60.36\n"
     ]
    }
   ],
   "source": [
    "# La fonction adjust_text, vue en TP, permet d'éviter des chevauchements de noms sur le graphique\n",
    "#!pip install adjustText\n",
    "from adjustText import adjust_text\n",
    "from sklearn.decomposition import PCA\n",
    "import matplotlib.pyplot as plt\n",
    "\n",
    "\n",
    "n_components = 2\n",
    "\n",
    "# On crée un objet de type `PCA`\n",
    "pca = PCA(n_components=n_components)\n",
    "\n",
    "# On l'applique sur les données (centrées-réduites) x\n",
    "pca.fit(x)\n",
    "\n",
    "x_transformed = pca.transform(x)\n",
    "\n",
    "pca_names = ['composante %d' % d for d in range(n_components)]\n",
    "data_pca = pd.DataFrame(x_transformed, \n",
    "                            index=data_nobel.index,\n",
    "                            columns=pca_names)\n",
    "\n",
    "# On rajoute la colonne de population au dataframe pour pouvoir l'utiliser dans la visualistation plus tard\n",
    "data_pca['Population'] = data_nobel['Population']\n",
    "\n",
    "# affichons les premieres ligne du nouveau dataframe\n",
    "print(data_pca.head())\n",
    "\n"
   ]
  },
  {
   "cell_type": "code",
   "execution_count": 92,
   "metadata": {
    "id": "l0B8t2IrY-5v"
   },
   "outputs": [
    {
     "data": {
      "image/png": "[encoded data removed]",
      "text/plain": [
       "<Figure size 720x720 with 1 Axes>"
      ]
     },
     "metadata": {
      "needs_background": "light"
     },
     "output_type": "display_data"
    }
   ],
   "source": [
    "# VOTRE CODE ICI\n",
    "\n",
    "#Faisons maintenant le graphique\n",
    "g = sns.scatterplot(x='composante 0',\n",
    "                y='composante 1',\n",
    "                size='Population',\n",
    "                sizes=(20,1000),\n",
    "                data=data_pca\n",
    "                )\n",
    "\n",
    "# on agrandit la figure et on l'annote\n",
    "g.figure.set_size_inches(10,10)\n",
    "ax = plt.gca()\n",
    "texts = []\n",
    "for i, (text_x,text_y) in enumerate(data_pca.iloc[:,:2].to_numpy()):\n",
    "  texts.append(ax.annotate(data_pca.index[i], (text_x,text_y)))\n",
    "adjust_text(texts)\n",
    "\n",
    "## on supprime les informations sur les axes, on rajout un titre et une légende\n",
    "plt.gca().set_yticklabels([])\n",
    "plt.gca().set_xticklabels([])\n",
    "plt.title('Analyse en composante principale');\n",
    "plt.gca().legend(prop={'size': 19}, bbox_to_anchor=(1.0, 0.8));\n"
   ]
  },
  {
   "cell_type": "markdown",
   "metadata": {
    "id": "tKFu7Pv6a3D2"
   },
   "source": [
    "17. Calculer les scores individuels (de qualité de l'ACP) de tous les pays et régions et afficher les dans une belle table dont les lignes seront ordonnées par `scores` croissant et qui contiendra, dans cet ordre, les quatre variables: \"Composante1\", \"Composante2\", \"Population\" et \"scores\". L'index fera apparaître clairement les noms des `Pays ou région`. Interpréter. (1 point)"
   ]
  },
  {
   "cell_type": "code",
   "execution_count": 90,
   "metadata": {
    "id": "QkpHWiqNbC4y"
   },
   "outputs": [
    {
     "data": {
      "text/html": [
       "<div>\n",
       "<style scoped>\n",
       "    .dataframe tbody tr th:only-of-type {\n",
       "        vertical-align: middle;\n",
       "    }\n",
       "\n",
       "    .dataframe tbody tr th {\n",
       "        vertical-align: top;\n",
       "    }\n",
       "\n",
       "    .dataframe thead th {\n",
       "        text-align: right;\n",
       "    }\n",
       "</style>\n",
       "<table border=\"1\" class=\"dataframe\">\n",
       "  <thead>\n",
       "    <tr style=\"text-align: right;\">\n",
       "      <th></th>\n",
       "      <th>composante 0</th>\n",
       "      <th>composante 1</th>\n",
       "      <th>Population</th>\n",
       "      <th>scores</th>\n",
       "    </tr>\n",
       "    <tr>\n",
       "      <th>Pays ou région</th>\n",
       "      <th></th>\n",
       "      <th></th>\n",
       "      <th></th>\n",
       "      <th></th>\n",
       "    </tr>\n",
       "  </thead>\n",
       "  <tbody>\n",
       "    <tr>\n",
       "      <th>Europe</th>\n",
       "      <td>6.753178</td>\n",
       "      <td>0.223539</td>\n",
       "      <td>741.400</td>\n",
       "      <td>-15.215147</td>\n",
       "    </tr>\n",
       "    <tr>\n",
       "      <th>USA</th>\n",
       "      <td>2.411602</td>\n",
       "      <td>-0.896666</td>\n",
       "      <td>328.200</td>\n",
       "      <td>-12.058371</td>\n",
       "    </tr>\n",
       "    <tr>\n",
       "      <th>Amérique</th>\n",
       "      <td>3.173596</td>\n",
       "      <td>-0.319129</td>\n",
       "      <td>1002.000</td>\n",
       "      <td>-11.928047</td>\n",
       "    </tr>\n",
       "    <tr>\n",
       "      <th>Asie</th>\n",
       "      <td>-0.360835</td>\n",
       "      <td>3.335144</td>\n",
       "      <td>4463.000</td>\n",
       "      <td>-8.425320</td>\n",
       "    </tr>\n",
       "    <tr>\n",
       "      <th>France</th>\n",
       "      <td>-0.715305</td>\n",
       "      <td>-0.261150</td>\n",
       "      <td>66.990</td>\n",
       "      <td>-5.433900</td>\n",
       "    </tr>\n",
       "    <tr>\n",
       "      <th>Allemagne</th>\n",
       "      <td>-0.880089</td>\n",
       "      <td>-0.426227</td>\n",
       "      <td>83.020</td>\n",
       "      <td>-4.659419</td>\n",
       "    </tr>\n",
       "    <tr>\n",
       "      <th>Russie</th>\n",
       "      <td>-1.267651</td>\n",
       "      <td>-0.282938</td>\n",
       "      <td>144.500</td>\n",
       "      <td>-4.589936</td>\n",
       "    </tr>\n",
       "    <tr>\n",
       "      <th>Afrique</th>\n",
       "      <td>-1.614118</td>\n",
       "      <td>0.665537</td>\n",
       "      <td>1216.000</td>\n",
       "      <td>-3.493020</td>\n",
       "    </tr>\n",
       "    <tr>\n",
       "      <th>GB</th>\n",
       "      <td>-0.473433</td>\n",
       "      <td>-0.443562</td>\n",
       "      <td>66.650</td>\n",
       "      <td>-3.416732</td>\n",
       "    </tr>\n",
       "    <tr>\n",
       "      <th>Italie</th>\n",
       "      <td>-1.765113</td>\n",
       "      <td>-0.379729</td>\n",
       "      <td>60.360</td>\n",
       "      <td>-3.407590</td>\n",
       "    </tr>\n",
       "    <tr>\n",
       "      <th>Océanie</th>\n",
       "      <td>-1.842378</td>\n",
       "      <td>-0.437254</td>\n",
       "      <td>38.277</td>\n",
       "      <td>-3.167001</td>\n",
       "    </tr>\n",
       "    <tr>\n",
       "      <th>Japon</th>\n",
       "      <td>-1.640754</td>\n",
       "      <td>-0.334969</td>\n",
       "      <td>126.500</td>\n",
       "      <td>-3.165600</td>\n",
       "    </tr>\n",
       "    <tr>\n",
       "      <th>Canada</th>\n",
       "      <td>-1.778700</td>\n",
       "      <td>-0.442596</td>\n",
       "      <td>37.590</td>\n",
       "      <td>-3.044302</td>\n",
       "    </tr>\n",
       "  </tbody>\n",
       "</table>\n",
       "</div>"
      ],
      "text/plain": [
       "                composante 0  composante 1  Population     scores\n",
       "Pays ou région                                                   \n",
       "Europe              6.753178      0.223539     741.400 -15.215147\n",
       "USA                 2.411602     -0.896666     328.200 -12.058371\n",
       "Amérique            3.173596     -0.319129    1002.000 -11.928047\n",
       "Asie               -0.360835      3.335144    4463.000  -8.425320\n",
       "France             -0.715305     -0.261150      66.990  -5.433900\n",
       "Allemagne          -0.880089     -0.426227      83.020  -4.659419\n",
       "Russie             -1.267651     -0.282938     144.500  -4.589936\n",
       "Afrique            -1.614118      0.665537    1216.000  -3.493020\n",
       "GB                 -0.473433     -0.443562      66.650  -3.416732\n",
       "Italie             -1.765113     -0.379729      60.360  -3.407590\n",
       "Océanie            -1.842378     -0.437254      38.277  -3.167001\n",
       "Japon              -1.640754     -0.334969     126.500  -3.165600\n",
       "Canada             -1.778700     -0.442596      37.590  -3.044302"
      ]
     },
     "execution_count": 90,
     "metadata": {},
     "output_type": "execute_result"
    }
   ],
   "source": [
    "# VOTRE CODE ICI\n",
    "#création du dataframe en récupérant les données des composantes\n",
    "df_data_pca = pd.DataFrame(x_transformed, \n",
    "                            index=data_nobel.index,\n",
    "                            columns=pca_names)\n",
    "df_data_pca.rename(columns={'composante 0': 'Composante 1', 'composante 1': 'Composante 2'})\n",
    "df_data_pca['Population'] = data_nobel['Population']\n",
    "df_data_pca['scores'] = (pca.score_samples(x))\n",
    "\n",
    "#On trie les lignes par score croissant\n",
    "df_data_pca = df_data_pca.sort_values(by=['scores'])\n",
    "df_data_pca"
   ]
  },
  {
   "cell_type": "markdown",
   "metadata": {
    "id": "in2GaHnkb_59"
   },
   "source": [
    "18. Faire un graphique du pourcentage de variance expliquée cumulée. Que constatez-vous? (1 point)"
   ]
  },
  {
   "cell_type": "code",
   "execution_count": 97,
   "metadata": {
    "id": "XE7ixWqMcXRC"
   },
   "outputs": [
    {
     "data": {
      "image/png": "[encoded data removed]",
      "text/plain": [
       "<Figure size 432x288 with 1 Axes>"
      ]
     },
     "metadata": {
      "needs_background": "light"
     },
     "output_type": "display_data"
    }
   ],
   "source": [
    "# VOTRE CODE ICI\n",
    "n_components = 8\n",
    "\n",
    "# On crée un objet de type `PCA`\n",
    "pca2 = PCA(n_components=n_components)\n",
    "\n",
    "# On l'applique sur les données (centrées-réduites) x\n",
    "pca2.fit(x)\n",
    "\n",
    "x_transformed2 = pca2.transform(x)\n",
    "\n",
    "pca_names2 = ['composante %d' % d for d in range(n_components)]\n",
    "data_pca2 = pd.DataFrame(x_transformed2, \n",
    "                            index=data_nobel.index,\n",
    "                            columns=pca_names2)\n",
    "\n",
    "# On rajoute la colonne de population au dataframe pour pouvoir l'utiliser dans la visualistation plus tard\n",
    "data_pca2['Population'] = data_nobel['Population']\n",
    "\n",
    "# affichons les premieres ligne du nouveau dataframe\n",
    "li = range(0,8)\n",
    "\n",
    "plt.plot(li , pca2.explained_variance_ratio_.cumsum())\n",
    "plt.xlabel('Composante')\n",
    "plt.title('Proportion cumulée de la varaince expliquée')\n",
    "plt.ylabel('Proportion expliquée')\n",
    "plt.grid()"
   ]
  },
  {
   "cell_type": "markdown",
   "metadata": {},
   "source": [
    "### On constate que plus la composante est grande, mieux les données sont expliquées mais que les données sont dèjà bien expliquées à partir de 2 composantes du fait de la croissance très rapide de la courbe de la variance cumulée en fonction des composantes"
   ]
  },
  {
   "cell_type": "markdown",
   "metadata": {
    "id": "LZpVobA8mhR2"
   },
   "source": [
    "19. Calculer la corrélation entre la composante 1 et chacune des 8 variables du jeu de données `data_nobel`. Faites de même pour la deuxième composante. Afficher ces valeurs de corrélation dans une table de dimension $8\\times2$ faisant clairement apparaître les noms des pays ou régions en ligne, et les noms \"Composante1\" et \"Composante2\" pour les deux colonnes. (1 point)"
   ]
  },
  {
   "cell_type": "code",
   "execution_count": 89,
   "metadata": {
    "id": "2j328-N6m-HB"
   },
   "outputs": [
    {
     "data": {
      "text/html": [
       "<div>\n",
       "<style scoped>\n",
       "    .dataframe tbody tr th:only-of-type {\n",
       "        vertical-align: middle;\n",
       "    }\n",
       "\n",
       "    .dataframe tbody tr th {\n",
       "        vertical-align: top;\n",
       "    }\n",
       "\n",
       "    .dataframe thead th {\n",
       "        text-align: right;\n",
       "    }\n",
       "</style>\n",
       "<table border=\"1\" class=\"dataframe\">\n",
       "  <thead>\n",
       "    <tr style=\"text-align: right;\">\n",
       "      <th></th>\n",
       "      <th>Composante 1</th>\n",
       "      <th>Composante 2</th>\n",
       "    </tr>\n",
       "  </thead>\n",
       "  <tbody>\n",
       "    <tr>\n",
       "      <th>0</th>\n",
       "      <td>0.986427</td>\n",
       "      <td>-0.039680</td>\n",
       "    </tr>\n",
       "    <tr>\n",
       "      <th>1</th>\n",
       "      <td>0.789256</td>\n",
       "      <td>-0.220119</td>\n",
       "    </tr>\n",
       "    <tr>\n",
       "      <th>2</th>\n",
       "      <td>0.875590</td>\n",
       "      <td>0.101732</td>\n",
       "    </tr>\n",
       "    <tr>\n",
       "      <th>3</th>\n",
       "      <td>0.978057</td>\n",
       "      <td>-0.151982</td>\n",
       "    </tr>\n",
       "    <tr>\n",
       "      <th>4</th>\n",
       "      <td>0.969757</td>\n",
       "      <td>0.184069</td>\n",
       "    </tr>\n",
       "    <tr>\n",
       "      <th>5</th>\n",
       "      <td>0.985261</td>\n",
       "      <td>-0.063845</td>\n",
       "    </tr>\n",
       "    <tr>\n",
       "      <th>6</th>\n",
       "      <td>0.941375</td>\n",
       "      <td>0.040742</td>\n",
       "    </tr>\n",
       "    <tr>\n",
       "      <th>7</th>\n",
       "      <td>0.122861</td>\n",
       "      <td>0.964441</td>\n",
       "    </tr>\n",
       "  </tbody>\n",
       "</table>\n",
       "</div>"
      ],
      "text/plain": [
       "   Composante 1  Composante 2\n",
       "0      0.986427     -0.039680\n",
       "1      0.789256     -0.220119\n",
       "2      0.875590      0.101732\n",
       "3      0.978057     -0.151982\n",
       "4      0.969757      0.184069\n",
       "5      0.985261     -0.063845\n",
       "6      0.941375      0.040742\n",
       "7      0.122861      0.964441"
      ]
     },
     "execution_count": 89,
     "metadata": {},
     "output_type": "execute_result"
    }
   ],
   "source": [
    "# VOTRE CODE ICI\n",
    "data_nobel['Chimie'].corr(df_data_pca['composante 0'])\n",
    "df_corr = pd.DataFrame(columns = ['Composante 1','Composante 2'])\n",
    "df_corr['Composante 1']=[data_nobel['Chimie'].corr(df_data_pca['composante 0'])\n",
    ",data_nobel['Economie'].corr(df_data_pca['composante 0'])\n",
    "                         ,data_nobel['Littérature'].corr(df_data_pca['composante 0'])\n",
    "                         ,data_nobel['Médecine'].corr(df_data_pca['composante 0'])\n",
    "                         ,data_nobel['Paix'].corr(df_data_pca['composante 0'])\n",
    "                         ,data_nobel['Physique'].corr(df_data_pca['composante 0'])\n",
    "                         ,data_nobel['Mathématiques'].corr(df_data_pca['composante 0'])\n",
    "                         ,data_nobel['Population'].corr(df_data_pca['composante 0'])]\n",
    "df_corr['Composante 2']=[data_nobel['Chimie'].corr(df_data_pca['composante 1'])\n",
    ",data_nobel['Economie'].corr(df_data_pca['composante 1'])\n",
    "                         ,data_nobel['Littérature'].corr(df_data_pca['composante 1'])\n",
    "                         ,data_nobel['Médecine'].corr(df_data_pca['composante 1'])\n",
    "                         ,data_nobel['Paix'].corr(df_data_pca['composante 1'])\n",
    "                         ,data_nobel['Physique'].corr(df_data_pca['composante 1'])\n",
    "                         ,data_nobel['Mathématiques'].corr(df_data_pca['composante 1'])\n",
    "                         ,data_nobel['Population'].corr(df_data_pca['composante 1'])]\n",
    "df_corr"
   ]
  },
  {
   "cell_type": "markdown",
   "metadata": {
    "id": "vjsiit0gsZ9U"
   },
   "source": [
    "20. Servez-vous de ces résultats pour interpréter les deux axes du nuage de points de la question 15 (ou 16). (1 point)"
   ]
  },
  {
   "cell_type": "markdown",
   "metadata": {
    "id": "FgZVwlXg3LYf"
   },
   "source": [
    "**Interprétation:**\n",
    "Plus "
   ]
  }
 ],
 "metadata": {
  "colab": {
   "collapsed_sections": [],
   "name": "exam_V3DMI5_2020.ipynb",
   "provenance": []
  },
  "kernelspec": {
   "display_name": "Python 3",
   "language": "python",
   "name": "python3"
  },
  "language_info": {
   "codemirror_mode": {
    "name": "ipython",
    "version": 3
   },
   "file_extension": ".py",
   "mimetype": "text/x-python",
   "name": "python",
   "nbconvert_exporter": "python",
   "pygments_lexer": "ipython3",
   "version": "3.7.9"
  }
 },
 "nbformat": 4,
 "nbformat_minor": 1
}
